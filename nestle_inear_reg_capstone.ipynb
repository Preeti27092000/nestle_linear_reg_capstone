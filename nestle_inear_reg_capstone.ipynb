{
  "cells": [
    {
      "cell_type": "markdown",
      "metadata": {
        "id": "view-in-github",
        "colab_type": "text"
      },
      "source": [
        "<a href=\"https://colab.research.google.com/github/Preeti27092000/nestle_linear_reg_capstone/blob/main/nestle_inear_reg_capstone.ipynb\" target=\"_parent\"><img src=\"https://colab.research.google.com/assets/colab-badge.svg\" alt=\"Open In Colab\"/></a>"
      ]
    },
    {
      "cell_type": "markdown",
      "id": "b51fe18e",
      "metadata": {
        "id": "b51fe18e"
      },
      "source": [
        "# NESTLE INDIA STOCK PRICE PREDICTION ALGORITHM "
      ]
    },
    {
      "cell_type": "markdown",
      "id": "aaa1580d",
      "metadata": {
        "id": "aaa1580d"
      },
      "source": [
        "**Nestlé India Limited is the Indian subsidiary of Nestlé which is a Swiss multinational company.The company's products include food, beverages, chocolate, and confectioneries.**"
      ]
    },
    {
      "cell_type": "markdown",
      "id": "479d5d6c",
      "metadata": {
        "id": "479d5d6c"
      },
      "source": [
        "## Problem Statement"
      ]
    },
    {
      "cell_type": "markdown",
      "id": "5b65bdfb",
      "metadata": {
        "id": "5b65bdfb"
      },
      "source": [
        "**Here we are working to predict Nestle stock price on the basis of data we collected from the day 1 when it entered into Stock \n",
        "market. On the basis of different external factors and past behaviour of data we need to predict how it will perform in specific condition.**"
      ]
    },
    {
      "cell_type": "markdown",
      "id": "f39ad576",
      "metadata": {
        "id": "f39ad576"
      },
      "source": [
        "## Approach"
      ]
    },
    {
      "cell_type": "markdown",
      "id": "540e4667",
      "metadata": {
        "id": "540e4667"
      },
      "source": [
        "**As this problem predicts stock price it is numerical category problem where result can be any number, hence it is Continuous\n",
        "distribution problem where we can apply Linear Regression Algorithm.Here we will also try to consider the effect of Time Series analysis and economic factors.**"
      ]
    },
    {
      "cell_type": "markdown",
      "id": "fcbd3dda",
      "metadata": {
        "id": "fcbd3dda"
      },
      "source": [
        "## Steps are as follows : "
      ]
    },
    {
      "cell_type": "markdown",
      "id": "dadacb50",
      "metadata": {
        "id": "dadacb50"
      },
      "source": [
        "## 1. Import necessary libraries "
      ]
    },
    {
      "cell_type": "code",
      "execution_count": 13,
      "id": "6a291689",
      "metadata": {
        "id": "6a291689"
      },
      "outputs": [],
      "source": [
        "# pandas = used to load and read data\n",
        "import pandas as pd\n",
        "# numpy = used to do calculation between dataframe columns\n",
        "import numpy as np\n",
        "# matplotlib.pyplot = used to visualise data using various graph methods available in it\n",
        "import matplotlib.pyplot as plt"
      ]
    },
    {
      "cell_type": "markdown",
      "id": "b0043a70",
      "metadata": {
        "id": "b0043a70"
      },
      "source": [
        "## 2. Load and read data"
      ]
    },
    {
      "cell_type": "code",
      "source": [
        "from google.colab import drive\n",
        "drive.mount('/content/drive')"
      ],
      "metadata": {
        "colab": {
          "base_uri": "https://localhost:8080/"
        },
        "id": "LcPUK1UAiTcW",
        "outputId": "a855ab24-b366-4d9b-fb63-87ea33b761da"
      },
      "id": "LcPUK1UAiTcW",
      "execution_count": 14,
      "outputs": [
        {
          "output_type": "stream",
          "name": "stdout",
          "text": [
            "Drive already mounted at /content/drive; to attempt to forcibly remount, call drive.mount(\"/content/drive\", force_remount=True).\n"
          ]
        }
      ]
    },
    {
      "cell_type": "code",
      "source": [
        "file = \"/content/drive/MyDrive/Copy of NESTLEIND_daily_full.csv\""
      ],
      "metadata": {
        "id": "Hcs72xu6ieog"
      },
      "id": "Hcs72xu6ieog",
      "execution_count": 15,
      "outputs": []
    },
    {
      "cell_type": "code",
      "execution_count": 16,
      "id": "f86c3c34",
      "metadata": {
        "colab": {
          "base_uri": "https://localhost:8080/",
          "height": 206
        },
        "id": "f86c3c34",
        "outputId": "ce7ffdf6-4d5e-43a7-9eeb-b9cc875dc974"
      },
      "outputs": [
        {
          "output_type": "execute_result",
          "data": {
            "text/plain": [
              "         Date        Open        High         Low       Close   Adj Close  \\\n",
              "0  2002-08-12  508.100006  512.549988  505.000000  505.149994  415.997742   \n",
              "1  2002-08-13  503.500000  515.000000  503.500000  509.049988  419.209534   \n",
              "2  2002-08-14  502.100006  515.000000  502.100006  514.400024  423.615234   \n",
              "3  2002-08-15  514.400024  514.400024  514.400024  514.400024  423.615234   \n",
              "4  2002-08-16  516.000000  516.849976  510.000000  511.000000  420.815247   \n",
              "\n",
              "    Volume  \n",
              "0   7100.0  \n",
              "1   8800.0  \n",
              "2  18700.0  \n",
              "3      0.0  \n",
              "4   9400.0  "
            ],
            "text/html": [
              "\n",
              "  <div id=\"df-43f79b33-0f3c-414b-9052-370090a310bc\">\n",
              "    <div class=\"colab-df-container\">\n",
              "      <div>\n",
              "<style scoped>\n",
              "    .dataframe tbody tr th:only-of-type {\n",
              "        vertical-align: middle;\n",
              "    }\n",
              "\n",
              "    .dataframe tbody tr th {\n",
              "        vertical-align: top;\n",
              "    }\n",
              "\n",
              "    .dataframe thead th {\n",
              "        text-align: right;\n",
              "    }\n",
              "</style>\n",
              "<table border=\"1\" class=\"dataframe\">\n",
              "  <thead>\n",
              "    <tr style=\"text-align: right;\">\n",
              "      <th></th>\n",
              "      <th>Date</th>\n",
              "      <th>Open</th>\n",
              "      <th>High</th>\n",
              "      <th>Low</th>\n",
              "      <th>Close</th>\n",
              "      <th>Adj Close</th>\n",
              "      <th>Volume</th>\n",
              "    </tr>\n",
              "  </thead>\n",
              "  <tbody>\n",
              "    <tr>\n",
              "      <th>0</th>\n",
              "      <td>2002-08-12</td>\n",
              "      <td>508.100006</td>\n",
              "      <td>512.549988</td>\n",
              "      <td>505.000000</td>\n",
              "      <td>505.149994</td>\n",
              "      <td>415.997742</td>\n",
              "      <td>7100.0</td>\n",
              "    </tr>\n",
              "    <tr>\n",
              "      <th>1</th>\n",
              "      <td>2002-08-13</td>\n",
              "      <td>503.500000</td>\n",
              "      <td>515.000000</td>\n",
              "      <td>503.500000</td>\n",
              "      <td>509.049988</td>\n",
              "      <td>419.209534</td>\n",
              "      <td>8800.0</td>\n",
              "    </tr>\n",
              "    <tr>\n",
              "      <th>2</th>\n",
              "      <td>2002-08-14</td>\n",
              "      <td>502.100006</td>\n",
              "      <td>515.000000</td>\n",
              "      <td>502.100006</td>\n",
              "      <td>514.400024</td>\n",
              "      <td>423.615234</td>\n",
              "      <td>18700.0</td>\n",
              "    </tr>\n",
              "    <tr>\n",
              "      <th>3</th>\n",
              "      <td>2002-08-15</td>\n",
              "      <td>514.400024</td>\n",
              "      <td>514.400024</td>\n",
              "      <td>514.400024</td>\n",
              "      <td>514.400024</td>\n",
              "      <td>423.615234</td>\n",
              "      <td>0.0</td>\n",
              "    </tr>\n",
              "    <tr>\n",
              "      <th>4</th>\n",
              "      <td>2002-08-16</td>\n",
              "      <td>516.000000</td>\n",
              "      <td>516.849976</td>\n",
              "      <td>510.000000</td>\n",
              "      <td>511.000000</td>\n",
              "      <td>420.815247</td>\n",
              "      <td>9400.0</td>\n",
              "    </tr>\n",
              "  </tbody>\n",
              "</table>\n",
              "</div>\n",
              "      <button class=\"colab-df-convert\" onclick=\"convertToInteractive('df-43f79b33-0f3c-414b-9052-370090a310bc')\"\n",
              "              title=\"Convert this dataframe to an interactive table.\"\n",
              "              style=\"display:none;\">\n",
              "        \n",
              "  <svg xmlns=\"http://www.w3.org/2000/svg\" height=\"24px\"viewBox=\"0 0 24 24\"\n",
              "       width=\"24px\">\n",
              "    <path d=\"M0 0h24v24H0V0z\" fill=\"none\"/>\n",
              "    <path d=\"M18.56 5.44l.94 2.06.94-2.06 2.06-.94-2.06-.94-.94-2.06-.94 2.06-2.06.94zm-11 1L8.5 8.5l.94-2.06 2.06-.94-2.06-.94L8.5 2.5l-.94 2.06-2.06.94zm10 10l.94 2.06.94-2.06 2.06-.94-2.06-.94-.94-2.06-.94 2.06-2.06.94z\"/><path d=\"M17.41 7.96l-1.37-1.37c-.4-.4-.92-.59-1.43-.59-.52 0-1.04.2-1.43.59L10.3 9.45l-7.72 7.72c-.78.78-.78 2.05 0 2.83L4 21.41c.39.39.9.59 1.41.59.51 0 1.02-.2 1.41-.59l7.78-7.78 2.81-2.81c.8-.78.8-2.07 0-2.86zM5.41 20L4 18.59l7.72-7.72 1.47 1.35L5.41 20z\"/>\n",
              "  </svg>\n",
              "      </button>\n",
              "      \n",
              "  <style>\n",
              "    .colab-df-container {\n",
              "      display:flex;\n",
              "      flex-wrap:wrap;\n",
              "      gap: 12px;\n",
              "    }\n",
              "\n",
              "    .colab-df-convert {\n",
              "      background-color: #E8F0FE;\n",
              "      border: none;\n",
              "      border-radius: 50%;\n",
              "      cursor: pointer;\n",
              "      display: none;\n",
              "      fill: #1967D2;\n",
              "      height: 32px;\n",
              "      padding: 0 0 0 0;\n",
              "      width: 32px;\n",
              "    }\n",
              "\n",
              "    .colab-df-convert:hover {\n",
              "      background-color: #E2EBFA;\n",
              "      box-shadow: 0px 1px 2px rgba(60, 64, 67, 0.3), 0px 1px 3px 1px rgba(60, 64, 67, 0.15);\n",
              "      fill: #174EA6;\n",
              "    }\n",
              "\n",
              "    [theme=dark] .colab-df-convert {\n",
              "      background-color: #3B4455;\n",
              "      fill: #D2E3FC;\n",
              "    }\n",
              "\n",
              "    [theme=dark] .colab-df-convert:hover {\n",
              "      background-color: #434B5C;\n",
              "      box-shadow: 0px 1px 3px 1px rgba(0, 0, 0, 0.15);\n",
              "      filter: drop-shadow(0px 1px 2px rgba(0, 0, 0, 0.3));\n",
              "      fill: #FFFFFF;\n",
              "    }\n",
              "  </style>\n",
              "\n",
              "      <script>\n",
              "        const buttonEl =\n",
              "          document.querySelector('#df-43f79b33-0f3c-414b-9052-370090a310bc button.colab-df-convert');\n",
              "        buttonEl.style.display =\n",
              "          google.colab.kernel.accessAllowed ? 'block' : 'none';\n",
              "\n",
              "        async function convertToInteractive(key) {\n",
              "          const element = document.querySelector('#df-43f79b33-0f3c-414b-9052-370090a310bc');\n",
              "          const dataTable =\n",
              "            await google.colab.kernel.invokeFunction('convertToInteractive',\n",
              "                                                     [key], {});\n",
              "          if (!dataTable) return;\n",
              "\n",
              "          const docLinkHtml = 'Like what you see? Visit the ' +\n",
              "            '<a target=\"_blank\" href=https://colab.research.google.com/notebooks/data_table.ipynb>data table notebook</a>'\n",
              "            + ' to learn more about interactive tables.';\n",
              "          element.innerHTML = '';\n",
              "          dataTable['output_type'] = 'display_data';\n",
              "          await google.colab.output.renderOutput(dataTable, element);\n",
              "          const docLink = document.createElement('div');\n",
              "          docLink.innerHTML = docLinkHtml;\n",
              "          element.appendChild(docLink);\n",
              "        }\n",
              "      </script>\n",
              "    </div>\n",
              "  </div>\n",
              "  "
            ]
          },
          "metadata": {},
          "execution_count": 16
        }
      ],
      "source": [
        "#@title Default title text\n",
        "# read the csv file \n",
        "df_nestle = pd.read_csv(file)\n",
        "# check 1st five rows of each column of dataframe\n",
        "df_nestle.head()"
      ]
    },
    {
      "cell_type": "markdown",
      "id": "0736b634",
      "metadata": {
        "id": "0736b634"
      },
      "source": [
        "## 3. Data Profiling"
      ]
    },
    {
      "cell_type": "code",
      "execution_count": 17,
      "id": "45b5a13e",
      "metadata": {
        "colab": {
          "base_uri": "https://localhost:8080/"
        },
        "id": "45b5a13e",
        "outputId": "8f856c92-72b2-430d-9230-ee68268cf1f3"
      },
      "outputs": [
        {
          "output_type": "execute_result",
          "data": {
            "text/plain": [
              "(4826, 7)"
            ]
          },
          "metadata": {},
          "execution_count": 17
        }
      ],
      "source": [
        "# to check the shape of the dataframe\n",
        "# returns as (rows,columns)\n",
        "df_nestle.shape"
      ]
    },
    {
      "cell_type": "markdown",
      "id": "97f1750b",
      "metadata": {
        "id": "97f1750b"
      },
      "source": [
        "**--> There are 4826 observations (rows) and 7 features (columns) in dataframe.**"
      ]
    },
    {
      "cell_type": "code",
      "execution_count": 18,
      "id": "bd79ded1",
      "metadata": {
        "colab": {
          "base_uri": "https://localhost:8080/"
        },
        "id": "bd79ded1",
        "outputId": "c5856334-71fb-444e-ef7f-0c5283d602cc"
      },
      "outputs": [
        {
          "output_type": "execute_result",
          "data": {
            "text/plain": [
              "Index(['Date', 'Open', 'High', 'Low', 'Close', 'Adj Close', 'Volume'], dtype='object')"
            ]
          },
          "metadata": {},
          "execution_count": 18
        }
      ],
      "source": [
        "# to get the name of each column\n",
        "df_nestle.columns"
      ]
    },
    {
      "cell_type": "code",
      "execution_count": 19,
      "id": "46013020",
      "metadata": {
        "colab": {
          "base_uri": "https://localhost:8080/"
        },
        "id": "46013020",
        "outputId": "9ea5f42b-812c-43b9-942c-bcb556e310ed"
      },
      "outputs": [
        {
          "output_type": "stream",
          "name": "stdout",
          "text": [
            "<class 'pandas.core.frame.DataFrame'>\n",
            "RangeIndex: 4826 entries, 0 to 4825\n",
            "Data columns (total 7 columns):\n",
            " #   Column     Non-Null Count  Dtype  \n",
            "---  ------     --------------  -----  \n",
            " 0   Date       4826 non-null   object \n",
            " 1   Open       4819 non-null   float64\n",
            " 2   High       4819 non-null   float64\n",
            " 3   Low        4819 non-null   float64\n",
            " 4   Close      4819 non-null   float64\n",
            " 5   Adj Close  4819 non-null   float64\n",
            " 6   Volume     4819 non-null   float64\n",
            "dtypes: float64(6), object(1)\n",
            "memory usage: 264.0+ KB\n"
          ]
        }
      ],
      "source": [
        "# to get the information about the data\n",
        "# it will return column name and its datatypes as well number of rows where each cell contains some value(non-null number)\n",
        "df_nestle.info()"
      ]
    },
    {
      "cell_type": "markdown",
      "id": "d09f677d",
      "metadata": {
        "id": "d09f677d"
      },
      "source": [
        "**--> Here we can see there can be null values except 'Date' column**"
      ]
    },
    {
      "cell_type": "code",
      "execution_count": 20,
      "id": "5ffc0ec1",
      "metadata": {
        "colab": {
          "base_uri": "https://localhost:8080/",
          "height": 300
        },
        "id": "5ffc0ec1",
        "outputId": "61ca01cb-ac4f-4350-c6e2-a0987659ef6d"
      },
      "outputs": [
        {
          "output_type": "execute_result",
          "data": {
            "text/plain": [
              "               Open          High           Low         Close     Adj Close  \\\n",
              "count   4819.000000   4819.000000   4819.000000   4819.000000   4819.000000   \n",
              "mean    5204.690766   5260.786466   5145.069648   5201.452563   4838.138436   \n",
              "std     5292.899033   5349.956141   5229.311467   5289.042545   5162.053461   \n",
              "min      502.100006    512.549988    498.049988    505.149994    415.997742   \n",
              "25%      527.049988    527.049988    527.049988    527.049988    441.999664   \n",
              "50%     4436.000000   4479.000000   4396.000000   4434.000000   3875.172607   \n",
              "75%     6801.350098   6860.125000   6725.125000   6795.324951   6184.599853   \n",
              "max    20450.000000  20609.150391  20230.000000  20457.199219  20164.644531   \n",
              "\n",
              "             Volume  \n",
              "count  4.819000e+03  \n",
              "mean   3.469234e+04  \n",
              "std    6.186095e+04  \n",
              "min    0.000000e+00  \n",
              "25%    0.000000e+00  \n",
              "50%    1.450600e+04  \n",
              "75%    4.544950e+04  \n",
              "max    1.106746e+06  "
            ],
            "text/html": [
              "\n",
              "  <div id=\"df-0ca39946-93ba-41b6-872c-bf1576e59630\">\n",
              "    <div class=\"colab-df-container\">\n",
              "      <div>\n",
              "<style scoped>\n",
              "    .dataframe tbody tr th:only-of-type {\n",
              "        vertical-align: middle;\n",
              "    }\n",
              "\n",
              "    .dataframe tbody tr th {\n",
              "        vertical-align: top;\n",
              "    }\n",
              "\n",
              "    .dataframe thead th {\n",
              "        text-align: right;\n",
              "    }\n",
              "</style>\n",
              "<table border=\"1\" class=\"dataframe\">\n",
              "  <thead>\n",
              "    <tr style=\"text-align: right;\">\n",
              "      <th></th>\n",
              "      <th>Open</th>\n",
              "      <th>High</th>\n",
              "      <th>Low</th>\n",
              "      <th>Close</th>\n",
              "      <th>Adj Close</th>\n",
              "      <th>Volume</th>\n",
              "    </tr>\n",
              "  </thead>\n",
              "  <tbody>\n",
              "    <tr>\n",
              "      <th>count</th>\n",
              "      <td>4819.000000</td>\n",
              "      <td>4819.000000</td>\n",
              "      <td>4819.000000</td>\n",
              "      <td>4819.000000</td>\n",
              "      <td>4819.000000</td>\n",
              "      <td>4.819000e+03</td>\n",
              "    </tr>\n",
              "    <tr>\n",
              "      <th>mean</th>\n",
              "      <td>5204.690766</td>\n",
              "      <td>5260.786466</td>\n",
              "      <td>5145.069648</td>\n",
              "      <td>5201.452563</td>\n",
              "      <td>4838.138436</td>\n",
              "      <td>3.469234e+04</td>\n",
              "    </tr>\n",
              "    <tr>\n",
              "      <th>std</th>\n",
              "      <td>5292.899033</td>\n",
              "      <td>5349.956141</td>\n",
              "      <td>5229.311467</td>\n",
              "      <td>5289.042545</td>\n",
              "      <td>5162.053461</td>\n",
              "      <td>6.186095e+04</td>\n",
              "    </tr>\n",
              "    <tr>\n",
              "      <th>min</th>\n",
              "      <td>502.100006</td>\n",
              "      <td>512.549988</td>\n",
              "      <td>498.049988</td>\n",
              "      <td>505.149994</td>\n",
              "      <td>415.997742</td>\n",
              "      <td>0.000000e+00</td>\n",
              "    </tr>\n",
              "    <tr>\n",
              "      <th>25%</th>\n",
              "      <td>527.049988</td>\n",
              "      <td>527.049988</td>\n",
              "      <td>527.049988</td>\n",
              "      <td>527.049988</td>\n",
              "      <td>441.999664</td>\n",
              "      <td>0.000000e+00</td>\n",
              "    </tr>\n",
              "    <tr>\n",
              "      <th>50%</th>\n",
              "      <td>4436.000000</td>\n",
              "      <td>4479.000000</td>\n",
              "      <td>4396.000000</td>\n",
              "      <td>4434.000000</td>\n",
              "      <td>3875.172607</td>\n",
              "      <td>1.450600e+04</td>\n",
              "    </tr>\n",
              "    <tr>\n",
              "      <th>75%</th>\n",
              "      <td>6801.350098</td>\n",
              "      <td>6860.125000</td>\n",
              "      <td>6725.125000</td>\n",
              "      <td>6795.324951</td>\n",
              "      <td>6184.599853</td>\n",
              "      <td>4.544950e+04</td>\n",
              "    </tr>\n",
              "    <tr>\n",
              "      <th>max</th>\n",
              "      <td>20450.000000</td>\n",
              "      <td>20609.150391</td>\n",
              "      <td>20230.000000</td>\n",
              "      <td>20457.199219</td>\n",
              "      <td>20164.644531</td>\n",
              "      <td>1.106746e+06</td>\n",
              "    </tr>\n",
              "  </tbody>\n",
              "</table>\n",
              "</div>\n",
              "      <button class=\"colab-df-convert\" onclick=\"convertToInteractive('df-0ca39946-93ba-41b6-872c-bf1576e59630')\"\n",
              "              title=\"Convert this dataframe to an interactive table.\"\n",
              "              style=\"display:none;\">\n",
              "        \n",
              "  <svg xmlns=\"http://www.w3.org/2000/svg\" height=\"24px\"viewBox=\"0 0 24 24\"\n",
              "       width=\"24px\">\n",
              "    <path d=\"M0 0h24v24H0V0z\" fill=\"none\"/>\n",
              "    <path d=\"M18.56 5.44l.94 2.06.94-2.06 2.06-.94-2.06-.94-.94-2.06-.94 2.06-2.06.94zm-11 1L8.5 8.5l.94-2.06 2.06-.94-2.06-.94L8.5 2.5l-.94 2.06-2.06.94zm10 10l.94 2.06.94-2.06 2.06-.94-2.06-.94-.94-2.06-.94 2.06-2.06.94z\"/><path d=\"M17.41 7.96l-1.37-1.37c-.4-.4-.92-.59-1.43-.59-.52 0-1.04.2-1.43.59L10.3 9.45l-7.72 7.72c-.78.78-.78 2.05 0 2.83L4 21.41c.39.39.9.59 1.41.59.51 0 1.02-.2 1.41-.59l7.78-7.78 2.81-2.81c.8-.78.8-2.07 0-2.86zM5.41 20L4 18.59l7.72-7.72 1.47 1.35L5.41 20z\"/>\n",
              "  </svg>\n",
              "      </button>\n",
              "      \n",
              "  <style>\n",
              "    .colab-df-container {\n",
              "      display:flex;\n",
              "      flex-wrap:wrap;\n",
              "      gap: 12px;\n",
              "    }\n",
              "\n",
              "    .colab-df-convert {\n",
              "      background-color: #E8F0FE;\n",
              "      border: none;\n",
              "      border-radius: 50%;\n",
              "      cursor: pointer;\n",
              "      display: none;\n",
              "      fill: #1967D2;\n",
              "      height: 32px;\n",
              "      padding: 0 0 0 0;\n",
              "      width: 32px;\n",
              "    }\n",
              "\n",
              "    .colab-df-convert:hover {\n",
              "      background-color: #E2EBFA;\n",
              "      box-shadow: 0px 1px 2px rgba(60, 64, 67, 0.3), 0px 1px 3px 1px rgba(60, 64, 67, 0.15);\n",
              "      fill: #174EA6;\n",
              "    }\n",
              "\n",
              "    [theme=dark] .colab-df-convert {\n",
              "      background-color: #3B4455;\n",
              "      fill: #D2E3FC;\n",
              "    }\n",
              "\n",
              "    [theme=dark] .colab-df-convert:hover {\n",
              "      background-color: #434B5C;\n",
              "      box-shadow: 0px 1px 3px 1px rgba(0, 0, 0, 0.15);\n",
              "      filter: drop-shadow(0px 1px 2px rgba(0, 0, 0, 0.3));\n",
              "      fill: #FFFFFF;\n",
              "    }\n",
              "  </style>\n",
              "\n",
              "      <script>\n",
              "        const buttonEl =\n",
              "          document.querySelector('#df-0ca39946-93ba-41b6-872c-bf1576e59630 button.colab-df-convert');\n",
              "        buttonEl.style.display =\n",
              "          google.colab.kernel.accessAllowed ? 'block' : 'none';\n",
              "\n",
              "        async function convertToInteractive(key) {\n",
              "          const element = document.querySelector('#df-0ca39946-93ba-41b6-872c-bf1576e59630');\n",
              "          const dataTable =\n",
              "            await google.colab.kernel.invokeFunction('convertToInteractive',\n",
              "                                                     [key], {});\n",
              "          if (!dataTable) return;\n",
              "\n",
              "          const docLinkHtml = 'Like what you see? Visit the ' +\n",
              "            '<a target=\"_blank\" href=https://colab.research.google.com/notebooks/data_table.ipynb>data table notebook</a>'\n",
              "            + ' to learn more about interactive tables.';\n",
              "          element.innerHTML = '';\n",
              "          dataTable['output_type'] = 'display_data';\n",
              "          await google.colab.output.renderOutput(dataTable, element);\n",
              "          const docLink = document.createElement('div');\n",
              "          docLink.innerHTML = docLinkHtml;\n",
              "          element.appendChild(docLink);\n",
              "        }\n",
              "      </script>\n",
              "    </div>\n",
              "  </div>\n",
              "  "
            ]
          },
          "metadata": {},
          "execution_count": 20
        }
      ],
      "source": [
        "# to check the basic statistics of each column\n",
        "# count = Number of rows where element is present\n",
        "# mean  = average\n",
        "# std = Standard deviation used to know in what range and how far data is distributed\n",
        "# min = minimum value\n",
        "# 25% = 1st quartile which means 25% of the data is below the q1 value\n",
        "# 50% = 2nd quartile which means 50% of the data is below the q2 value (median)\n",
        "# 75% = 3rd quartile which means 75% of the data is below the q3 value\n",
        "# max = maximum value of the data \n",
        "df_nestle.describe()"
      ]
    },
    {
      "cell_type": "markdown",
      "id": "a0703419",
      "metadata": {
        "id": "a0703419"
      },
      "source": [
        "**--> Here we can see there are most columns present where mean and median are almost at same range. But if we find large difference between mean and median, then there are chanced to have outliers.**\n",
        "\n",
        "**--> Outliers are nothing but extremely high or low values which are out of range of column and it affects mean value** "
      ]
    },
    {
      "cell_type": "markdown",
      "id": "4bebd15a",
      "metadata": {
        "id": "4bebd15a"
      },
      "source": [
        "**[*] Value counts of categorical column**\n",
        "\n",
        "\n",
        "**--> No need to do this as only column 'Date' is categorical**"
      ]
    },
    {
      "cell_type": "markdown",
      "id": "925c409b",
      "metadata": {
        "id": "925c409b"
      },
      "source": [
        "**[*] Drop unnecessary column say Adj Close**"
      ]
    },
    {
      "cell_type": "code",
      "execution_count": 21,
      "id": "80153ede",
      "metadata": {
        "id": "80153ede"
      },
      "outputs": [],
      "source": [
        "df_nestle.drop('Adj Close',axis = 1,inplace = True)"
      ]
    },
    {
      "cell_type": "markdown",
      "id": "3bb001fd",
      "metadata": {
        "id": "3bb001fd"
      },
      "source": [
        "**[*] Check null values**"
      ]
    },
    {
      "cell_type": "code",
      "execution_count": 22,
      "id": "8cee5b13",
      "metadata": {
        "colab": {
          "base_uri": "https://localhost:8080/"
        },
        "id": "8cee5b13",
        "outputId": "2f6123f0-152b-4b99-912b-19f81de91164"
      },
      "outputs": [
        {
          "output_type": "execute_result",
          "data": {
            "text/plain": [
              "Date      0\n",
              "Open      7\n",
              "High      7\n",
              "Low       7\n",
              "Close     7\n",
              "Volume    7\n",
              "dtype: int64"
            ]
          },
          "metadata": {},
          "execution_count": 22
        }
      ],
      "source": [
        "# isnull() = checks is there any null value row-wise, returns True if there are null values\n",
        "# sum() = gives sum of rows where there is null value\n",
        "df_nestle.isnull().sum()"
      ]
    },
    {
      "cell_type": "markdown",
      "id": "b96be387",
      "metadata": {
        "id": "b96be387"
      },
      "source": [
        "**--> All columns have null values except 'Date' column.**\n",
        "\n",
        "**As this data and project is connected to finance, it is not appropriate to drop null value rows as it can be very important\n",
        "event to look upon**"
      ]
    },
    {
      "cell_type": "code",
      "execution_count": 23,
      "id": "39a8b7b2",
      "metadata": {
        "colab": {
          "base_uri": "https://localhost:8080/",
          "height": 269
        },
        "id": "39a8b7b2",
        "outputId": "a2d64227-93d4-480d-b9fd-19442cebd253"
      },
      "outputs": [
        {
          "output_type": "execute_result",
          "data": {
            "text/plain": [
              "            Date  Open  High  Low  Close  Volume\n",
              "1883  2010-02-06   NaN   NaN  NaN    NaN     NaN\n",
              "2361  2012-01-07   NaN   NaN  NaN    NaN     NaN\n",
              "2400  2012-03-03   NaN   NaN  NaN    NaN     NaN\n",
              "2530  2012-09-08   NaN   NaN  NaN    NaN     NaN\n",
              "2572  2012-11-11   NaN   NaN  NaN    NaN     NaN\n",
              "2909  2014-03-22   NaN   NaN  NaN    NaN     NaN\n",
              "3138  2015-02-28   NaN   NaN  NaN    NaN     NaN"
            ],
            "text/html": [
              "\n",
              "  <div id=\"df-190f03bc-8226-4ab1-a5e8-0df003ed0423\">\n",
              "    <div class=\"colab-df-container\">\n",
              "      <div>\n",
              "<style scoped>\n",
              "    .dataframe tbody tr th:only-of-type {\n",
              "        vertical-align: middle;\n",
              "    }\n",
              "\n",
              "    .dataframe tbody tr th {\n",
              "        vertical-align: top;\n",
              "    }\n",
              "\n",
              "    .dataframe thead th {\n",
              "        text-align: right;\n",
              "    }\n",
              "</style>\n",
              "<table border=\"1\" class=\"dataframe\">\n",
              "  <thead>\n",
              "    <tr style=\"text-align: right;\">\n",
              "      <th></th>\n",
              "      <th>Date</th>\n",
              "      <th>Open</th>\n",
              "      <th>High</th>\n",
              "      <th>Low</th>\n",
              "      <th>Close</th>\n",
              "      <th>Volume</th>\n",
              "    </tr>\n",
              "  </thead>\n",
              "  <tbody>\n",
              "    <tr>\n",
              "      <th>1883</th>\n",
              "      <td>2010-02-06</td>\n",
              "      <td>NaN</td>\n",
              "      <td>NaN</td>\n",
              "      <td>NaN</td>\n",
              "      <td>NaN</td>\n",
              "      <td>NaN</td>\n",
              "    </tr>\n",
              "    <tr>\n",
              "      <th>2361</th>\n",
              "      <td>2012-01-07</td>\n",
              "      <td>NaN</td>\n",
              "      <td>NaN</td>\n",
              "      <td>NaN</td>\n",
              "      <td>NaN</td>\n",
              "      <td>NaN</td>\n",
              "    </tr>\n",
              "    <tr>\n",
              "      <th>2400</th>\n",
              "      <td>2012-03-03</td>\n",
              "      <td>NaN</td>\n",
              "      <td>NaN</td>\n",
              "      <td>NaN</td>\n",
              "      <td>NaN</td>\n",
              "      <td>NaN</td>\n",
              "    </tr>\n",
              "    <tr>\n",
              "      <th>2530</th>\n",
              "      <td>2012-09-08</td>\n",
              "      <td>NaN</td>\n",
              "      <td>NaN</td>\n",
              "      <td>NaN</td>\n",
              "      <td>NaN</td>\n",
              "      <td>NaN</td>\n",
              "    </tr>\n",
              "    <tr>\n",
              "      <th>2572</th>\n",
              "      <td>2012-11-11</td>\n",
              "      <td>NaN</td>\n",
              "      <td>NaN</td>\n",
              "      <td>NaN</td>\n",
              "      <td>NaN</td>\n",
              "      <td>NaN</td>\n",
              "    </tr>\n",
              "    <tr>\n",
              "      <th>2909</th>\n",
              "      <td>2014-03-22</td>\n",
              "      <td>NaN</td>\n",
              "      <td>NaN</td>\n",
              "      <td>NaN</td>\n",
              "      <td>NaN</td>\n",
              "      <td>NaN</td>\n",
              "    </tr>\n",
              "    <tr>\n",
              "      <th>3138</th>\n",
              "      <td>2015-02-28</td>\n",
              "      <td>NaN</td>\n",
              "      <td>NaN</td>\n",
              "      <td>NaN</td>\n",
              "      <td>NaN</td>\n",
              "      <td>NaN</td>\n",
              "    </tr>\n",
              "  </tbody>\n",
              "</table>\n",
              "</div>\n",
              "      <button class=\"colab-df-convert\" onclick=\"convertToInteractive('df-190f03bc-8226-4ab1-a5e8-0df003ed0423')\"\n",
              "              title=\"Convert this dataframe to an interactive table.\"\n",
              "              style=\"display:none;\">\n",
              "        \n",
              "  <svg xmlns=\"http://www.w3.org/2000/svg\" height=\"24px\"viewBox=\"0 0 24 24\"\n",
              "       width=\"24px\">\n",
              "    <path d=\"M0 0h24v24H0V0z\" fill=\"none\"/>\n",
              "    <path d=\"M18.56 5.44l.94 2.06.94-2.06 2.06-.94-2.06-.94-.94-2.06-.94 2.06-2.06.94zm-11 1L8.5 8.5l.94-2.06 2.06-.94-2.06-.94L8.5 2.5l-.94 2.06-2.06.94zm10 10l.94 2.06.94-2.06 2.06-.94-2.06-.94-.94-2.06-.94 2.06-2.06.94z\"/><path d=\"M17.41 7.96l-1.37-1.37c-.4-.4-.92-.59-1.43-.59-.52 0-1.04.2-1.43.59L10.3 9.45l-7.72 7.72c-.78.78-.78 2.05 0 2.83L4 21.41c.39.39.9.59 1.41.59.51 0 1.02-.2 1.41-.59l7.78-7.78 2.81-2.81c.8-.78.8-2.07 0-2.86zM5.41 20L4 18.59l7.72-7.72 1.47 1.35L5.41 20z\"/>\n",
              "  </svg>\n",
              "      </button>\n",
              "      \n",
              "  <style>\n",
              "    .colab-df-container {\n",
              "      display:flex;\n",
              "      flex-wrap:wrap;\n",
              "      gap: 12px;\n",
              "    }\n",
              "\n",
              "    .colab-df-convert {\n",
              "      background-color: #E8F0FE;\n",
              "      border: none;\n",
              "      border-radius: 50%;\n",
              "      cursor: pointer;\n",
              "      display: none;\n",
              "      fill: #1967D2;\n",
              "      height: 32px;\n",
              "      padding: 0 0 0 0;\n",
              "      width: 32px;\n",
              "    }\n",
              "\n",
              "    .colab-df-convert:hover {\n",
              "      background-color: #E2EBFA;\n",
              "      box-shadow: 0px 1px 2px rgba(60, 64, 67, 0.3), 0px 1px 3px 1px rgba(60, 64, 67, 0.15);\n",
              "      fill: #174EA6;\n",
              "    }\n",
              "\n",
              "    [theme=dark] .colab-df-convert {\n",
              "      background-color: #3B4455;\n",
              "      fill: #D2E3FC;\n",
              "    }\n",
              "\n",
              "    [theme=dark] .colab-df-convert:hover {\n",
              "      background-color: #434B5C;\n",
              "      box-shadow: 0px 1px 3px 1px rgba(0, 0, 0, 0.15);\n",
              "      filter: drop-shadow(0px 1px 2px rgba(0, 0, 0, 0.3));\n",
              "      fill: #FFFFFF;\n",
              "    }\n",
              "  </style>\n",
              "\n",
              "      <script>\n",
              "        const buttonEl =\n",
              "          document.querySelector('#df-190f03bc-8226-4ab1-a5e8-0df003ed0423 button.colab-df-convert');\n",
              "        buttonEl.style.display =\n",
              "          google.colab.kernel.accessAllowed ? 'block' : 'none';\n",
              "\n",
              "        async function convertToInteractive(key) {\n",
              "          const element = document.querySelector('#df-190f03bc-8226-4ab1-a5e8-0df003ed0423');\n",
              "          const dataTable =\n",
              "            await google.colab.kernel.invokeFunction('convertToInteractive',\n",
              "                                                     [key], {});\n",
              "          if (!dataTable) return;\n",
              "\n",
              "          const docLinkHtml = 'Like what you see? Visit the ' +\n",
              "            '<a target=\"_blank\" href=https://colab.research.google.com/notebooks/data_table.ipynb>data table notebook</a>'\n",
              "            + ' to learn more about interactive tables.';\n",
              "          element.innerHTML = '';\n",
              "          dataTable['output_type'] = 'display_data';\n",
              "          await google.colab.output.renderOutput(dataTable, element);\n",
              "          const docLink = document.createElement('div');\n",
              "          docLink.innerHTML = docLinkHtml;\n",
              "          element.appendChild(docLink);\n",
              "        }\n",
              "      </script>\n",
              "    </div>\n",
              "  </div>\n",
              "  "
            ]
          },
          "metadata": {},
          "execution_count": 23
        }
      ],
      "source": [
        "null_rows = df_nestle.loc[df_nestle.isna().any(axis = 1)]\n",
        "null_rows"
      ]
    },
    {
      "cell_type": "code",
      "execution_count": 24,
      "id": "a75edb23",
      "metadata": {
        "colab": {
          "base_uri": "https://localhost:8080/"
        },
        "id": "a75edb23",
        "outputId": "c218e3ee-15ed-401f-c551-9d52be1a6eca"
      },
      "outputs": [
        {
          "output_type": "execute_result",
          "data": {
            "text/plain": [
              "Date       2010-02-06\n",
              "Open           2576.0\n",
              "High           2627.0\n",
              "Low            2506.0\n",
              "Close     2597.300049\n",
              "Volume         4916.0\n",
              "Name: 1883, dtype: object"
            ]
          },
          "metadata": {},
          "execution_count": 24
        }
      ],
      "source": [
        "a1 = df_nestle.iloc[1882]\n",
        "a2 = df_nestle.iloc[1883]\n",
        "a3 = df_nestle.iloc[1884]\n",
        "b1 = (a1['Open'] + a3['Open'])/2\n",
        "b2 = (a1['High'] + a3['High'])/2\n",
        "b3 = (a1['Low'] + a3['Low'])/2\n",
        "b4 = (a1['Close'] + a3['Close'])/2\n",
        "b5= (a1['Volume'] + a3['Volume'])/2\n",
        "\n",
        "df_nestle.iloc[1883] = {'Date':'2010-02-06','Open':b1,'High':b2,'Low':b3,'Close':b4,'Volume':b5}\n",
        "df_nestle.iloc[1883]"
      ]
    },
    {
      "cell_type": "code",
      "execution_count": 25,
      "id": "32e8ef38",
      "metadata": {
        "colab": {
          "base_uri": "https://localhost:8080/"
        },
        "id": "32e8ef38",
        "outputId": "367e6971-deec-425b-fda0-0c105b119baa"
      },
      "outputs": [
        {
          "output_type": "execute_result",
          "data": {
            "text/plain": [
              "Date      2010-02-06\n",
              "Open         4123.25\n",
              "High          4148.5\n",
              "Low           4082.5\n",
              "Close       4117.375\n",
              "Volume       16805.5\n",
              "Name: 2361, dtype: object"
            ]
          },
          "metadata": {},
          "execution_count": 25
        }
      ],
      "source": [
        "a1 = df_nestle.iloc[2360]\n",
        "a2 = df_nestle.iloc[2361]\n",
        "a3 = df_nestle.iloc[2362]\n",
        "b1 = (a1['Open'] + a3['Open'])/2\n",
        "b2 = (a1['High'] + a3['High'])/2\n",
        "b3 = (a1['Low'] + a3['Low'])/2\n",
        "b4 = (a1['Close'] + a3['Close'])/2\n",
        "b5= (a1['Volume'] + a3['Volume'])/2\n",
        "\n",
        "df_nestle.iloc[2361] = {'Date':'2010-02-06','Open':b1,'High':b2,'Low':b3,'Close':b4,'Volume':b5}\n",
        "df_nestle.iloc[2361]"
      ]
    },
    {
      "cell_type": "code",
      "execution_count": 26,
      "id": "05d3fe9f",
      "metadata": {
        "colab": {
          "base_uri": "https://localhost:8080/"
        },
        "id": "05d3fe9f",
        "outputId": "91d927a4-7e9e-4be6-f9b0-b82a4703a704"
      },
      "outputs": [
        {
          "output_type": "execute_result",
          "data": {
            "text/plain": [
              "Date       2010-02-06\n",
              "Open      4449.175049\n",
              "High      4489.475098\n",
              "Low       4379.199951\n",
              "Close     4439.324951\n",
              "Volume        26614.0\n",
              "Name: 2400, dtype: object"
            ]
          },
          "metadata": {},
          "execution_count": 26
        }
      ],
      "source": [
        "a1 = df_nestle.iloc[2399]\n",
        "a2 = df_nestle.iloc[2400]\n",
        "a3 = df_nestle.iloc[2401]\n",
        "b1 = (a1['Open'] + a3['Open'])/2\n",
        "b2 = (a1['High'] + a3['High'])/2\n",
        "b3 = (a1['Low'] + a3['Low'])/2\n",
        "b4 = (a1['Close'] + a3['Close'])/2\n",
        "b5= (a1['Volume'] + a3['Volume'])/2\n",
        "\n",
        "df_nestle.iloc[2400] = {'Date':'2010-02-06','Open':b1,'High':b2,'Low':b3,'Close':b4,'Volume':b5}\n",
        "df_nestle.iloc[2400]"
      ]
    },
    {
      "cell_type": "code",
      "execution_count": 27,
      "id": "f5f4c7f0",
      "metadata": {
        "colab": {
          "base_uri": "https://localhost:8080/"
        },
        "id": "f5f4c7f0",
        "outputId": "b67c9043-3fc6-4d66-a163-07f4b0772d7c"
      },
      "outputs": [
        {
          "output_type": "execute_result",
          "data": {
            "text/plain": [
              "Date       2010-02-06\n",
              "Open      4648.899902\n",
              "High      4658.399902\n",
              "Low            4577.5\n",
              "Close         4596.25\n",
              "Volume        66783.5\n",
              "Name: 2530, dtype: object"
            ]
          },
          "metadata": {},
          "execution_count": 27
        }
      ],
      "source": [
        "a1 = df_nestle.iloc[2529]\n",
        "a2 = df_nestle.iloc[2530]\n",
        "a3 = df_nestle.iloc[2531]\n",
        "b1 = (a1['Open'] + a3['Open'])/2\n",
        "b2 = (a1['High'] + a3['High'])/2\n",
        "b3 = (a1['Low'] + a3['Low'])/2\n",
        "b4 = (a1['Close'] + a3['Close'])/2\n",
        "b5= (a1['Volume'] + a3['Volume'])/2\n",
        "\n",
        "df_nestle.iloc[2530] = {'Date':'2010-02-06','Open':b1,'High':b2,'Low':b3,'Close':b4,'Volume':b5}\n",
        "df_nestle.iloc[2530]"
      ]
    },
    {
      "cell_type": "code",
      "execution_count": 28,
      "id": "4be8d3fd",
      "metadata": {
        "colab": {
          "base_uri": "https://localhost:8080/"
        },
        "id": "4be8d3fd",
        "outputId": "9527c31c-f3cc-4cd4-d569-852a8b3aa835"
      },
      "outputs": [
        {
          "output_type": "execute_result",
          "data": {
            "text/plain": [
              "Date       2010-02-06\n",
              "Open      4884.975098\n",
              "High           4910.0\n",
              "Low       4824.975098\n",
              "Close     4833.099853\n",
              "Volume         6509.5\n",
              "Name: 2572, dtype: object"
            ]
          },
          "metadata": {},
          "execution_count": 28
        }
      ],
      "source": [
        "a1 = df_nestle.iloc[2571]\n",
        "a2 = df_nestle.iloc[2572]\n",
        "a3 = df_nestle.iloc[2573]\n",
        "b1 = (a1['Open'] + a3['Open'])/2\n",
        "b2 = (a1['High'] + a3['High'])/2\n",
        "b3 = (a1['Low'] + a3['Low'])/2\n",
        "b4 = (a1['Close'] + a3['Close'])/2\n",
        "b5= (a1['Volume'] + a3['Volume'])/2\n",
        "\n",
        "df_nestle.iloc[2572] = {'Date':'2010-02-06','Open':b1,'High':b2,'Low':b3,'Close':b4,'Volume':b5}\n",
        "df_nestle.iloc[2572]"
      ]
    },
    {
      "cell_type": "code",
      "execution_count": 29,
      "id": "b5c41a60",
      "metadata": {
        "colab": {
          "base_uri": "https://localhost:8080/"
        },
        "id": "b5c41a60",
        "outputId": "472e17f7-d8c4-4afd-c544-dbe42c32dbba"
      },
      "outputs": [
        {
          "output_type": "execute_result",
          "data": {
            "text/plain": [
              "Date       2010-02-06\n",
              "Open           4800.0\n",
              "High      4829.899902\n",
              "Low            4713.0\n",
              "Close     4726.349853\n",
              "Volume        28163.5\n",
              "Name: 2909, dtype: object"
            ]
          },
          "metadata": {},
          "execution_count": 29
        }
      ],
      "source": [
        "a1 = df_nestle.iloc[2908]\n",
        "a2 = df_nestle.iloc[2909]\n",
        "a3 = df_nestle.iloc[2910]\n",
        "b1 = (a1['Open'] + a3['Open'])/2\n",
        "b2 = (a1['High'] + a3['High'])/2\n",
        "b3 = (a1['Low'] + a3['Low'])/2\n",
        "b4 = (a1['Close'] + a3['Close'])/2\n",
        "b5= (a1['Volume'] + a3['Volume'])/2\n",
        "\n",
        "df_nestle.iloc[2909] = {'Date':'2010-02-06','Open':b1,'High':b2,'Low':b3,'Close':b4,'Volume':b5}\n",
        "df_nestle.iloc[2909]"
      ]
    },
    {
      "cell_type": "code",
      "execution_count": 30,
      "id": "ac9d4c37",
      "metadata": {
        "colab": {
          "base_uri": "https://localhost:8080/"
        },
        "id": "ac9d4c37",
        "outputId": "10c07796-f9f2-4699-c1d0-a4250454d161"
      },
      "outputs": [
        {
          "output_type": "execute_result",
          "data": {
            "text/plain": [
              "Date       2010-02-06\n",
              "Open      7047.274902\n",
              "High      7054.399902\n",
              "Low       6974.725098\n",
              "Close     7005.474853\n",
              "Volume        45861.0\n",
              "Name: 3138, dtype: object"
            ]
          },
          "metadata": {},
          "execution_count": 30
        }
      ],
      "source": [
        "a1 = df_nestle.iloc[3137]\n",
        "a2 = df_nestle.iloc[3138]\n",
        "a3 = df_nestle.iloc[3139]\n",
        "b1 = (a1['Open'] + a3['Open'])/2\n",
        "b2 = (a1['High'] + a3['High'])/2\n",
        "b3 = (a1['Low'] + a3['Low'])/2\n",
        "b4 = (a1['Close'] + a3['Close'])/2\n",
        "b5= (a1['Volume'] + a3['Volume'])/2\n",
        "\n",
        "df_nestle.iloc[3138] = {'Date':'2010-02-06','Open':b1,'High':b2,'Low':b3,'Close':b4,'Volume':b5}\n",
        "df_nestle.iloc[3138]"
      ]
    },
    {
      "cell_type": "code",
      "execution_count": 31,
      "id": "cfba5033",
      "metadata": {
        "colab": {
          "base_uri": "https://localhost:8080/"
        },
        "id": "cfba5033",
        "outputId": "03be5288-a354-47d8-9cf6-6c8f433d783b"
      },
      "outputs": [
        {
          "output_type": "execute_result",
          "data": {
            "text/plain": [
              "Date      0\n",
              "Open      0\n",
              "High      0\n",
              "Low       0\n",
              "Close     0\n",
              "Volume    0\n",
              "dtype: int64"
            ]
          },
          "metadata": {},
          "execution_count": 31
        }
      ],
      "source": [
        "df_nestle.isnull().sum()"
      ]
    },
    {
      "cell_type": "markdown",
      "id": "9f4e5d8c",
      "metadata": {
        "id": "9f4e5d8c"
      },
      "source": [
        "**Here we can see all null values are being replaced by the mean of previous row and successive row**"
      ]
    },
    {
      "cell_type": "markdown",
      "id": "91239045",
      "metadata": {
        "id": "91239045"
      },
      "source": [
        "## Detecting Outliers"
      ]
    },
    {
      "cell_type": "code",
      "execution_count": 32,
      "id": "637d7c04",
      "metadata": {
        "colab": {
          "base_uri": "https://localhost:8080/",
          "height": 500
        },
        "id": "637d7c04",
        "outputId": "49037ac5-0ea1-40d2-b9e2-469c304e5053"
      },
      "outputs": [
        {
          "output_type": "execute_result",
          "data": {
            "text/plain": [
              "<matplotlib.axes._subplots.AxesSubplot at 0x7fc99417ab10>"
            ]
          },
          "metadata": {},
          "execution_count": 32
        },
        {
          "output_type": "display_data",
          "data": {
            "text/plain": [
              "<Figure size 576x576 with 1 Axes>"
            ],
            "image/png": "[encoded data removed]"
          },
          "metadata": {
            "needs_background": "light"
          }
        }
      ],
      "source": [
        "# by using rcParams and its method 'figure.figsize' we can adjust the length and breadh of the figure\n",
        "plt.rcParams['figure.figsize'] = [8,8]\n",
        "\n",
        "# using boxplot to check whether data columns has any outlier value\n",
        "# boxplot indicates maximum value,3rd quartile,median,1st quartile and minimum value with linea and whiskers\n",
        "# whereas circle shows outliers\n",
        "\n",
        "df_nestle_temp = df_nestle.copy()\n",
        "df_nestle_temp.drop('Volume',axis = 1,inplace = True)\n",
        "df_nestle_temp.boxplot()"
      ]
    },
    {
      "cell_type": "code",
      "source": [
        "#@title Treatment to outliers"
      ],
      "metadata": {
        "id": "Pd1gEzrOkH4c"
      },
      "id": "Pd1gEzrOkH4c",
      "execution_count": 47,
      "outputs": []
    },
    {
      "cell_type": "code",
      "execution_count": 48,
      "id": "eb01f906",
      "metadata": {
        "colab": {
          "base_uri": "https://localhost:8080/"
        },
        "id": "eb01f906",
        "outputId": "a1350862-9219-4af4-8e1c-2f31ea468fb2"
      },
      "outputs": [
        {
          "output_type": "stream",
          "name": "stdout",
          "text": [
            "Mean of copied dataframe 'Open' : 5203.8819675624745\n"
          ]
        }
      ],
      "source": [
        "q1 = np.percentile(df_nestle_temp['Open'],25)   # q1 = first quartile using 25%\n",
        "q3 = np.percentile(df_nestle_temp['Open'],75)   # q3 = third quartile using 75%\n",
        "iqr = q3 - q1                                   # iqr = inter quartile range , difference between 1st and third quartile\n",
        "low = q1 - 1.5*iqr                              # low = set threshhold that values 1.5 times of iqr lower than q1 \n",
        "high = q3 + 1.5*iqr                             # high = set threshhold that values 1.5 times of iqr more than q3 \n",
        "\n",
        "\n",
        "# criterion : if any value in copy df is lower than q1 or higher than q3 are there in loop, drop that index\n",
        "for i in df_nestle_temp['Open']:\n",
        "    if i > high and i < low:\n",
        "        df_nestle_temp.drop(df_nestle_temp.index[i],inplace = True)\n",
        "\n",
        "# find mean from the copied df where values not matching criterion are removed        \n",
        "m1 = float(df_nestle_temp['Open'].mean())        \n",
        "print(\"Mean of copied dataframe 'Open' :\",m1)\n",
        "\n",
        "# for any value in original df not matching criterion , then replace it with mean of copied df\n",
        "for i in df_nestle['Open']:\n",
        "    if i > high:\n",
        "        df_nestle['Open'].replace(to_replace = i,value = m1,inplace = True)\n",
        "for i in df_nestle['Open']:\n",
        "    if i < low:\n",
        "        df_nestle['Open'].replace(to_replace = i,value = m1,inplace = True)\n"
      ]
    },
    {
      "cell_type": "code",
      "execution_count": 49,
      "id": "379a2f2b",
      "metadata": {
        "colab": {
          "base_uri": "https://localhost:8080/",
          "height": 569
        },
        "id": "379a2f2b",
        "outputId": "01ea40ad-e5ef-4684-c509-ce41ddb7af97"
      },
      "outputs": [
        {
          "output_type": "stream",
          "name": "stderr",
          "text": [
            "/usr/local/lib/python3.7/dist-packages/seaborn/_decorators.py:43: FutureWarning: Pass the following variable as a keyword arg: x. From version 0.12, the only valid positional argument will be `data`, and passing other arguments without an explicit keyword will result in an error or misinterpretation.\n",
            "  FutureWarning\n"
          ]
        },
        {
          "output_type": "execute_result",
          "data": {
            "text/plain": [
              "<matplotlib.axes._subplots.AxesSubplot at 0x7fc994264450>"
            ]
          },
          "metadata": {},
          "execution_count": 49
        },
        {
          "output_type": "display_data",
          "data": {
            "text/plain": [
              "<Figure size 1080x576 with 1 Axes>"
            ],
            "image/png": "[encoded data removed]"
          },
          "metadata": {
            "needs_background": "light"
          }
        }
      ],
      "source": [
        "import seaborn as sns             # seaborn is library of python used to visualise graphs and pictorial way efficiently\n",
        "sns.boxplot(df_nestle['Open'])"
      ]
    },
    {
      "cell_type": "code",
      "source": [
        "q1 = np.percentile(df_nestle_temp['Close'],25)\n",
        "q3 = np.percentile(df_nestle_temp['Close'],75)\n",
        "iqr = q3 - q1\n",
        "low = q1 - 1.5*iqr\n",
        "high = q3 + 1.5*iqr\n",
        "\n",
        "for i in df_nestle_temp['Close']:\n",
        "    if i > high and i < low:\n",
        "        df_nestle_temp.drop(df_nestle_temp.index[i],inplace = True)\n",
        "        \n",
        "m1 = float(df_nestle_temp['Close'].mean())\n",
        "m1\n",
        "\n",
        "for i in df_nestle['Close']:\n",
        "    if i > high:\n",
        "        df_nestle['Close'].replace(to_replace = i,value = m1,inplace = True)\n",
        "for i in df_nestle['Close']:\n",
        "    if i < low:\n",
        "        df_nestle['Close'].replace(to_replace = i,value = m1,inplace = True)"
      ],
      "metadata": {
        "id": "3xEN_uQPhO2R"
      },
      "id": "3xEN_uQPhO2R",
      "execution_count": 35,
      "outputs": []
    },
    {
      "cell_type": "code",
      "source": [
        "q1 = np.percentile(df_nestle_temp['High'],25)\n",
        "q3 = np.percentile(df_nestle_temp['High'],75)\n",
        "iqr = q3 - q1\n",
        "low = q1 - 1.5*iqr\n",
        "high = q3 + 1.5*iqr\n",
        "\n",
        "for i in df_nestle_temp['High']:\n",
        "    if i > high and i < low:\n",
        "        df_nestle_temp.drop(df_nestle_temp.index[i],inplace = True)\n",
        "        \n",
        "m1 = float(df_nestle_temp['High'].mean())\n",
        "m1\n",
        "\n",
        "for i in df_nestle['High']:\n",
        "    if i > high:\n",
        "        df_nestle['High'].replace(to_replace = i,value = m1,inplace = True)\n",
        "\n",
        "for i in df_nestle['High']:\n",
        "    if i < low:\n",
        "        df_nestle['High'].replace(to_replace = i,value = m1,inplace = True)        "
      ],
      "metadata": {
        "id": "lxgz02S_hO75"
      },
      "id": "lxgz02S_hO75",
      "execution_count": 36,
      "outputs": []
    },
    {
      "cell_type": "code",
      "source": [
        "sns.boxplot(df_nestle['High'])"
      ],
      "metadata": {
        "colab": {
          "base_uri": "https://localhost:8080/",
          "height": 569
        },
        "id": "9LPOt0fChPPi",
        "outputId": "1042d9cd-4745-4aa1-f73f-2ed129798269"
      },
      "id": "9LPOt0fChPPi",
      "execution_count": 37,
      "outputs": [
        {
          "output_type": "stream",
          "name": "stderr",
          "text": [
            "/usr/local/lib/python3.7/dist-packages/seaborn/_decorators.py:43: FutureWarning: Pass the following variable as a keyword arg: x. From version 0.12, the only valid positional argument will be `data`, and passing other arguments without an explicit keyword will result in an error or misinterpretation.\n",
            "  FutureWarning\n"
          ]
        },
        {
          "output_type": "execute_result",
          "data": {
            "text/plain": [
              "<matplotlib.axes._subplots.AxesSubplot at 0x7fc98784e4d0>"
            ]
          },
          "metadata": {},
          "execution_count": 37
        },
        {
          "output_type": "display_data",
          "data": {
            "text/plain": [
              "<Figure size 576x576 with 1 Axes>"
            ],
            "image/png": "[encoded data removed]"
          },
          "metadata": {
            "needs_background": "light"
          }
        }
      ]
    },
    {
      "cell_type": "code",
      "source": [
        "q1 = np.percentile(df_nestle_temp['Low'],25)\n",
        "q3 = np.percentile(df_nestle_temp['Low'],75)\n",
        "iqr = q3 - q1\n",
        "low = q1 - 1.5*iqr\n",
        "high = q3 + 1.5*iqr\n",
        "\n",
        "for i in df_nestle_temp['Low']:\n",
        "    if i > high and i < low:\n",
        "        df_nestle_temp.drop(df_nestle_temp.index[i],inplace = True)\n",
        "        \n",
        "m1 = float(df_nestle_temp['Low'].mean())\n",
        "m1\n",
        "for i in df_nestle['Low']:\n",
        "    if i > high:\n",
        "        df_nestle['Low'].replace(to_replace = i,value = m1,inplace = True)\n",
        "for i in df_nestle['Low']:\n",
        "    if i < low:\n",
        "        df_nestle['Low'].replace(to_replace = i,value = m1,inplace = True)"
      ],
      "metadata": {
        "id": "NOOcp7bahZL6"
      },
      "id": "NOOcp7bahZL6",
      "execution_count": 38,
      "outputs": []
    },
    {
      "cell_type": "code",
      "source": [
        "sns.boxplot(df_nestle['Low'])"
      ],
      "metadata": {
        "colab": {
          "base_uri": "https://localhost:8080/",
          "height": 569
        },
        "id": "Pqm3UF4WhZNs",
        "outputId": "10a0c3fb-1aef-46fb-d1fb-2b301e38bf1c"
      },
      "id": "Pqm3UF4WhZNs",
      "execution_count": 39,
      "outputs": [
        {
          "output_type": "stream",
          "name": "stderr",
          "text": [
            "/usr/local/lib/python3.7/dist-packages/seaborn/_decorators.py:43: FutureWarning: Pass the following variable as a keyword arg: x. From version 0.12, the only valid positional argument will be `data`, and passing other arguments without an explicit keyword will result in an error or misinterpretation.\n",
            "  FutureWarning\n"
          ]
        },
        {
          "output_type": "execute_result",
          "data": {
            "text/plain": [
              "<matplotlib.axes._subplots.AxesSubplot at 0x7fc9877bf5d0>"
            ]
          },
          "metadata": {},
          "execution_count": 39
        },
        {
          "output_type": "display_data",
          "data": {
            "text/plain": [
              "<Figure size 576x576 with 1 Axes>"
            ],
            "image/png": "[encoded data removed]"
          },
          "metadata": {
            "needs_background": "light"
          }
        }
      ]
    },
    {
      "cell_type": "code",
      "source": [
        "# convert all columns into numeric datatype\n",
        "df_nestle[['Open', 'High', 'Low', 'Close']] = df_nestle[['Open', 'High', 'Low', 'Close']].apply(pd.to_numeric)"
      ],
      "metadata": {
        "id": "MxPn_m6ChZSK"
      },
      "id": "MxPn_m6ChZSK",
      "execution_count": 50,
      "outputs": []
    },
    {
      "cell_type": "code",
      "source": [
        "df_nestle1 = df_nestle.drop('Volume',axis = 1)"
      ],
      "metadata": {
        "id": "T4xsGnxfhPRP"
      },
      "id": "T4xsGnxfhPRP",
      "execution_count": 41,
      "outputs": []
    },
    {
      "cell_type": "code",
      "source": [
        "df_nestle1.boxplot()"
      ],
      "metadata": {
        "colab": {
          "base_uri": "https://localhost:8080/",
          "height": 500
        },
        "id": "UHR5cVvShPVi",
        "outputId": "f46943d9-d123-4cb6-c59a-e1b927503e92"
      },
      "id": "UHR5cVvShPVi",
      "execution_count": 42,
      "outputs": [
        {
          "output_type": "execute_result",
          "data": {
            "text/plain": [
              "<matplotlib.axes._subplots.AxesSubplot at 0x7fc987745f10>"
            ]
          },
          "metadata": {},
          "execution_count": 42
        },
        {
          "output_type": "display_data",
          "data": {
            "text/plain": [
              "<Figure size 576x576 with 1 Axes>"
            ],
            "image/png": "[encoded data removed]"
          },
          "metadata": {
            "needs_background": "light"
          }
        }
      ]
    },
    {
      "cell_type": "code",
      "source": [
        "# to make line graphs ,'Date' column is needed to be at index so we use set_index method to change index to 'Date'\n",
        "df_nestle = df_nestle.set_index('Date')"
      ],
      "metadata": {
        "id": "YR6d2YmchPXT"
      },
      "id": "YR6d2YmchPXT",
      "execution_count": 43,
      "outputs": []
    },
    {
      "cell_type": "code",
      "source": [
        "plt.rcParams['figure.figsize'] = [15,8]\n",
        "# subplot = module or method of python, needed to visualise more than one graphs together by placing it side by side\n",
        "# subplot(total rows,columns needed in each row,index at which column which graph is to be placed)\n",
        "plt.subplot(1,2,1)\n",
        "b = df_nestle['Open'].plot()\n",
        "plt.subplot(1,2,2)\n",
        "a = df_nestle['Close'].plot()"
      ],
      "metadata": {
        "colab": {
          "base_uri": "https://localhost:8080/",
          "height": 497
        },
        "id": "QILGeNwrhsJT",
        "outputId": "f13ee731-45e9-48bb-81f5-7cf153e8e021"
      },
      "id": "QILGeNwrhsJT",
      "execution_count": 51,
      "outputs": [
        {
          "output_type": "display_data",
          "data": {
            "text/plain": [
              "<Figure size 1080x576 with 2 Axes>"
            ],
            "image/png": "[encoded data removed]"
          },
          "metadata": {
            "needs_background": "light"
          }
        }
      ]
    },
    {
      "cell_type": "code",
      "source": [],
      "metadata": {
        "id": "Yq141R9ahsK7"
      },
      "id": "Yq141R9ahsK7",
      "execution_count": 44,
      "outputs": []
    },
    {
      "cell_type": "code",
      "source": [],
      "metadata": {
        "id": "i_mAE_QHhsPr"
      },
      "id": "i_mAE_QHhsPr",
      "execution_count": 44,
      "outputs": []
    },
    {
      "cell_type": "code",
      "execution_count": 44,
      "id": "35bea560",
      "metadata": {
        "id": "35bea560"
      },
      "outputs": [],
      "source": []
    }
  ],
  "metadata": {
    "kernelspec": {
      "display_name": "Python 3 (ipykernel)",
      "language": "python",
      "name": "python3"
    },
    "language_info": {
      "codemirror_mode": {
        "name": "ipython",
        "version": 3
      },
      "file_extension": ".py",
      "mimetype": "text/x-python",
      "name": "python",
      "nbconvert_exporter": "python",
      "pygments_lexer": "ipython3",
      "version": "3.10.2"
    },
    "colab": {
      "provenance": [],
      "collapsed_sections": [],
      "include_colab_link": true
    }
  },
  "nbformat": 4,
  "nbformat_minor": 5
}