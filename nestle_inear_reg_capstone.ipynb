{
  "cells": [
    {
      "cell_type": "markdown",
      "metadata": {
        "id": "view-in-github",
        "colab_type": "text"
      },
      "source": [
        "<a href=\"https://colab.research.google.com/github/Preeti27092000/nestle_linear_reg_capstone/blob/main/nestle_inear_reg_capstone.ipynb\" target=\"_parent\"><img src=\"https://colab.research.google.com/assets/colab-badge.svg\" alt=\"Open In Colab\"/></a>"
      ]
    },
    {
      "cell_type": "markdown",
      "id": "b51fe18e",
      "metadata": {
        "id": "b51fe18e"
      },
      "source": [
        "# NESTLE INDIA STOCK PRICE PREDICTION ALGORITHM "
      ]
    },
    {
      "cell_type": "markdown",
      "id": "aaa1580d",
      "metadata": {
        "id": "aaa1580d"
      },
      "source": [
        "**Nestlé India Limited is the Indian subsidiary of Nestlé which is a Swiss multinational company.The company's products include food, beverages, chocolate, and confectioneries.**"
      ]
    },
    {
      "cell_type": "markdown",
      "id": "479d5d6c",
      "metadata": {
        "id": "479d5d6c"
      },
      "source": [
        "## Problem Statement"
      ]
    },
    {
      "cell_type": "markdown",
      "id": "5b65bdfb",
      "metadata": {
        "id": "5b65bdfb"
      },
      "source": [
        "**Here we are working to predict Nestle stock price on the basis of data we collected from the day 1 when it entered into Stock \n",
        "market. On the basis of different external factors and past behaviour of data we need to predict how it will perform in specific condition.**"
      ]
    },
    {
      "cell_type": "markdown",
      "id": "f39ad576",
      "metadata": {
        "id": "f39ad576"
      },
      "source": [
        "## Approach"
      ]
    },
    {
      "cell_type": "markdown",
      "id": "540e4667",
      "metadata": {
        "id": "540e4667"
      },
      "source": [
        "**As this problem predicts stock price it is numerical category problem where result can be any number, hence it is Continuous\n",
        "distribution problem where we can apply Linear Regression Algorithm.Here we will also try to consider the effect of Time Series analysis and economic factors.**"
      ]
    },
    {
      "cell_type": "markdown",
      "id": "fcbd3dda",
      "metadata": {
        "id": "fcbd3dda"
      },
      "source": [
        "## Steps are as follows : "
      ]
    },
    {
      "cell_type": "markdown",
      "source": [
        "# Import necessary libraries"
      ],
      "metadata": {
        "id": "QAB2P_vezrM2"
      },
      "id": "QAB2P_vezrM2"
    },
    {
      "cell_type": "code",
      "execution_count": 2,
      "id": "6a291689",
      "metadata": {
        "id": "6a291689"
      },
      "outputs": [],
      "source": [
        "# pandas = used to load and read data\n",
        "import pandas as pd\n",
        "# numpy = used to do calculation between dataframe columns\n",
        "import numpy as np\n",
        "# matplotlib.pyplot = used to visualise data using various graph methods available in it\n",
        "import matplotlib.pyplot as plt"
      ]
    },
    {
      "cell_type": "markdown",
      "id": "b0043a70",
      "metadata": {
        "id": "b0043a70"
      },
      "source": [
        "#  Load and read data"
      ]
    },
    {
      "cell_type": "code",
      "source": [
        "from google.colab import drive\n",
        "drive.mount('/content/drive')"
      ],
      "metadata": {
        "colab": {
          "base_uri": "https://localhost:8080/"
        },
        "id": "LcPUK1UAiTcW",
        "outputId": "bf59f854-8427-401f-dcc0-6219151aae69"
      },
      "id": "LcPUK1UAiTcW",
      "execution_count": 3,
      "outputs": [
        {
          "output_type": "stream",
          "name": "stdout",
          "text": [
            "Mounted at /content/drive\n"
          ]
        }
      ]
    },
    {
      "cell_type": "code",
      "source": [
        "file = \"/content/drive/MyDrive/Copy of NESTLEIND_daily_full.csv\""
      ],
      "metadata": {
        "id": "Hcs72xu6ieog"
      },
      "id": "Hcs72xu6ieog",
      "execution_count": 4,
      "outputs": []
    },
    {
      "cell_type": "code",
      "execution_count": 71,
      "id": "f86c3c34",
      "metadata": {
        "colab": {
          "base_uri": "https://localhost:8080/",
          "height": 206
        },
        "id": "f86c3c34",
        "outputId": "a0d07108-79e7-4154-fd4e-9f0e539ea637"
      },
      "outputs": [
        {
          "output_type": "execute_result",
          "data": {
            "text/plain": [
              "         Date        Open        High         Low       Close   Adj Close  \\\n",
              "0  2002-08-12  508.100006  512.549988  505.000000  505.149994  415.997742   \n",
              "1  2002-08-13  503.500000  515.000000  503.500000  509.049988  419.209534   \n",
              "2  2002-08-14  502.100006  515.000000  502.100006  514.400024  423.615234   \n",
              "3  2002-08-15  514.400024  514.400024  514.400024  514.400024  423.615234   \n",
              "4  2002-08-16  516.000000  516.849976  510.000000  511.000000  420.815247   \n",
              "\n",
              "    Volume  \n",
              "0   7100.0  \n",
              "1   8800.0  \n",
              "2  18700.0  \n",
              "3      0.0  \n",
              "4   9400.0  "
            ],
            "text/html": [
              "\n",
              "  <div id=\"df-9df35502-4940-4349-9734-870d173382a1\">\n",
              "    <div class=\"colab-df-container\">\n",
              "      <div>\n",
              "<style scoped>\n",
              "    .dataframe tbody tr th:only-of-type {\n",
              "        vertical-align: middle;\n",
              "    }\n",
              "\n",
              "    .dataframe tbody tr th {\n",
              "        vertical-align: top;\n",
              "    }\n",
              "\n",
              "    .dataframe thead th {\n",
              "        text-align: right;\n",
              "    }\n",
              "</style>\n",
              "<table border=\"1\" class=\"dataframe\">\n",
              "  <thead>\n",
              "    <tr style=\"text-align: right;\">\n",
              "      <th></th>\n",
              "      <th>Date</th>\n",
              "      <th>Open</th>\n",
              "      <th>High</th>\n",
              "      <th>Low</th>\n",
              "      <th>Close</th>\n",
              "      <th>Adj Close</th>\n",
              "      <th>Volume</th>\n",
              "    </tr>\n",
              "  </thead>\n",
              "  <tbody>\n",
              "    <tr>\n",
              "      <th>0</th>\n",
              "      <td>2002-08-12</td>\n",
              "      <td>508.100006</td>\n",
              "      <td>512.549988</td>\n",
              "      <td>505.000000</td>\n",
              "      <td>505.149994</td>\n",
              "      <td>415.997742</td>\n",
              "      <td>7100.0</td>\n",
              "    </tr>\n",
              "    <tr>\n",
              "      <th>1</th>\n",
              "      <td>2002-08-13</td>\n",
              "      <td>503.500000</td>\n",
              "      <td>515.000000</td>\n",
              "      <td>503.500000</td>\n",
              "      <td>509.049988</td>\n",
              "      <td>419.209534</td>\n",
              "      <td>8800.0</td>\n",
              "    </tr>\n",
              "    <tr>\n",
              "      <th>2</th>\n",
              "      <td>2002-08-14</td>\n",
              "      <td>502.100006</td>\n",
              "      <td>515.000000</td>\n",
              "      <td>502.100006</td>\n",
              "      <td>514.400024</td>\n",
              "      <td>423.615234</td>\n",
              "      <td>18700.0</td>\n",
              "    </tr>\n",
              "    <tr>\n",
              "      <th>3</th>\n",
              "      <td>2002-08-15</td>\n",
              "      <td>514.400024</td>\n",
              "      <td>514.400024</td>\n",
              "      <td>514.400024</td>\n",
              "      <td>514.400024</td>\n",
              "      <td>423.615234</td>\n",
              "      <td>0.0</td>\n",
              "    </tr>\n",
              "    <tr>\n",
              "      <th>4</th>\n",
              "      <td>2002-08-16</td>\n",
              "      <td>516.000000</td>\n",
              "      <td>516.849976</td>\n",
              "      <td>510.000000</td>\n",
              "      <td>511.000000</td>\n",
              "      <td>420.815247</td>\n",
              "      <td>9400.0</td>\n",
              "    </tr>\n",
              "  </tbody>\n",
              "</table>\n",
              "</div>\n",
              "      <button class=\"colab-df-convert\" onclick=\"convertToInteractive('df-9df35502-4940-4349-9734-870d173382a1')\"\n",
              "              title=\"Convert this dataframe to an interactive table.\"\n",
              "              style=\"display:none;\">\n",
              "        \n",
              "  <svg xmlns=\"http://www.w3.org/2000/svg\" height=\"24px\"viewBox=\"0 0 24 24\"\n",
              "       width=\"24px\">\n",
              "    <path d=\"M0 0h24v24H0V0z\" fill=\"none\"/>\n",
              "    <path d=\"M18.56 5.44l.94 2.06.94-2.06 2.06-.94-2.06-.94-.94-2.06-.94 2.06-2.06.94zm-11 1L8.5 8.5l.94-2.06 2.06-.94-2.06-.94L8.5 2.5l-.94 2.06-2.06.94zm10 10l.94 2.06.94-2.06 2.06-.94-2.06-.94-.94-2.06-.94 2.06-2.06.94z\"/><path d=\"M17.41 7.96l-1.37-1.37c-.4-.4-.92-.59-1.43-.59-.52 0-1.04.2-1.43.59L10.3 9.45l-7.72 7.72c-.78.78-.78 2.05 0 2.83L4 21.41c.39.39.9.59 1.41.59.51 0 1.02-.2 1.41-.59l7.78-7.78 2.81-2.81c.8-.78.8-2.07 0-2.86zM5.41 20L4 18.59l7.72-7.72 1.47 1.35L5.41 20z\"/>\n",
              "  </svg>\n",
              "      </button>\n",
              "      \n",
              "  <style>\n",
              "    .colab-df-container {\n",
              "      display:flex;\n",
              "      flex-wrap:wrap;\n",
              "      gap: 12px;\n",
              "    }\n",
              "\n",
              "    .colab-df-convert {\n",
              "      background-color: #E8F0FE;\n",
              "      border: none;\n",
              "      border-radius: 50%;\n",
              "      cursor: pointer;\n",
              "      display: none;\n",
              "      fill: #1967D2;\n",
              "      height: 32px;\n",
              "      padding: 0 0 0 0;\n",
              "      width: 32px;\n",
              "    }\n",
              "\n",
              "    .colab-df-convert:hover {\n",
              "      background-color: #E2EBFA;\n",
              "      box-shadow: 0px 1px 2px rgba(60, 64, 67, 0.3), 0px 1px 3px 1px rgba(60, 64, 67, 0.15);\n",
              "      fill: #174EA6;\n",
              "    }\n",
              "\n",
              "    [theme=dark] .colab-df-convert {\n",
              "      background-color: #3B4455;\n",
              "      fill: #D2E3FC;\n",
              "    }\n",
              "\n",
              "    [theme=dark] .colab-df-convert:hover {\n",
              "      background-color: #434B5C;\n",
              "      box-shadow: 0px 1px 3px 1px rgba(0, 0, 0, 0.15);\n",
              "      filter: drop-shadow(0px 1px 2px rgba(0, 0, 0, 0.3));\n",
              "      fill: #FFFFFF;\n",
              "    }\n",
              "  </style>\n",
              "\n",
              "      <script>\n",
              "        const buttonEl =\n",
              "          document.querySelector('#df-9df35502-4940-4349-9734-870d173382a1 button.colab-df-convert');\n",
              "        buttonEl.style.display =\n",
              "          google.colab.kernel.accessAllowed ? 'block' : 'none';\n",
              "\n",
              "        async function convertToInteractive(key) {\n",
              "          const element = document.querySelector('#df-9df35502-4940-4349-9734-870d173382a1');\n",
              "          const dataTable =\n",
              "            await google.colab.kernel.invokeFunction('convertToInteractive',\n",
              "                                                     [key], {});\n",
              "          if (!dataTable) return;\n",
              "\n",
              "          const docLinkHtml = 'Like what you see? Visit the ' +\n",
              "            '<a target=\"_blank\" href=https://colab.research.google.com/notebooks/data_table.ipynb>data table notebook</a>'\n",
              "            + ' to learn more about interactive tables.';\n",
              "          element.innerHTML = '';\n",
              "          dataTable['output_type'] = 'display_data';\n",
              "          await google.colab.output.renderOutput(dataTable, element);\n",
              "          const docLink = document.createElement('div');\n",
              "          docLink.innerHTML = docLinkHtml;\n",
              "          element.appendChild(docLink);\n",
              "        }\n",
              "      </script>\n",
              "    </div>\n",
              "  </div>\n",
              "  "
            ]
          },
          "metadata": {},
          "execution_count": 71
        }
      ],
      "source": [
        "# read the csv file \n",
        "df_nestle = pd.read_csv(file)\n",
        "# check 1st five rows of each column of dataframe\n",
        "df_nestle.head()"
      ]
    },
    {
      "cell_type": "markdown",
      "id": "0736b634",
      "metadata": {
        "id": "0736b634"
      },
      "source": [
        "# Data Profiling"
      ]
    },
    {
      "cell_type": "code",
      "execution_count": 6,
      "id": "45b5a13e",
      "metadata": {
        "colab": {
          "base_uri": "https://localhost:8080/"
        },
        "id": "45b5a13e",
        "outputId": "7f93a32c-5f6f-476b-9a01-0ddcd2edf4d5"
      },
      "outputs": [
        {
          "output_type": "execute_result",
          "data": {
            "text/plain": [
              "(4826, 7)"
            ]
          },
          "metadata": {},
          "execution_count": 6
        }
      ],
      "source": [
        "# to check the shape of the dataframe\n",
        "# returns as (rows,columns)\n",
        "df_nestle.shape"
      ]
    },
    {
      "cell_type": "markdown",
      "id": "97f1750b",
      "metadata": {
        "id": "97f1750b"
      },
      "source": [
        "**--> There are 4826 observations (rows) and 7 features (columns) in dataframe.**"
      ]
    },
    {
      "cell_type": "code",
      "execution_count": 7,
      "id": "bd79ded1",
      "metadata": {
        "colab": {
          "base_uri": "https://localhost:8080/"
        },
        "id": "bd79ded1",
        "outputId": "a70c7910-4952-45fa-a203-44b1f906d40d"
      },
      "outputs": [
        {
          "output_type": "execute_result",
          "data": {
            "text/plain": [
              "Index(['Date', 'Open', 'High', 'Low', 'Close', 'Adj Close', 'Volume'], dtype='object')"
            ]
          },
          "metadata": {},
          "execution_count": 7
        }
      ],
      "source": [
        "# to get the name of each column\n",
        "df_nestle.columns"
      ]
    },
    {
      "cell_type": "code",
      "execution_count": 8,
      "id": "46013020",
      "metadata": {
        "colab": {
          "base_uri": "https://localhost:8080/"
        },
        "id": "46013020",
        "outputId": "ca32e88f-4038-465c-8ac4-3d860c2d9787"
      },
      "outputs": [
        {
          "output_type": "stream",
          "name": "stdout",
          "text": [
            "<class 'pandas.core.frame.DataFrame'>\n",
            "RangeIndex: 4826 entries, 0 to 4825\n",
            "Data columns (total 7 columns):\n",
            " #   Column     Non-Null Count  Dtype  \n",
            "---  ------     --------------  -----  \n",
            " 0   Date       4826 non-null   object \n",
            " 1   Open       4819 non-null   float64\n",
            " 2   High       4819 non-null   float64\n",
            " 3   Low        4819 non-null   float64\n",
            " 4   Close      4819 non-null   float64\n",
            " 5   Adj Close  4819 non-null   float64\n",
            " 6   Volume     4819 non-null   float64\n",
            "dtypes: float64(6), object(1)\n",
            "memory usage: 264.0+ KB\n"
          ]
        }
      ],
      "source": [
        "# to get the information about the data\n",
        "# it will return column name and its datatypes as well number of rows where each cell contains some value(non-null number)\n",
        "df_nestle.info()"
      ]
    },
    {
      "cell_type": "markdown",
      "id": "d09f677d",
      "metadata": {
        "id": "d09f677d"
      },
      "source": [
        "**--> Here we can see there can be null values except 'Date' column**"
      ]
    },
    {
      "cell_type": "code",
      "execution_count": 9,
      "id": "5ffc0ec1",
      "metadata": {
        "colab": {
          "base_uri": "https://localhost:8080/",
          "height": 300
        },
        "id": "5ffc0ec1",
        "outputId": "556022a8-7fc8-4343-e01a-b77aae13acee"
      },
      "outputs": [
        {
          "output_type": "execute_result",
          "data": {
            "text/plain": [
              "               Open          High           Low         Close     Adj Close  \\\n",
              "count   4819.000000   4819.000000   4819.000000   4819.000000   4819.000000   \n",
              "mean    5204.690766   5260.786466   5145.069648   5201.452563   4838.138436   \n",
              "std     5292.899033   5349.956141   5229.311467   5289.042545   5162.053461   \n",
              "min      502.100006    512.549988    498.049988    505.149994    415.997742   \n",
              "25%      527.049988    527.049988    527.049988    527.049988    441.999664   \n",
              "50%     4436.000000   4479.000000   4396.000000   4434.000000   3875.172607   \n",
              "75%     6801.350098   6860.125000   6725.125000   6795.324951   6184.599853   \n",
              "max    20450.000000  20609.150391  20230.000000  20457.199219  20164.644531   \n",
              "\n",
              "             Volume  \n",
              "count  4.819000e+03  \n",
              "mean   3.469234e+04  \n",
              "std    6.186095e+04  \n",
              "min    0.000000e+00  \n",
              "25%    0.000000e+00  \n",
              "50%    1.450600e+04  \n",
              "75%    4.544950e+04  \n",
              "max    1.106746e+06  "
            ],
            "text/html": [
              "\n",
              "  <div id=\"df-9354d197-7d69-4b28-9f41-26f432606540\">\n",
              "    <div class=\"colab-df-container\">\n",
              "      <div>\n",
              "<style scoped>\n",
              "    .dataframe tbody tr th:only-of-type {\n",
              "        vertical-align: middle;\n",
              "    }\n",
              "\n",
              "    .dataframe tbody tr th {\n",
              "        vertical-align: top;\n",
              "    }\n",
              "\n",
              "    .dataframe thead th {\n",
              "        text-align: right;\n",
              "    }\n",
              "</style>\n",
              "<table border=\"1\" class=\"dataframe\">\n",
              "  <thead>\n",
              "    <tr style=\"text-align: right;\">\n",
              "      <th></th>\n",
              "      <th>Open</th>\n",
              "      <th>High</th>\n",
              "      <th>Low</th>\n",
              "      <th>Close</th>\n",
              "      <th>Adj Close</th>\n",
              "      <th>Volume</th>\n",
              "    </tr>\n",
              "  </thead>\n",
              "  <tbody>\n",
              "    <tr>\n",
              "      <th>count</th>\n",
              "      <td>4819.000000</td>\n",
              "      <td>4819.000000</td>\n",
              "      <td>4819.000000</td>\n",
              "      <td>4819.000000</td>\n",
              "      <td>4819.000000</td>\n",
              "      <td>4.819000e+03</td>\n",
              "    </tr>\n",
              "    <tr>\n",
              "      <th>mean</th>\n",
              "      <td>5204.690766</td>\n",
              "      <td>5260.786466</td>\n",
              "      <td>5145.069648</td>\n",
              "      <td>5201.452563</td>\n",
              "      <td>4838.138436</td>\n",
              "      <td>3.469234e+04</td>\n",
              "    </tr>\n",
              "    <tr>\n",
              "      <th>std</th>\n",
              "      <td>5292.899033</td>\n",
              "      <td>5349.956141</td>\n",
              "      <td>5229.311467</td>\n",
              "      <td>5289.042545</td>\n",
              "      <td>5162.053461</td>\n",
              "      <td>6.186095e+04</td>\n",
              "    </tr>\n",
              "    <tr>\n",
              "      <th>min</th>\n",
              "      <td>502.100006</td>\n",
              "      <td>512.549988</td>\n",
              "      <td>498.049988</td>\n",
              "      <td>505.149994</td>\n",
              "      <td>415.997742</td>\n",
              "      <td>0.000000e+00</td>\n",
              "    </tr>\n",
              "    <tr>\n",
              "      <th>25%</th>\n",
              "      <td>527.049988</td>\n",
              "      <td>527.049988</td>\n",
              "      <td>527.049988</td>\n",
              "      <td>527.049988</td>\n",
              "      <td>441.999664</td>\n",
              "      <td>0.000000e+00</td>\n",
              "    </tr>\n",
              "    <tr>\n",
              "      <th>50%</th>\n",
              "      <td>4436.000000</td>\n",
              "      <td>4479.000000</td>\n",
              "      <td>4396.000000</td>\n",
              "      <td>4434.000000</td>\n",
              "      <td>3875.172607</td>\n",
              "      <td>1.450600e+04</td>\n",
              "    </tr>\n",
              "    <tr>\n",
              "      <th>75%</th>\n",
              "      <td>6801.350098</td>\n",
              "      <td>6860.125000</td>\n",
              "      <td>6725.125000</td>\n",
              "      <td>6795.324951</td>\n",
              "      <td>6184.599853</td>\n",
              "      <td>4.544950e+04</td>\n",
              "    </tr>\n",
              "    <tr>\n",
              "      <th>max</th>\n",
              "      <td>20450.000000</td>\n",
              "      <td>20609.150391</td>\n",
              "      <td>20230.000000</td>\n",
              "      <td>20457.199219</td>\n",
              "      <td>20164.644531</td>\n",
              "      <td>1.106746e+06</td>\n",
              "    </tr>\n",
              "  </tbody>\n",
              "</table>\n",
              "</div>\n",
              "      <button class=\"colab-df-convert\" onclick=\"convertToInteractive('df-9354d197-7d69-4b28-9f41-26f432606540')\"\n",
              "              title=\"Convert this dataframe to an interactive table.\"\n",
              "              style=\"display:none;\">\n",
              "        \n",
              "  <svg xmlns=\"http://www.w3.org/2000/svg\" height=\"24px\"viewBox=\"0 0 24 24\"\n",
              "       width=\"24px\">\n",
              "    <path d=\"M0 0h24v24H0V0z\" fill=\"none\"/>\n",
              "    <path d=\"M18.56 5.44l.94 2.06.94-2.06 2.06-.94-2.06-.94-.94-2.06-.94 2.06-2.06.94zm-11 1L8.5 8.5l.94-2.06 2.06-.94-2.06-.94L8.5 2.5l-.94 2.06-2.06.94zm10 10l.94 2.06.94-2.06 2.06-.94-2.06-.94-.94-2.06-.94 2.06-2.06.94z\"/><path d=\"M17.41 7.96l-1.37-1.37c-.4-.4-.92-.59-1.43-.59-.52 0-1.04.2-1.43.59L10.3 9.45l-7.72 7.72c-.78.78-.78 2.05 0 2.83L4 21.41c.39.39.9.59 1.41.59.51 0 1.02-.2 1.41-.59l7.78-7.78 2.81-2.81c.8-.78.8-2.07 0-2.86zM5.41 20L4 18.59l7.72-7.72 1.47 1.35L5.41 20z\"/>\n",
              "  </svg>\n",
              "      </button>\n",
              "      \n",
              "  <style>\n",
              "    .colab-df-container {\n",
              "      display:flex;\n",
              "      flex-wrap:wrap;\n",
              "      gap: 12px;\n",
              "    }\n",
              "\n",
              "    .colab-df-convert {\n",
              "      background-color: #E8F0FE;\n",
              "      border: none;\n",
              "      border-radius: 50%;\n",
              "      cursor: pointer;\n",
              "      display: none;\n",
              "      fill: #1967D2;\n",
              "      height: 32px;\n",
              "      padding: 0 0 0 0;\n",
              "      width: 32px;\n",
              "    }\n",
              "\n",
              "    .colab-df-convert:hover {\n",
              "      background-color: #E2EBFA;\n",
              "      box-shadow: 0px 1px 2px rgba(60, 64, 67, 0.3), 0px 1px 3px 1px rgba(60, 64, 67, 0.15);\n",
              "      fill: #174EA6;\n",
              "    }\n",
              "\n",
              "    [theme=dark] .colab-df-convert {\n",
              "      background-color: #3B4455;\n",
              "      fill: #D2E3FC;\n",
              "    }\n",
              "\n",
              "    [theme=dark] .colab-df-convert:hover {\n",
              "      background-color: #434B5C;\n",
              "      box-shadow: 0px 1px 3px 1px rgba(0, 0, 0, 0.15);\n",
              "      filter: drop-shadow(0px 1px 2px rgba(0, 0, 0, 0.3));\n",
              "      fill: #FFFFFF;\n",
              "    }\n",
              "  </style>\n",
              "\n",
              "      <script>\n",
              "        const buttonEl =\n",
              "          document.querySelector('#df-9354d197-7d69-4b28-9f41-26f432606540 button.colab-df-convert');\n",
              "        buttonEl.style.display =\n",
              "          google.colab.kernel.accessAllowed ? 'block' : 'none';\n",
              "\n",
              "        async function convertToInteractive(key) {\n",
              "          const element = document.querySelector('#df-9354d197-7d69-4b28-9f41-26f432606540');\n",
              "          const dataTable =\n",
              "            await google.colab.kernel.invokeFunction('convertToInteractive',\n",
              "                                                     [key], {});\n",
              "          if (!dataTable) return;\n",
              "\n",
              "          const docLinkHtml = 'Like what you see? Visit the ' +\n",
              "            '<a target=\"_blank\" href=https://colab.research.google.com/notebooks/data_table.ipynb>data table notebook</a>'\n",
              "            + ' to learn more about interactive tables.';\n",
              "          element.innerHTML = '';\n",
              "          dataTable['output_type'] = 'display_data';\n",
              "          await google.colab.output.renderOutput(dataTable, element);\n",
              "          const docLink = document.createElement('div');\n",
              "          docLink.innerHTML = docLinkHtml;\n",
              "          element.appendChild(docLink);\n",
              "        }\n",
              "      </script>\n",
              "    </div>\n",
              "  </div>\n",
              "  "
            ]
          },
          "metadata": {},
          "execution_count": 9
        }
      ],
      "source": [
        "# to check the basic statistics of each column\n",
        "# count = Number of rows where element is present\n",
        "# mean  = average\n",
        "# std = Standard deviation used to know in what range and how far data is distributed\n",
        "# min = minimum value\n",
        "# 25% = 1st quartile which means 25% of the data is below the q1 value\n",
        "# 50% = 2nd quartile which means 50% of the data is below the q2 value (median)\n",
        "# 75% = 3rd quartile which means 75% of the data is below the q3 value\n",
        "# max = maximum value of the data \n",
        "df_nestle.describe()"
      ]
    },
    {
      "cell_type": "markdown",
      "id": "a0703419",
      "metadata": {
        "id": "a0703419"
      },
      "source": [
        "**--> Here we can see there are most columns present where mean and median are almost at same range. But if we find large difference between mean and median, then there are chanced to have outliers.**\n",
        "\n",
        "**--> Outliers are nothing but extremely high or low values which are out of range of column and it affects mean value** "
      ]
    },
    {
      "cell_type": "markdown",
      "id": "4bebd15a",
      "metadata": {
        "id": "4bebd15a"
      },
      "source": [
        "**[*] Value counts of categorical column**\n",
        "\n",
        "\n",
        "**--> No need to do this as only column 'Date' is categorical**"
      ]
    },
    {
      "cell_type": "markdown",
      "id": "925c409b",
      "metadata": {
        "id": "925c409b"
      },
      "source": [
        "**[*] Drop unnecessary column say Adj Close**"
      ]
    },
    {
      "cell_type": "code",
      "execution_count": 10,
      "id": "80153ede",
      "metadata": {
        "id": "80153ede"
      },
      "outputs": [],
      "source": [
        "df_nestle.drop('Adj Close',axis = 1,inplace = True)"
      ]
    },
    {
      "cell_type": "markdown",
      "id": "3bb001fd",
      "metadata": {
        "id": "3bb001fd"
      },
      "source": [
        "# Check null values"
      ]
    },
    {
      "cell_type": "code",
      "execution_count": 11,
      "id": "8cee5b13",
      "metadata": {
        "colab": {
          "base_uri": "https://localhost:8080/"
        },
        "id": "8cee5b13",
        "outputId": "c815c5f0-64e4-4eb9-96db-7e2e7019a5f9"
      },
      "outputs": [
        {
          "output_type": "execute_result",
          "data": {
            "text/plain": [
              "Date      0\n",
              "Open      7\n",
              "High      7\n",
              "Low       7\n",
              "Close     7\n",
              "Volume    7\n",
              "dtype: int64"
            ]
          },
          "metadata": {},
          "execution_count": 11
        }
      ],
      "source": [
        "# isnull() = checks is there any null value row-wise, returns True if there are null values\n",
        "# sum() = gives sum of rows where there is null value\n",
        "df_nestle.isnull().sum()"
      ]
    },
    {
      "cell_type": "markdown",
      "id": "b96be387",
      "metadata": {
        "id": "b96be387"
      },
      "source": [
        "**--> All columns have null values except 'Date' column.**\n",
        "\n",
        "**As this data and project is connected to finance, it is not appropriate to drop null value rows as it can be very important\n",
        "event to look upon**"
      ]
    },
    {
      "cell_type": "code",
      "execution_count": 12,
      "id": "39a8b7b2",
      "metadata": {
        "colab": {
          "base_uri": "https://localhost:8080/",
          "height": 269
        },
        "id": "39a8b7b2",
        "outputId": "8a5f5e61-59ca-4897-c0a6-4beef8d3739e"
      },
      "outputs": [
        {
          "output_type": "execute_result",
          "data": {
            "text/plain": [
              "            Date  Open  High  Low  Close  Volume\n",
              "1883  2010-02-06   NaN   NaN  NaN    NaN     NaN\n",
              "2361  2012-01-07   NaN   NaN  NaN    NaN     NaN\n",
              "2400  2012-03-03   NaN   NaN  NaN    NaN     NaN\n",
              "2530  2012-09-08   NaN   NaN  NaN    NaN     NaN\n",
              "2572  2012-11-11   NaN   NaN  NaN    NaN     NaN\n",
              "2909  2014-03-22   NaN   NaN  NaN    NaN     NaN\n",
              "3138  2015-02-28   NaN   NaN  NaN    NaN     NaN"
            ],
            "text/html": [
              "\n",
              "  <div id=\"df-40d5b401-e91e-4dc8-95ac-95f0bb7d6939\">\n",
              "    <div class=\"colab-df-container\">\n",
              "      <div>\n",
              "<style scoped>\n",
              "    .dataframe tbody tr th:only-of-type {\n",
              "        vertical-align: middle;\n",
              "    }\n",
              "\n",
              "    .dataframe tbody tr th {\n",
              "        vertical-align: top;\n",
              "    }\n",
              "\n",
              "    .dataframe thead th {\n",
              "        text-align: right;\n",
              "    }\n",
              "</style>\n",
              "<table border=\"1\" class=\"dataframe\">\n",
              "  <thead>\n",
              "    <tr style=\"text-align: right;\">\n",
              "      <th></th>\n",
              "      <th>Date</th>\n",
              "      <th>Open</th>\n",
              "      <th>High</th>\n",
              "      <th>Low</th>\n",
              "      <th>Close</th>\n",
              "      <th>Volume</th>\n",
              "    </tr>\n",
              "  </thead>\n",
              "  <tbody>\n",
              "    <tr>\n",
              "      <th>1883</th>\n",
              "      <td>2010-02-06</td>\n",
              "      <td>NaN</td>\n",
              "      <td>NaN</td>\n",
              "      <td>NaN</td>\n",
              "      <td>NaN</td>\n",
              "      <td>NaN</td>\n",
              "    </tr>\n",
              "    <tr>\n",
              "      <th>2361</th>\n",
              "      <td>2012-01-07</td>\n",
              "      <td>NaN</td>\n",
              "      <td>NaN</td>\n",
              "      <td>NaN</td>\n",
              "      <td>NaN</td>\n",
              "      <td>NaN</td>\n",
              "    </tr>\n",
              "    <tr>\n",
              "      <th>2400</th>\n",
              "      <td>2012-03-03</td>\n",
              "      <td>NaN</td>\n",
              "      <td>NaN</td>\n",
              "      <td>NaN</td>\n",
              "      <td>NaN</td>\n",
              "      <td>NaN</td>\n",
              "    </tr>\n",
              "    <tr>\n",
              "      <th>2530</th>\n",
              "      <td>2012-09-08</td>\n",
              "      <td>NaN</td>\n",
              "      <td>NaN</td>\n",
              "      <td>NaN</td>\n",
              "      <td>NaN</td>\n",
              "      <td>NaN</td>\n",
              "    </tr>\n",
              "    <tr>\n",
              "      <th>2572</th>\n",
              "      <td>2012-11-11</td>\n",
              "      <td>NaN</td>\n",
              "      <td>NaN</td>\n",
              "      <td>NaN</td>\n",
              "      <td>NaN</td>\n",
              "      <td>NaN</td>\n",
              "    </tr>\n",
              "    <tr>\n",
              "      <th>2909</th>\n",
              "      <td>2014-03-22</td>\n",
              "      <td>NaN</td>\n",
              "      <td>NaN</td>\n",
              "      <td>NaN</td>\n",
              "      <td>NaN</td>\n",
              "      <td>NaN</td>\n",
              "    </tr>\n",
              "    <tr>\n",
              "      <th>3138</th>\n",
              "      <td>2015-02-28</td>\n",
              "      <td>NaN</td>\n",
              "      <td>NaN</td>\n",
              "      <td>NaN</td>\n",
              "      <td>NaN</td>\n",
              "      <td>NaN</td>\n",
              "    </tr>\n",
              "  </tbody>\n",
              "</table>\n",
              "</div>\n",
              "      <button class=\"colab-df-convert\" onclick=\"convertToInteractive('df-40d5b401-e91e-4dc8-95ac-95f0bb7d6939')\"\n",
              "              title=\"Convert this dataframe to an interactive table.\"\n",
              "              style=\"display:none;\">\n",
              "        \n",
              "  <svg xmlns=\"http://www.w3.org/2000/svg\" height=\"24px\"viewBox=\"0 0 24 24\"\n",
              "       width=\"24px\">\n",
              "    <path d=\"M0 0h24v24H0V0z\" fill=\"none\"/>\n",
              "    <path d=\"M18.56 5.44l.94 2.06.94-2.06 2.06-.94-2.06-.94-.94-2.06-.94 2.06-2.06.94zm-11 1L8.5 8.5l.94-2.06 2.06-.94-2.06-.94L8.5 2.5l-.94 2.06-2.06.94zm10 10l.94 2.06.94-2.06 2.06-.94-2.06-.94-.94-2.06-.94 2.06-2.06.94z\"/><path d=\"M17.41 7.96l-1.37-1.37c-.4-.4-.92-.59-1.43-.59-.52 0-1.04.2-1.43.59L10.3 9.45l-7.72 7.72c-.78.78-.78 2.05 0 2.83L4 21.41c.39.39.9.59 1.41.59.51 0 1.02-.2 1.41-.59l7.78-7.78 2.81-2.81c.8-.78.8-2.07 0-2.86zM5.41 20L4 18.59l7.72-7.72 1.47 1.35L5.41 20z\"/>\n",
              "  </svg>\n",
              "      </button>\n",
              "      \n",
              "  <style>\n",
              "    .colab-df-container {\n",
              "      display:flex;\n",
              "      flex-wrap:wrap;\n",
              "      gap: 12px;\n",
              "    }\n",
              "\n",
              "    .colab-df-convert {\n",
              "      background-color: #E8F0FE;\n",
              "      border: none;\n",
              "      border-radius: 50%;\n",
              "      cursor: pointer;\n",
              "      display: none;\n",
              "      fill: #1967D2;\n",
              "      height: 32px;\n",
              "      padding: 0 0 0 0;\n",
              "      width: 32px;\n",
              "    }\n",
              "\n",
              "    .colab-df-convert:hover {\n",
              "      background-color: #E2EBFA;\n",
              "      box-shadow: 0px 1px 2px rgba(60, 64, 67, 0.3), 0px 1px 3px 1px rgba(60, 64, 67, 0.15);\n",
              "      fill: #174EA6;\n",
              "    }\n",
              "\n",
              "    [theme=dark] .colab-df-convert {\n",
              "      background-color: #3B4455;\n",
              "      fill: #D2E3FC;\n",
              "    }\n",
              "\n",
              "    [theme=dark] .colab-df-convert:hover {\n",
              "      background-color: #434B5C;\n",
              "      box-shadow: 0px 1px 3px 1px rgba(0, 0, 0, 0.15);\n",
              "      filter: drop-shadow(0px 1px 2px rgba(0, 0, 0, 0.3));\n",
              "      fill: #FFFFFF;\n",
              "    }\n",
              "  </style>\n",
              "\n",
              "      <script>\n",
              "        const buttonEl =\n",
              "          document.querySelector('#df-40d5b401-e91e-4dc8-95ac-95f0bb7d6939 button.colab-df-convert');\n",
              "        buttonEl.style.display =\n",
              "          google.colab.kernel.accessAllowed ? 'block' : 'none';\n",
              "\n",
              "        async function convertToInteractive(key) {\n",
              "          const element = document.querySelector('#df-40d5b401-e91e-4dc8-95ac-95f0bb7d6939');\n",
              "          const dataTable =\n",
              "            await google.colab.kernel.invokeFunction('convertToInteractive',\n",
              "                                                     [key], {});\n",
              "          if (!dataTable) return;\n",
              "\n",
              "          const docLinkHtml = 'Like what you see? Visit the ' +\n",
              "            '<a target=\"_blank\" href=https://colab.research.google.com/notebooks/data_table.ipynb>data table notebook</a>'\n",
              "            + ' to learn more about interactive tables.';\n",
              "          element.innerHTML = '';\n",
              "          dataTable['output_type'] = 'display_data';\n",
              "          await google.colab.output.renderOutput(dataTable, element);\n",
              "          const docLink = document.createElement('div');\n",
              "          docLink.innerHTML = docLinkHtml;\n",
              "          element.appendChild(docLink);\n",
              "        }\n",
              "      </script>\n",
              "    </div>\n",
              "  </div>\n",
              "  "
            ]
          },
          "metadata": {},
          "execution_count": 12
        }
      ],
      "source": [
        "null_rows = df_nestle.loc[df_nestle.isna().any(axis = 1)]\n",
        "null_rows"
      ]
    },
    {
      "cell_type": "code",
      "execution_count": 13,
      "id": "a75edb23",
      "metadata": {
        "colab": {
          "base_uri": "https://localhost:8080/"
        },
        "id": "a75edb23",
        "outputId": "1c16bddd-6f18-461c-c468-30c4f4b25fa5"
      },
      "outputs": [
        {
          "output_type": "execute_result",
          "data": {
            "text/plain": [
              "Date       2010-02-06\n",
              "Open           2576.0\n",
              "High           2627.0\n",
              "Low            2506.0\n",
              "Close     2597.300049\n",
              "Volume         4916.0\n",
              "Name: 1883, dtype: object"
            ]
          },
          "metadata": {},
          "execution_count": 13
        }
      ],
      "source": [
        "a1 = df_nestle.iloc[1882]\n",
        "a2 = df_nestle.iloc[1883]\n",
        "a3 = df_nestle.iloc[1884]\n",
        "b1 = (a1['Open'] + a3['Open'])/2\n",
        "b2 = (a1['High'] + a3['High'])/2\n",
        "b3 = (a1['Low'] + a3['Low'])/2\n",
        "b4 = (a1['Close'] + a3['Close'])/2\n",
        "b5= (a1['Volume'] + a3['Volume'])/2\n",
        "\n",
        "df_nestle.iloc[1883] = {'Date':'2010-02-06','Open':b1,'High':b2,'Low':b3,'Close':b4,'Volume':b5}\n",
        "df_nestle.iloc[1883]"
      ]
    },
    {
      "cell_type": "code",
      "execution_count": 14,
      "id": "32e8ef38",
      "metadata": {
        "colab": {
          "base_uri": "https://localhost:8080/"
        },
        "id": "32e8ef38",
        "outputId": "0058aca5-aa4b-4df6-91f5-2a34a708f97d"
      },
      "outputs": [
        {
          "output_type": "execute_result",
          "data": {
            "text/plain": [
              "Date      2010-02-06\n",
              "Open         4123.25\n",
              "High          4148.5\n",
              "Low           4082.5\n",
              "Close       4117.375\n",
              "Volume       16805.5\n",
              "Name: 2361, dtype: object"
            ]
          },
          "metadata": {},
          "execution_count": 14
        }
      ],
      "source": [
        "a1 = df_nestle.iloc[2360]\n",
        "a2 = df_nestle.iloc[2361]\n",
        "a3 = df_nestle.iloc[2362]\n",
        "b1 = (a1['Open'] + a3['Open'])/2\n",
        "b2 = (a1['High'] + a3['High'])/2\n",
        "b3 = (a1['Low'] + a3['Low'])/2\n",
        "b4 = (a1['Close'] + a3['Close'])/2\n",
        "b5= (a1['Volume'] + a3['Volume'])/2\n",
        "\n",
        "df_nestle.iloc[2361] = {'Date':'2010-02-06','Open':b1,'High':b2,'Low':b3,'Close':b4,'Volume':b5}\n",
        "df_nestle.iloc[2361]"
      ]
    },
    {
      "cell_type": "code",
      "execution_count": 15,
      "id": "05d3fe9f",
      "metadata": {
        "colab": {
          "base_uri": "https://localhost:8080/"
        },
        "id": "05d3fe9f",
        "outputId": "b38ee51b-f4be-4d1c-e74a-5e2b493b8eb6"
      },
      "outputs": [
        {
          "output_type": "execute_result",
          "data": {
            "text/plain": [
              "Date       2010-02-06\n",
              "Open      4449.175049\n",
              "High      4489.475098\n",
              "Low       4379.199951\n",
              "Close     4439.324951\n",
              "Volume        26614.0\n",
              "Name: 2400, dtype: object"
            ]
          },
          "metadata": {},
          "execution_count": 15
        }
      ],
      "source": [
        "a1 = df_nestle.iloc[2399]\n",
        "a2 = df_nestle.iloc[2400]\n",
        "a3 = df_nestle.iloc[2401]\n",
        "b1 = (a1['Open'] + a3['Open'])/2\n",
        "b2 = (a1['High'] + a3['High'])/2\n",
        "b3 = (a1['Low'] + a3['Low'])/2\n",
        "b4 = (a1['Close'] + a3['Close'])/2\n",
        "b5= (a1['Volume'] + a3['Volume'])/2\n",
        "\n",
        "df_nestle.iloc[2400] = {'Date':'2010-02-06','Open':b1,'High':b2,'Low':b3,'Close':b4,'Volume':b5}\n",
        "df_nestle.iloc[2400]"
      ]
    },
    {
      "cell_type": "code",
      "execution_count": 16,
      "id": "f5f4c7f0",
      "metadata": {
        "colab": {
          "base_uri": "https://localhost:8080/"
        },
        "id": "f5f4c7f0",
        "outputId": "6fc16e5b-7ad8-4d43-d74d-9541e3ee25c8"
      },
      "outputs": [
        {
          "output_type": "execute_result",
          "data": {
            "text/plain": [
              "Date       2010-02-06\n",
              "Open      4648.899902\n",
              "High      4658.399902\n",
              "Low            4577.5\n",
              "Close         4596.25\n",
              "Volume        66783.5\n",
              "Name: 2530, dtype: object"
            ]
          },
          "metadata": {},
          "execution_count": 16
        }
      ],
      "source": [
        "a1 = df_nestle.iloc[2529]\n",
        "a2 = df_nestle.iloc[2530]\n",
        "a3 = df_nestle.iloc[2531]\n",
        "b1 = (a1['Open'] + a3['Open'])/2\n",
        "b2 = (a1['High'] + a3['High'])/2\n",
        "b3 = (a1['Low'] + a3['Low'])/2\n",
        "b4 = (a1['Close'] + a3['Close'])/2\n",
        "b5= (a1['Volume'] + a3['Volume'])/2\n",
        "\n",
        "df_nestle.iloc[2530] = {'Date':'2010-02-06','Open':b1,'High':b2,'Low':b3,'Close':b4,'Volume':b5}\n",
        "df_nestle.iloc[2530]"
      ]
    },
    {
      "cell_type": "code",
      "execution_count": 17,
      "id": "4be8d3fd",
      "metadata": {
        "colab": {
          "base_uri": "https://localhost:8080/"
        },
        "id": "4be8d3fd",
        "outputId": "b19131d8-5ea8-41a1-9f36-ab3fbe735af7"
      },
      "outputs": [
        {
          "output_type": "execute_result",
          "data": {
            "text/plain": [
              "Date       2010-02-06\n",
              "Open      4884.975098\n",
              "High           4910.0\n",
              "Low       4824.975098\n",
              "Close     4833.099853\n",
              "Volume         6509.5\n",
              "Name: 2572, dtype: object"
            ]
          },
          "metadata": {},
          "execution_count": 17
        }
      ],
      "source": [
        "a1 = df_nestle.iloc[2571]\n",
        "a2 = df_nestle.iloc[2572]\n",
        "a3 = df_nestle.iloc[2573]\n",
        "b1 = (a1['Open'] + a3['Open'])/2\n",
        "b2 = (a1['High'] + a3['High'])/2\n",
        "b3 = (a1['Low'] + a3['Low'])/2\n",
        "b4 = (a1['Close'] + a3['Close'])/2\n",
        "b5= (a1['Volume'] + a3['Volume'])/2\n",
        "\n",
        "df_nestle.iloc[2572] = {'Date':'2010-02-06','Open':b1,'High':b2,'Low':b3,'Close':b4,'Volume':b5}\n",
        "df_nestle.iloc[2572]"
      ]
    },
    {
      "cell_type": "code",
      "execution_count": 18,
      "id": "b5c41a60",
      "metadata": {
        "colab": {
          "base_uri": "https://localhost:8080/"
        },
        "id": "b5c41a60",
        "outputId": "9cd9c424-d62b-4b34-d300-486497b79d54"
      },
      "outputs": [
        {
          "output_type": "execute_result",
          "data": {
            "text/plain": [
              "Date       2010-02-06\n",
              "Open           4800.0\n",
              "High      4829.899902\n",
              "Low            4713.0\n",
              "Close     4726.349853\n",
              "Volume        28163.5\n",
              "Name: 2909, dtype: object"
            ]
          },
          "metadata": {},
          "execution_count": 18
        }
      ],
      "source": [
        "a1 = df_nestle.iloc[2908]\n",
        "a2 = df_nestle.iloc[2909]\n",
        "a3 = df_nestle.iloc[2910]\n",
        "b1 = (a1['Open'] + a3['Open'])/2\n",
        "b2 = (a1['High'] + a3['High'])/2\n",
        "b3 = (a1['Low'] + a3['Low'])/2\n",
        "b4 = (a1['Close'] + a3['Close'])/2\n",
        "b5= (a1['Volume'] + a3['Volume'])/2\n",
        "\n",
        "df_nestle.iloc[2909] = {'Date':'2010-02-06','Open':b1,'High':b2,'Low':b3,'Close':b4,'Volume':b5}\n",
        "df_nestle.iloc[2909]"
      ]
    },
    {
      "cell_type": "code",
      "execution_count": 19,
      "id": "ac9d4c37",
      "metadata": {
        "colab": {
          "base_uri": "https://localhost:8080/"
        },
        "id": "ac9d4c37",
        "outputId": "588698aa-8b2e-46a0-8b82-d37513724e76"
      },
      "outputs": [
        {
          "output_type": "execute_result",
          "data": {
            "text/plain": [
              "Date       2010-02-06\n",
              "Open      7047.274902\n",
              "High      7054.399902\n",
              "Low       6974.725098\n",
              "Close     7005.474853\n",
              "Volume        45861.0\n",
              "Name: 3138, dtype: object"
            ]
          },
          "metadata": {},
          "execution_count": 19
        }
      ],
      "source": [
        "a1 = df_nestle.iloc[3137]\n",
        "a2 = df_nestle.iloc[3138]\n",
        "a3 = df_nestle.iloc[3139]\n",
        "b1 = (a1['Open'] + a3['Open'])/2\n",
        "b2 = (a1['High'] + a3['High'])/2\n",
        "b3 = (a1['Low'] + a3['Low'])/2\n",
        "b4 = (a1['Close'] + a3['Close'])/2\n",
        "b5= (a1['Volume'] + a3['Volume'])/2\n",
        "\n",
        "df_nestle.iloc[3138] = {'Date':'2010-02-06','Open':b1,'High':b2,'Low':b3,'Close':b4,'Volume':b5}\n",
        "df_nestle.iloc[3138]"
      ]
    },
    {
      "cell_type": "code",
      "execution_count": 20,
      "id": "cfba5033",
      "metadata": {
        "colab": {
          "base_uri": "https://localhost:8080/"
        },
        "id": "cfba5033",
        "outputId": "723f8bd6-534d-4050-9be9-585db069ad12"
      },
      "outputs": [
        {
          "output_type": "execute_result",
          "data": {
            "text/plain": [
              "Date      0\n",
              "Open      0\n",
              "High      0\n",
              "Low       0\n",
              "Close     0\n",
              "Volume    0\n",
              "dtype: int64"
            ]
          },
          "metadata": {},
          "execution_count": 20
        }
      ],
      "source": [
        "df_nestle.isnull().sum()"
      ]
    },
    {
      "cell_type": "markdown",
      "id": "9f4e5d8c",
      "metadata": {
        "id": "9f4e5d8c"
      },
      "source": [
        "**Here we can see all null values are being replaced by the mean of previous row and successive row**"
      ]
    },
    {
      "cell_type": "markdown",
      "id": "91239045",
      "metadata": {
        "id": "91239045"
      },
      "source": [
        "# Detecting Outliers"
      ]
    },
    {
      "cell_type": "code",
      "execution_count": 72,
      "id": "637d7c04",
      "metadata": {
        "colab": {
          "base_uri": "https://localhost:8080/",
          "height": 500
        },
        "id": "637d7c04",
        "outputId": "7375f7e4-60b5-4db9-d147-7eca68a23747"
      },
      "outputs": [
        {
          "output_type": "execute_result",
          "data": {
            "text/plain": [
              "<matplotlib.axes._subplots.AxesSubplot at 0x7f18653ac910>"
            ]
          },
          "metadata": {},
          "execution_count": 72
        },
        {
          "output_type": "display_data",
          "data": {
            "text/plain": [
              "<Figure size 576x576 with 1 Axes>"
            ],
            "image/png": "[encoded data removed]"
          },
          "metadata": {
            "needs_background": "light"
          }
        }
      ],
      "source": [
        "# by using rcParams and its method 'figure.figsize' we can adjust the length and breadh of the figure\n",
        "plt.rcParams['figure.figsize'] = [8,8]\n",
        "\n",
        "# using boxplot to check whether data columns has any outlier value\n",
        "# boxplot indicates maximum value,3rd quartile,median,1st quartile and minimum value with linea and whiskers\n",
        "# whereas circle shows outliers\n",
        "\n",
        "df_nestle_temp = df_nestle.copy()\n",
        "df_nestle_temp.drop('Volume',axis = 1,inplace = True)\n",
        "df_nestle_temp.boxplot()"
      ]
    },
    {
      "cell_type": "markdown",
      "source": [
        "# Treatment to outliers"
      ],
      "metadata": {
        "id": "XJhOwHI00LbG"
      },
      "id": "XJhOwHI00LbG"
    },
    {
      "cell_type": "code",
      "execution_count": 23,
      "id": "eb01f906",
      "metadata": {
        "colab": {
          "base_uri": "https://localhost:8080/"
        },
        "id": "eb01f906",
        "outputId": "da4081c0-f248-4bf6-edfd-0da038527578"
      },
      "outputs": [
        {
          "output_type": "stream",
          "name": "stdout",
          "text": [
            "Mean of copied dataframe 'Open' : 5203.8819675624745\n"
          ]
        }
      ],
      "source": [
        "q1 = np.percentile(df_nestle_temp['Open'],25)   # q1 = first quartile using 25%\n",
        "q3 = np.percentile(df_nestle_temp['Open'],75)   # q3 = third quartile using 75%\n",
        "iqr = q3 - q1                                   # iqr = inter quartile range , difference between 1st and third quartile\n",
        "low = q1 - 1.5*iqr                              # low = set threshhold that values 1.5 times of iqr lower than q1 \n",
        "high = q3 + 1.5*iqr                             # high = set threshhold that values 1.5 times of iqr more than q3 \n",
        "\n",
        "\n",
        "# criterion : if any value in copy df is lower than q1 or higher than q3 are there in loop, drop that index\n",
        "for i in df_nestle_temp['Open']:\n",
        "    if i > high and i < low:\n",
        "        df_nestle_temp.drop(df_nestle_temp.index[i],inplace = True)\n",
        "\n",
        "# find mean from the copied df where values not matching criterion are removed        \n",
        "m1 = float(df_nestle_temp['Open'].mean())        \n",
        "print(\"Mean of copied dataframe 'Open' :\",m1)\n",
        "\n",
        "# for any value in original df not matching criterion , then replace it with mean of copied df\n",
        "for i in df_nestle['Open']:\n",
        "    if i > high:\n",
        "        df_nestle['Open'].replace(to_replace = i,value = m1,inplace = True)\n",
        "for i in df_nestle['Open']:\n",
        "    if i < low:\n",
        "        df_nestle['Open'].replace(to_replace = i,value = m1,inplace = True)\n"
      ]
    },
    {
      "cell_type": "code",
      "execution_count": 24,
      "id": "379a2f2b",
      "metadata": {
        "colab": {
          "base_uri": "https://localhost:8080/",
          "height": 569
        },
        "id": "379a2f2b",
        "outputId": "af4a2bd6-3d55-4dee-8ef7-673147a35ed7"
      },
      "outputs": [
        {
          "output_type": "stream",
          "name": "stderr",
          "text": [
            "/usr/local/lib/python3.7/dist-packages/seaborn/_decorators.py:43: FutureWarning: Pass the following variable as a keyword arg: x. From version 0.12, the only valid positional argument will be `data`, and passing other arguments without an explicit keyword will result in an error or misinterpretation.\n",
            "  FutureWarning\n"
          ]
        },
        {
          "output_type": "execute_result",
          "data": {
            "text/plain": [
              "<matplotlib.axes._subplots.AxesSubplot at 0x7f18653ac950>"
            ]
          },
          "metadata": {},
          "execution_count": 24
        },
        {
          "output_type": "display_data",
          "data": {
            "text/plain": [
              "<Figure size 576x576 with 1 Axes>"
            ],
            "image/png": "[encoded data removed]"
          },
          "metadata": {
            "needs_background": "light"
          }
        }
      ],
      "source": [
        "import seaborn as sns             # seaborn is library of python used to visualise graphs and pictorial way efficiently\n",
        "sns.boxplot(df_nestle['Open'])"
      ]
    },
    {
      "cell_type": "code",
      "source": [
        "q1 = np.percentile(df_nestle_temp['Close'],25)\n",
        "q3 = np.percentile(df_nestle_temp['Close'],75)\n",
        "iqr = q3 - q1\n",
        "low = q1 - 1.5*iqr\n",
        "high = q3 + 1.5*iqr\n",
        "\n",
        "for i in df_nestle_temp['Close']:\n",
        "    if i > high and i < low:\n",
        "        df_nestle_temp.drop(df_nestle_temp.index[i],inplace = True)\n",
        "        \n",
        "m1 = float(df_nestle_temp['Close'].mean())\n",
        "m1\n",
        "\n",
        "for i in df_nestle['Close']:\n",
        "    if i > high:\n",
        "        df_nestle['Close'].replace(to_replace = i,value = m1,inplace = True)\n",
        "for i in df_nestle['Close']:\n",
        "    if i < low:\n",
        "        df_nestle['Close'].replace(to_replace = i,value = m1,inplace = True)"
      ],
      "metadata": {
        "id": "3xEN_uQPhO2R"
      },
      "id": "3xEN_uQPhO2R",
      "execution_count": 25,
      "outputs": []
    },
    {
      "cell_type": "code",
      "source": [
        "q1 = np.percentile(df_nestle_temp['High'],25)\n",
        "q3 = np.percentile(df_nestle_temp['High'],75)\n",
        "iqr = q3 - q1\n",
        "low = q1 - 1.5*iqr\n",
        "high = q3 + 1.5*iqr\n",
        "\n",
        "for i in df_nestle_temp['High']:\n",
        "    if i > high and i < low:\n",
        "        df_nestle_temp.drop(df_nestle_temp.index[i],inplace = True)\n",
        "        \n",
        "m1 = float(df_nestle_temp['High'].mean())\n",
        "m1\n",
        "\n",
        "for i in df_nestle['High']:\n",
        "    if i > high:\n",
        "        df_nestle['High'].replace(to_replace = i,value = m1,inplace = True)\n",
        "\n",
        "for i in df_nestle['High']:\n",
        "    if i < low:\n",
        "        df_nestle['High'].replace(to_replace = i,value = m1,inplace = True)        "
      ],
      "metadata": {
        "id": "lxgz02S_hO75"
      },
      "id": "lxgz02S_hO75",
      "execution_count": 26,
      "outputs": []
    },
    {
      "cell_type": "code",
      "source": [
        "sns.boxplot(df_nestle['High'])"
      ],
      "metadata": {
        "colab": {
          "base_uri": "https://localhost:8080/",
          "height": 569
        },
        "id": "9LPOt0fChPPi",
        "outputId": "749c1863-fd66-4019-eda1-1eb7ae35ba1a"
      },
      "id": "9LPOt0fChPPi",
      "execution_count": 27,
      "outputs": [
        {
          "output_type": "stream",
          "name": "stderr",
          "text": [
            "/usr/local/lib/python3.7/dist-packages/seaborn/_decorators.py:43: FutureWarning: Pass the following variable as a keyword arg: x. From version 0.12, the only valid positional argument will be `data`, and passing other arguments without an explicit keyword will result in an error or misinterpretation.\n",
            "  FutureWarning\n"
          ]
        },
        {
          "output_type": "execute_result",
          "data": {
            "text/plain": [
              "<matplotlib.axes._subplots.AxesSubplot at 0x7f1864b626d0>"
            ]
          },
          "metadata": {},
          "execution_count": 27
        },
        {
          "output_type": "display_data",
          "data": {
            "text/plain": [
              "<Figure size 576x576 with 1 Axes>"
            ],
            "image/png": "[encoded data removed]"
          },
          "metadata": {
            "needs_background": "light"
          }
        }
      ]
    },
    {
      "cell_type": "code",
      "source": [
        "q1 = np.percentile(df_nestle_temp['Low'],25)\n",
        "q3 = np.percentile(df_nestle_temp['Low'],75)\n",
        "iqr = q3 - q1\n",
        "low = q1 - 1.5*iqr\n",
        "high = q3 + 1.5*iqr\n",
        "\n",
        "for i in df_nestle_temp['Low']:\n",
        "    if i > high and i < low:\n",
        "        df_nestle_temp.drop(df_nestle_temp.index[i],inplace = True)\n",
        "        \n",
        "m1 = float(df_nestle_temp['Low'].mean())\n",
        "m1\n",
        "for i in df_nestle['Low']:\n",
        "    if i > high:\n",
        "        df_nestle['Low'].replace(to_replace = i,value = m1,inplace = True)\n",
        "for i in df_nestle['Low']:\n",
        "    if i < low:\n",
        "        df_nestle['Low'].replace(to_replace = i,value = m1,inplace = True)"
      ],
      "metadata": {
        "id": "NOOcp7bahZL6"
      },
      "id": "NOOcp7bahZL6",
      "execution_count": 28,
      "outputs": []
    },
    {
      "cell_type": "code",
      "source": [
        "sns.boxplot(df_nestle['Low'])"
      ],
      "metadata": {
        "colab": {
          "base_uri": "https://localhost:8080/",
          "height": 569
        },
        "id": "Pqm3UF4WhZNs",
        "outputId": "7bcfdea2-fc9e-40e3-cc41-e4491028ab1f"
      },
      "id": "Pqm3UF4WhZNs",
      "execution_count": 29,
      "outputs": [
        {
          "output_type": "stream",
          "name": "stderr",
          "text": [
            "/usr/local/lib/python3.7/dist-packages/seaborn/_decorators.py:43: FutureWarning: Pass the following variable as a keyword arg: x. From version 0.12, the only valid positional argument will be `data`, and passing other arguments without an explicit keyword will result in an error or misinterpretation.\n",
            "  FutureWarning\n"
          ]
        },
        {
          "output_type": "execute_result",
          "data": {
            "text/plain": [
              "<matplotlib.axes._subplots.AxesSubplot at 0x7f1864aed590>"
            ]
          },
          "metadata": {},
          "execution_count": 29
        },
        {
          "output_type": "display_data",
          "data": {
            "text/plain": [
              "<Figure size 576x576 with 1 Axes>"
            ],
            "image/png": "[encoded data removed]"
          },
          "metadata": {
            "needs_background": "light"
          }
        }
      ]
    },
    {
      "cell_type": "code",
      "source": [
        "# convert all columns into numeric datatype\n",
        "df_nestle[['Open', 'High', 'Low', 'Close']] = df_nestle[['Open', 'High', 'Low', 'Close']].apply(pd.to_numeric)"
      ],
      "metadata": {
        "id": "MxPn_m6ChZSK"
      },
      "id": "MxPn_m6ChZSK",
      "execution_count": 30,
      "outputs": []
    },
    {
      "cell_type": "code",
      "source": [
        "df_nestle1 = df_nestle.drop('Volume',axis = 1)"
      ],
      "metadata": {
        "id": "T4xsGnxfhPRP"
      },
      "id": "T4xsGnxfhPRP",
      "execution_count": 31,
      "outputs": []
    },
    {
      "cell_type": "code",
      "source": [
        "df_nestle1.boxplot()"
      ],
      "metadata": {
        "colab": {
          "base_uri": "https://localhost:8080/",
          "height": 500
        },
        "id": "UHR5cVvShPVi",
        "outputId": "fb5ad70e-96b3-4530-f866-950a73c14c63"
      },
      "id": "UHR5cVvShPVi",
      "execution_count": 32,
      "outputs": [
        {
          "output_type": "execute_result",
          "data": {
            "text/plain": [
              "<matplotlib.axes._subplots.AxesSubplot at 0x7f1864a05490>"
            ]
          },
          "metadata": {},
          "execution_count": 32
        },
        {
          "output_type": "display_data",
          "data": {
            "text/plain": [
              "<Figure size 576x576 with 1 Axes>"
            ],
            "image/png": "[encoded data removed]"
          },
          "metadata": {
            "needs_background": "light"
          }
        }
      ]
    },
    {
      "cell_type": "code",
      "source": [
        "# to make line graphs ,'Date' column is needed to be at index so we use set_index method to change index to 'Date'\n",
        "df_nestle = df_nestle.set_index('Date')"
      ],
      "metadata": {
        "id": "YR6d2YmchPXT"
      },
      "id": "YR6d2YmchPXT",
      "execution_count": 33,
      "outputs": []
    },
    {
      "cell_type": "markdown",
      "source": [
        "# Data Visualisation"
      ],
      "metadata": {
        "id": "cIVAVi7_zbOs"
      },
      "id": "cIVAVi7_zbOs"
    },
    {
      "cell_type": "code",
      "source": [
        "plt.rcParams['figure.figsize'] = [20,15]\n",
        "# subplot = module or method of python, needed to visualise more than one graphs together by placing it side by side\n",
        "# subplot(total rows,columns needed in each row,index at which column which graph is to be placed)\n",
        "plt.subplot(1,2,1)\n",
        "b = df_nestle['Open'].plot() \n",
        "plt.xlabel('Price')          \n",
        "plt.ylabel('Year')\n",
        "plt.title('Trend of \"Open\" column during years') \n",
        "# using plot method gor line graph by default\n",
        "plt.subplot(1,2,1)\n",
        "a = df_nestle['Close'].plot()\n",
        "plt.xlabel('Price')          \n",
        "plt.ylabel('Year')\n",
        "plt.title('Trend of \"Close\" column during years') \n"
      ],
      "metadata": {
        "colab": {
          "base_uri": "https://localhost:8080/",
          "height": 965
        },
        "id": "QILGeNwrhsJT",
        "outputId": "eafc6ad3-02db-4744-a96d-96b1ed1dd558"
      },
      "id": "QILGeNwrhsJT",
      "execution_count": 35,
      "outputs": [
        {
          "output_type": "stream",
          "name": "stderr",
          "text": [
            "/usr/local/lib/python3.7/dist-packages/ipykernel_launcher.py:10: MatplotlibDeprecationWarning: Adding an axes using the same arguments as a previous axes currently reuses the earlier instance.  In a future version, a new instance will always be created and returned.  Meanwhile, this warning can be suppressed, and the future behavior ensured, by passing a unique label to each axes instance.\n",
            "  # Remove the CWD from sys.path while we load stuff.\n"
          ]
        },
        {
          "output_type": "execute_result",
          "data": {
            "text/plain": [
              "Text(0.5, 1.0, 'Trend of \"Close\" column during years')"
            ]
          },
          "metadata": {},
          "execution_count": 35
        },
        {
          "output_type": "display_data",
          "data": {
            "text/plain": [
              "<Figure size 1440x1080 with 1 Axes>"
            ],
            "image/png": "[encoded data removed]"
          },
          "metadata": {
            "needs_background": "light"
          }
        }
      ]
    },
    {
      "cell_type": "code",
      "source": [
        "plt.rcParams['figure.figsize'] = [6,6]\n",
        "# using seaborn method called heatmap to check correlation among columns\n",
        "# annot = True means correlation figure can be seen\n",
        "sns.heatmap(df_nestle.corr(),annot = True)"
      ],
      "metadata": {
        "colab": {
          "base_uri": "https://localhost:8080/",
          "height": 395
        },
        "id": "EUjjm0H_ug8-",
        "outputId": "6bec6608-21a7-40a3-fda1-cb6bb3f55b84"
      },
      "id": "EUjjm0H_ug8-",
      "execution_count": 48,
      "outputs": [
        {
          "output_type": "execute_result",
          "data": {
            "text/plain": [
              "<matplotlib.axes._subplots.AxesSubplot at 0x7f18714fc590>"
            ]
          },
          "metadata": {},
          "execution_count": 48
        },
        {
          "output_type": "display_data",
          "data": {
            "text/plain": [
              "<Figure size 432x432 with 2 Axes>"
            ],
            "image/png": "[encoded data removed]"
          },
          "metadata": {
            "needs_background": "light"
          }
        }
      ]
    },
    {
      "cell_type": "code",
      "source": [
        "#@title Separate columns as per datatype"
      ],
      "metadata": {
        "id": "fSty5uWyu2oO"
      },
      "id": "fSty5uWyu2oO",
      "execution_count": 49,
      "outputs": []
    },
    {
      "cell_type": "code",
      "source": [
        "df_nestle_num = df_nestle.select_dtypes(include = 'number') # select_dtypes is applied on data frame to bring specific datatype columns in single format\n",
        "df_nestle_num"
      ],
      "metadata": {
        "colab": {
          "base_uri": "https://localhost:8080/",
          "height": 455
        },
        "id": "AV7Sxv71Htgz",
        "outputId": "153bf8a1-3599-47fa-d464-b90b9a5afb2a"
      },
      "id": "AV7Sxv71Htgz",
      "execution_count": 37,
      "outputs": [
        {
          "output_type": "execute_result",
          "data": {
            "text/plain": [
              "                   Open         High          Low        Close   Volume\n",
              "Date                                                                   \n",
              "2002-08-12   508.100006   512.549988   505.000000   505.149994   7100.0\n",
              "2002-08-13   503.500000   515.000000   503.500000   509.049988   8800.0\n",
              "2002-08-14   502.100006   515.000000   502.100006   514.400024  18700.0\n",
              "2002-08-15   514.400024   514.400024   514.400024   514.400024      0.0\n",
              "2002-08-16   516.000000   516.849976   510.000000   511.000000   9400.0\n",
              "...                 ...          ...          ...          ...      ...\n",
              "2021-12-24  5203.881968  5259.935278  5144.249593  5200.604036  34220.0\n",
              "2021-12-27  5203.881968  5259.935278  5144.249593  5200.604036  26588.0\n",
              "2021-12-28  5203.881968  5259.935278  5144.249593  5200.604036  21049.0\n",
              "2021-12-29  5203.881968  5259.935278  5144.249593  5200.604036  29269.0\n",
              "2021-12-30  5203.881968  5259.935278  5144.249593  5200.604036  39868.0\n",
              "\n",
              "[4826 rows x 5 columns]"
            ],
            "text/html": [
              "\n",
              "  <div id=\"df-b637bf9e-5f00-4df9-a009-ef362c399b49\">\n",
              "    <div class=\"colab-df-container\">\n",
              "      <div>\n",
              "<style scoped>\n",
              "    .dataframe tbody tr th:only-of-type {\n",
              "        vertical-align: middle;\n",
              "    }\n",
              "\n",
              "    .dataframe tbody tr th {\n",
              "        vertical-align: top;\n",
              "    }\n",
              "\n",
              "    .dataframe thead th {\n",
              "        text-align: right;\n",
              "    }\n",
              "</style>\n",
              "<table border=\"1\" class=\"dataframe\">\n",
              "  <thead>\n",
              "    <tr style=\"text-align: right;\">\n",
              "      <th></th>\n",
              "      <th>Open</th>\n",
              "      <th>High</th>\n",
              "      <th>Low</th>\n",
              "      <th>Close</th>\n",
              "      <th>Volume</th>\n",
              "    </tr>\n",
              "    <tr>\n",
              "      <th>Date</th>\n",
              "      <th></th>\n",
              "      <th></th>\n",
              "      <th></th>\n",
              "      <th></th>\n",
              "      <th></th>\n",
              "    </tr>\n",
              "  </thead>\n",
              "  <tbody>\n",
              "    <tr>\n",
              "      <th>2002-08-12</th>\n",
              "      <td>508.100006</td>\n",
              "      <td>512.549988</td>\n",
              "      <td>505.000000</td>\n",
              "      <td>505.149994</td>\n",
              "      <td>7100.0</td>\n",
              "    </tr>\n",
              "    <tr>\n",
              "      <th>2002-08-13</th>\n",
              "      <td>503.500000</td>\n",
              "      <td>515.000000</td>\n",
              "      <td>503.500000</td>\n",
              "      <td>509.049988</td>\n",
              "      <td>8800.0</td>\n",
              "    </tr>\n",
              "    <tr>\n",
              "      <th>2002-08-14</th>\n",
              "      <td>502.100006</td>\n",
              "      <td>515.000000</td>\n",
              "      <td>502.100006</td>\n",
              "      <td>514.400024</td>\n",
              "      <td>18700.0</td>\n",
              "    </tr>\n",
              "    <tr>\n",
              "      <th>2002-08-15</th>\n",
              "      <td>514.400024</td>\n",
              "      <td>514.400024</td>\n",
              "      <td>514.400024</td>\n",
              "      <td>514.400024</td>\n",
              "      <td>0.0</td>\n",
              "    </tr>\n",
              "    <tr>\n",
              "      <th>2002-08-16</th>\n",
              "      <td>516.000000</td>\n",
              "      <td>516.849976</td>\n",
              "      <td>510.000000</td>\n",
              "      <td>511.000000</td>\n",
              "      <td>9400.0</td>\n",
              "    </tr>\n",
              "    <tr>\n",
              "      <th>...</th>\n",
              "      <td>...</td>\n",
              "      <td>...</td>\n",
              "      <td>...</td>\n",
              "      <td>...</td>\n",
              "      <td>...</td>\n",
              "    </tr>\n",
              "    <tr>\n",
              "      <th>2021-12-24</th>\n",
              "      <td>5203.881968</td>\n",
              "      <td>5259.935278</td>\n",
              "      <td>5144.249593</td>\n",
              "      <td>5200.604036</td>\n",
              "      <td>34220.0</td>\n",
              "    </tr>\n",
              "    <tr>\n",
              "      <th>2021-12-27</th>\n",
              "      <td>5203.881968</td>\n",
              "      <td>5259.935278</td>\n",
              "      <td>5144.249593</td>\n",
              "      <td>5200.604036</td>\n",
              "      <td>26588.0</td>\n",
              "    </tr>\n",
              "    <tr>\n",
              "      <th>2021-12-28</th>\n",
              "      <td>5203.881968</td>\n",
              "      <td>5259.935278</td>\n",
              "      <td>5144.249593</td>\n",
              "      <td>5200.604036</td>\n",
              "      <td>21049.0</td>\n",
              "    </tr>\n",
              "    <tr>\n",
              "      <th>2021-12-29</th>\n",
              "      <td>5203.881968</td>\n",
              "      <td>5259.935278</td>\n",
              "      <td>5144.249593</td>\n",
              "      <td>5200.604036</td>\n",
              "      <td>29269.0</td>\n",
              "    </tr>\n",
              "    <tr>\n",
              "      <th>2021-12-30</th>\n",
              "      <td>5203.881968</td>\n",
              "      <td>5259.935278</td>\n",
              "      <td>5144.249593</td>\n",
              "      <td>5200.604036</td>\n",
              "      <td>39868.0</td>\n",
              "    </tr>\n",
              "  </tbody>\n",
              "</table>\n",
              "<p>4826 rows × 5 columns</p>\n",
              "</div>\n",
              "      <button class=\"colab-df-convert\" onclick=\"convertToInteractive('df-b637bf9e-5f00-4df9-a009-ef362c399b49')\"\n",
              "              title=\"Convert this dataframe to an interactive table.\"\n",
              "              style=\"display:none;\">\n",
              "        \n",
              "  <svg xmlns=\"http://www.w3.org/2000/svg\" height=\"24px\"viewBox=\"0 0 24 24\"\n",
              "       width=\"24px\">\n",
              "    <path d=\"M0 0h24v24H0V0z\" fill=\"none\"/>\n",
              "    <path d=\"M18.56 5.44l.94 2.06.94-2.06 2.06-.94-2.06-.94-.94-2.06-.94 2.06-2.06.94zm-11 1L8.5 8.5l.94-2.06 2.06-.94-2.06-.94L8.5 2.5l-.94 2.06-2.06.94zm10 10l.94 2.06.94-2.06 2.06-.94-2.06-.94-.94-2.06-.94 2.06-2.06.94z\"/><path d=\"M17.41 7.96l-1.37-1.37c-.4-.4-.92-.59-1.43-.59-.52 0-1.04.2-1.43.59L10.3 9.45l-7.72 7.72c-.78.78-.78 2.05 0 2.83L4 21.41c.39.39.9.59 1.41.59.51 0 1.02-.2 1.41-.59l7.78-7.78 2.81-2.81c.8-.78.8-2.07 0-2.86zM5.41 20L4 18.59l7.72-7.72 1.47 1.35L5.41 20z\"/>\n",
              "  </svg>\n",
              "      </button>\n",
              "      \n",
              "  <style>\n",
              "    .colab-df-container {\n",
              "      display:flex;\n",
              "      flex-wrap:wrap;\n",
              "      gap: 12px;\n",
              "    }\n",
              "\n",
              "    .colab-df-convert {\n",
              "      background-color: #E8F0FE;\n",
              "      border: none;\n",
              "      border-radius: 50%;\n",
              "      cursor: pointer;\n",
              "      display: none;\n",
              "      fill: #1967D2;\n",
              "      height: 32px;\n",
              "      padding: 0 0 0 0;\n",
              "      width: 32px;\n",
              "    }\n",
              "\n",
              "    .colab-df-convert:hover {\n",
              "      background-color: #E2EBFA;\n",
              "      box-shadow: 0px 1px 2px rgba(60, 64, 67, 0.3), 0px 1px 3px 1px rgba(60, 64, 67, 0.15);\n",
              "      fill: #174EA6;\n",
              "    }\n",
              "\n",
              "    [theme=dark] .colab-df-convert {\n",
              "      background-color: #3B4455;\n",
              "      fill: #D2E3FC;\n",
              "    }\n",
              "\n",
              "    [theme=dark] .colab-df-convert:hover {\n",
              "      background-color: #434B5C;\n",
              "      box-shadow: 0px 1px 3px 1px rgba(0, 0, 0, 0.15);\n",
              "      filter: drop-shadow(0px 1px 2px rgba(0, 0, 0, 0.3));\n",
              "      fill: #FFFFFF;\n",
              "    }\n",
              "  </style>\n",
              "\n",
              "      <script>\n",
              "        const buttonEl =\n",
              "          document.querySelector('#df-b637bf9e-5f00-4df9-a009-ef362c399b49 button.colab-df-convert');\n",
              "        buttonEl.style.display =\n",
              "          google.colab.kernel.accessAllowed ? 'block' : 'none';\n",
              "\n",
              "        async function convertToInteractive(key) {\n",
              "          const element = document.querySelector('#df-b637bf9e-5f00-4df9-a009-ef362c399b49');\n",
              "          const dataTable =\n",
              "            await google.colab.kernel.invokeFunction('convertToInteractive',\n",
              "                                                     [key], {});\n",
              "          if (!dataTable) return;\n",
              "\n",
              "          const docLinkHtml = 'Like what you see? Visit the ' +\n",
              "            '<a target=\"_blank\" href=https://colab.research.google.com/notebooks/data_table.ipynb>data table notebook</a>'\n",
              "            + ' to learn more about interactive tables.';\n",
              "          element.innerHTML = '';\n",
              "          dataTable['output_type'] = 'display_data';\n",
              "          await google.colab.output.renderOutput(dataTable, element);\n",
              "          const docLink = document.createElement('div');\n",
              "          docLink.innerHTML = docLinkHtml;\n",
              "          element.appendChild(docLink);\n",
              "        }\n",
              "      </script>\n",
              "    </div>\n",
              "  </div>\n",
              "  "
            ]
          },
          "metadata": {},
          "execution_count": 37
        }
      ]
    },
    {
      "cell_type": "code",
      "source": [
        "# separate target from main dataframe\n",
        "df_nestle_target = df_nestle['Close']   "
      ],
      "metadata": {
        "id": "AYppy-_5LAmo"
      },
      "id": "AYppy-_5LAmo",
      "execution_count": 50,
      "outputs": []
    },
    {
      "cell_type": "code",
      "source": [
        "# separate target fro numerical datatype dataframe\n",
        "df_nestle_num_without_target = df_nestle_num.drop('Close',axis = 1)"
      ],
      "metadata": {
        "id": "Tzg9d8u5LG7p"
      },
      "id": "Tzg9d8u5LG7p",
      "execution_count": 52,
      "outputs": []
    },
    {
      "cell_type": "markdown",
      "source": [
        "# Scaling"
      ],
      "metadata": {
        "id": "TBk81CnIzTB5"
      },
      "id": "TBk81CnIzTB5"
    },
    {
      "cell_type": "code",
      "source": [
        "# import module StandardScaler from sklearn library\n",
        "from sklearn.preprocessing import StandardScaler"
      ],
      "metadata": {
        "id": "Yq141R9ahsK7"
      },
      "id": "Yq141R9ahsK7",
      "execution_count": 54,
      "outputs": []
    },
    {
      "cell_type": "code",
      "source": [
        "# initialise or make object of StandardScaler class\n",
        "ss = StandardScaler()"
      ],
      "metadata": {
        "id": "i_mAE_QHhsPr"
      },
      "id": "i_mAE_QHhsPr",
      "execution_count": 55,
      "outputs": []
    },
    {
      "cell_type": "code",
      "execution_count": 57,
      "id": "35bea560",
      "metadata": {
        "id": "35bea560",
        "colab": {
          "base_uri": "https://localhost:8080/",
          "height": 424
        },
        "outputId": "78481acf-9621-4ca5-8246-3847b76b2aa5"
      },
      "outputs": [
        {
          "output_type": "execute_result",
          "data": {
            "text/plain": [
              "          Open      High       Low     Close    Volume\n",
              "0    -0.994846 -0.992465 -0.995392 -0.992616 -0.446211\n",
              "1    -0.996113 -0.991801 -0.995811 -0.991549 -0.418709\n",
              "2    -0.996499 -0.991801 -0.996201 -0.990085 -0.258554\n",
              "3    -0.993112 -0.991963 -0.992772 -0.990085 -0.561069\n",
              "4    -0.992671 -0.991299 -0.993998 -0.991015 -0.409003\n",
              "...        ...       ...       ...       ...       ...\n",
              "4821  0.298109  0.294351  0.297944  0.292261 -0.007483\n",
              "4822  0.298109  0.294351  0.297944  0.292261 -0.130948\n",
              "4823  0.298109  0.294351  0.297944  0.292261 -0.220554\n",
              "4824  0.298109  0.294351  0.297944  0.292261 -0.087577\n",
              "4825  0.298109  0.294351  0.297944  0.292261  0.083886\n",
              "\n",
              "[4826 rows x 5 columns]"
            ],
            "text/html": [
              "\n",
              "  <div id=\"df-59539978-438a-46a8-9b5f-8114c5f17d95\">\n",
              "    <div class=\"colab-df-container\">\n",
              "      <div>\n",
              "<style scoped>\n",
              "    .dataframe tbody tr th:only-of-type {\n",
              "        vertical-align: middle;\n",
              "    }\n",
              "\n",
              "    .dataframe tbody tr th {\n",
              "        vertical-align: top;\n",
              "    }\n",
              "\n",
              "    .dataframe thead th {\n",
              "        text-align: right;\n",
              "    }\n",
              "</style>\n",
              "<table border=\"1\" class=\"dataframe\">\n",
              "  <thead>\n",
              "    <tr style=\"text-align: right;\">\n",
              "      <th></th>\n",
              "      <th>Open</th>\n",
              "      <th>High</th>\n",
              "      <th>Low</th>\n",
              "      <th>Close</th>\n",
              "      <th>Volume</th>\n",
              "    </tr>\n",
              "  </thead>\n",
              "  <tbody>\n",
              "    <tr>\n",
              "      <th>0</th>\n",
              "      <td>-0.994846</td>\n",
              "      <td>-0.992465</td>\n",
              "      <td>-0.995392</td>\n",
              "      <td>-0.992616</td>\n",
              "      <td>-0.446211</td>\n",
              "    </tr>\n",
              "    <tr>\n",
              "      <th>1</th>\n",
              "      <td>-0.996113</td>\n",
              "      <td>-0.991801</td>\n",
              "      <td>-0.995811</td>\n",
              "      <td>-0.991549</td>\n",
              "      <td>-0.418709</td>\n",
              "    </tr>\n",
              "    <tr>\n",
              "      <th>2</th>\n",
              "      <td>-0.996499</td>\n",
              "      <td>-0.991801</td>\n",
              "      <td>-0.996201</td>\n",
              "      <td>-0.990085</td>\n",
              "      <td>-0.258554</td>\n",
              "    </tr>\n",
              "    <tr>\n",
              "      <th>3</th>\n",
              "      <td>-0.993112</td>\n",
              "      <td>-0.991963</td>\n",
              "      <td>-0.992772</td>\n",
              "      <td>-0.990085</td>\n",
              "      <td>-0.561069</td>\n",
              "    </tr>\n",
              "    <tr>\n",
              "      <th>4</th>\n",
              "      <td>-0.992671</td>\n",
              "      <td>-0.991299</td>\n",
              "      <td>-0.993998</td>\n",
              "      <td>-0.991015</td>\n",
              "      <td>-0.409003</td>\n",
              "    </tr>\n",
              "    <tr>\n",
              "      <th>...</th>\n",
              "      <td>...</td>\n",
              "      <td>...</td>\n",
              "      <td>...</td>\n",
              "      <td>...</td>\n",
              "      <td>...</td>\n",
              "    </tr>\n",
              "    <tr>\n",
              "      <th>4821</th>\n",
              "      <td>0.298109</td>\n",
              "      <td>0.294351</td>\n",
              "      <td>0.297944</td>\n",
              "      <td>0.292261</td>\n",
              "      <td>-0.007483</td>\n",
              "    </tr>\n",
              "    <tr>\n",
              "      <th>4822</th>\n",
              "      <td>0.298109</td>\n",
              "      <td>0.294351</td>\n",
              "      <td>0.297944</td>\n",
              "      <td>0.292261</td>\n",
              "      <td>-0.130948</td>\n",
              "    </tr>\n",
              "    <tr>\n",
              "      <th>4823</th>\n",
              "      <td>0.298109</td>\n",
              "      <td>0.294351</td>\n",
              "      <td>0.297944</td>\n",
              "      <td>0.292261</td>\n",
              "      <td>-0.220554</td>\n",
              "    </tr>\n",
              "    <tr>\n",
              "      <th>4824</th>\n",
              "      <td>0.298109</td>\n",
              "      <td>0.294351</td>\n",
              "      <td>0.297944</td>\n",
              "      <td>0.292261</td>\n",
              "      <td>-0.087577</td>\n",
              "    </tr>\n",
              "    <tr>\n",
              "      <th>4825</th>\n",
              "      <td>0.298109</td>\n",
              "      <td>0.294351</td>\n",
              "      <td>0.297944</td>\n",
              "      <td>0.292261</td>\n",
              "      <td>0.083886</td>\n",
              "    </tr>\n",
              "  </tbody>\n",
              "</table>\n",
              "<p>4826 rows × 5 columns</p>\n",
              "</div>\n",
              "      <button class=\"colab-df-convert\" onclick=\"convertToInteractive('df-59539978-438a-46a8-9b5f-8114c5f17d95')\"\n",
              "              title=\"Convert this dataframe to an interactive table.\"\n",
              "              style=\"display:none;\">\n",
              "        \n",
              "  <svg xmlns=\"http://www.w3.org/2000/svg\" height=\"24px\"viewBox=\"0 0 24 24\"\n",
              "       width=\"24px\">\n",
              "    <path d=\"M0 0h24v24H0V0z\" fill=\"none\"/>\n",
              "    <path d=\"M18.56 5.44l.94 2.06.94-2.06 2.06-.94-2.06-.94-.94-2.06-.94 2.06-2.06.94zm-11 1L8.5 8.5l.94-2.06 2.06-.94-2.06-.94L8.5 2.5l-.94 2.06-2.06.94zm10 10l.94 2.06.94-2.06 2.06-.94-2.06-.94-.94-2.06-.94 2.06-2.06.94z\"/><path d=\"M17.41 7.96l-1.37-1.37c-.4-.4-.92-.59-1.43-.59-.52 0-1.04.2-1.43.59L10.3 9.45l-7.72 7.72c-.78.78-.78 2.05 0 2.83L4 21.41c.39.39.9.59 1.41.59.51 0 1.02-.2 1.41-.59l7.78-7.78 2.81-2.81c.8-.78.8-2.07 0-2.86zM5.41 20L4 18.59l7.72-7.72 1.47 1.35L5.41 20z\"/>\n",
              "  </svg>\n",
              "      </button>\n",
              "      \n",
              "  <style>\n",
              "    .colab-df-container {\n",
              "      display:flex;\n",
              "      flex-wrap:wrap;\n",
              "      gap: 12px;\n",
              "    }\n",
              "\n",
              "    .colab-df-convert {\n",
              "      background-color: #E8F0FE;\n",
              "      border: none;\n",
              "      border-radius: 50%;\n",
              "      cursor: pointer;\n",
              "      display: none;\n",
              "      fill: #1967D2;\n",
              "      height: 32px;\n",
              "      padding: 0 0 0 0;\n",
              "      width: 32px;\n",
              "    }\n",
              "\n",
              "    .colab-df-convert:hover {\n",
              "      background-color: #E2EBFA;\n",
              "      box-shadow: 0px 1px 2px rgba(60, 64, 67, 0.3), 0px 1px 3px 1px rgba(60, 64, 67, 0.15);\n",
              "      fill: #174EA6;\n",
              "    }\n",
              "\n",
              "    [theme=dark] .colab-df-convert {\n",
              "      background-color: #3B4455;\n",
              "      fill: #D2E3FC;\n",
              "    }\n",
              "\n",
              "    [theme=dark] .colab-df-convert:hover {\n",
              "      background-color: #434B5C;\n",
              "      box-shadow: 0px 1px 3px 1px rgba(0, 0, 0, 0.15);\n",
              "      filter: drop-shadow(0px 1px 2px rgba(0, 0, 0, 0.3));\n",
              "      fill: #FFFFFF;\n",
              "    }\n",
              "  </style>\n",
              "\n",
              "      <script>\n",
              "        const buttonEl =\n",
              "          document.querySelector('#df-59539978-438a-46a8-9b5f-8114c5f17d95 button.colab-df-convert');\n",
              "        buttonEl.style.display =\n",
              "          google.colab.kernel.accessAllowed ? 'block' : 'none';\n",
              "\n",
              "        async function convertToInteractive(key) {\n",
              "          const element = document.querySelector('#df-59539978-438a-46a8-9b5f-8114c5f17d95');\n",
              "          const dataTable =\n",
              "            await google.colab.kernel.invokeFunction('convertToInteractive',\n",
              "                                                     [key], {});\n",
              "          if (!dataTable) return;\n",
              "\n",
              "          const docLinkHtml = 'Like what you see? Visit the ' +\n",
              "            '<a target=\"_blank\" href=https://colab.research.google.com/notebooks/data_table.ipynb>data table notebook</a>'\n",
              "            + ' to learn more about interactive tables.';\n",
              "          element.innerHTML = '';\n",
              "          dataTable['output_type'] = 'display_data';\n",
              "          await google.colab.output.renderOutput(dataTable, element);\n",
              "          const docLink = document.createElement('div');\n",
              "          docLink.innerHTML = docLinkHtml;\n",
              "          element.appendChild(docLink);\n",
              "        }\n",
              "      </script>\n",
              "    </div>\n",
              "  </div>\n",
              "  "
            ]
          },
          "metadata": {},
          "execution_count": 57
        }
      ],
      "source": [
        "# The fit method is calculating the mean and variance of each of the features present in our data. \n",
        "# The transform method is transforming all the features using the respective mean and variance.\n",
        "scaled = ss.fit_transform(df_nestle_num)\n",
        "df_nestle_scaled = pd.DataFrame(scaled,columns = df_nestle_num.columns)\n",
        "df_nestle_scaled"
      ]
    },
    {
      "cell_type": "code",
      "source": [
        "# remove target variable from scaled data\n",
        "df_nestle_new = df_nestle_scaled.drop('Close',axis = 1)"
      ],
      "metadata": {
        "id": "xfM54QBGJMJq"
      },
      "id": "xfM54QBGJMJq",
      "execution_count": 58,
      "outputs": []
    },
    {
      "cell_type": "code",
      "source": [
        "df_nestle_new"
      ],
      "metadata": {
        "colab": {
          "base_uri": "https://localhost:8080/",
          "height": 424
        },
        "id": "v3vJtxwEJec3",
        "outputId": "e2c7ab98-6d0b-4843-d691-670fcd8b35b7"
      },
      "id": "v3vJtxwEJec3",
      "execution_count": 59,
      "outputs": [
        {
          "output_type": "execute_result",
          "data": {
            "text/plain": [
              "          Open      High       Low    Volume\n",
              "0    -0.994846 -0.992465 -0.995392 -0.446211\n",
              "1    -0.996113 -0.991801 -0.995811 -0.418709\n",
              "2    -0.996499 -0.991801 -0.996201 -0.258554\n",
              "3    -0.993112 -0.991963 -0.992772 -0.561069\n",
              "4    -0.992671 -0.991299 -0.993998 -0.409003\n",
              "...        ...       ...       ...       ...\n",
              "4821  0.298109  0.294351  0.297944 -0.007483\n",
              "4822  0.298109  0.294351  0.297944 -0.130948\n",
              "4823  0.298109  0.294351  0.297944 -0.220554\n",
              "4824  0.298109  0.294351  0.297944 -0.087577\n",
              "4825  0.298109  0.294351  0.297944  0.083886\n",
              "\n",
              "[4826 rows x 4 columns]"
            ],
            "text/html": [
              "\n",
              "  <div id=\"df-22bc09ed-e10f-4f7a-a860-239e532eb40d\">\n",
              "    <div class=\"colab-df-container\">\n",
              "      <div>\n",
              "<style scoped>\n",
              "    .dataframe tbody tr th:only-of-type {\n",
              "        vertical-align: middle;\n",
              "    }\n",
              "\n",
              "    .dataframe tbody tr th {\n",
              "        vertical-align: top;\n",
              "    }\n",
              "\n",
              "    .dataframe thead th {\n",
              "        text-align: right;\n",
              "    }\n",
              "</style>\n",
              "<table border=\"1\" class=\"dataframe\">\n",
              "  <thead>\n",
              "    <tr style=\"text-align: right;\">\n",
              "      <th></th>\n",
              "      <th>Open</th>\n",
              "      <th>High</th>\n",
              "      <th>Low</th>\n",
              "      <th>Volume</th>\n",
              "    </tr>\n",
              "  </thead>\n",
              "  <tbody>\n",
              "    <tr>\n",
              "      <th>0</th>\n",
              "      <td>-0.994846</td>\n",
              "      <td>-0.992465</td>\n",
              "      <td>-0.995392</td>\n",
              "      <td>-0.446211</td>\n",
              "    </tr>\n",
              "    <tr>\n",
              "      <th>1</th>\n",
              "      <td>-0.996113</td>\n",
              "      <td>-0.991801</td>\n",
              "      <td>-0.995811</td>\n",
              "      <td>-0.418709</td>\n",
              "    </tr>\n",
              "    <tr>\n",
              "      <th>2</th>\n",
              "      <td>-0.996499</td>\n",
              "      <td>-0.991801</td>\n",
              "      <td>-0.996201</td>\n",
              "      <td>-0.258554</td>\n",
              "    </tr>\n",
              "    <tr>\n",
              "      <th>3</th>\n",
              "      <td>-0.993112</td>\n",
              "      <td>-0.991963</td>\n",
              "      <td>-0.992772</td>\n",
              "      <td>-0.561069</td>\n",
              "    </tr>\n",
              "    <tr>\n",
              "      <th>4</th>\n",
              "      <td>-0.992671</td>\n",
              "      <td>-0.991299</td>\n",
              "      <td>-0.993998</td>\n",
              "      <td>-0.409003</td>\n",
              "    </tr>\n",
              "    <tr>\n",
              "      <th>...</th>\n",
              "      <td>...</td>\n",
              "      <td>...</td>\n",
              "      <td>...</td>\n",
              "      <td>...</td>\n",
              "    </tr>\n",
              "    <tr>\n",
              "      <th>4821</th>\n",
              "      <td>0.298109</td>\n",
              "      <td>0.294351</td>\n",
              "      <td>0.297944</td>\n",
              "      <td>-0.007483</td>\n",
              "    </tr>\n",
              "    <tr>\n",
              "      <th>4822</th>\n",
              "      <td>0.298109</td>\n",
              "      <td>0.294351</td>\n",
              "      <td>0.297944</td>\n",
              "      <td>-0.130948</td>\n",
              "    </tr>\n",
              "    <tr>\n",
              "      <th>4823</th>\n",
              "      <td>0.298109</td>\n",
              "      <td>0.294351</td>\n",
              "      <td>0.297944</td>\n",
              "      <td>-0.220554</td>\n",
              "    </tr>\n",
              "    <tr>\n",
              "      <th>4824</th>\n",
              "      <td>0.298109</td>\n",
              "      <td>0.294351</td>\n",
              "      <td>0.297944</td>\n",
              "      <td>-0.087577</td>\n",
              "    </tr>\n",
              "    <tr>\n",
              "      <th>4825</th>\n",
              "      <td>0.298109</td>\n",
              "      <td>0.294351</td>\n",
              "      <td>0.297944</td>\n",
              "      <td>0.083886</td>\n",
              "    </tr>\n",
              "  </tbody>\n",
              "</table>\n",
              "<p>4826 rows × 4 columns</p>\n",
              "</div>\n",
              "      <button class=\"colab-df-convert\" onclick=\"convertToInteractive('df-22bc09ed-e10f-4f7a-a860-239e532eb40d')\"\n",
              "              title=\"Convert this dataframe to an interactive table.\"\n",
              "              style=\"display:none;\">\n",
              "        \n",
              "  <svg xmlns=\"http://www.w3.org/2000/svg\" height=\"24px\"viewBox=\"0 0 24 24\"\n",
              "       width=\"24px\">\n",
              "    <path d=\"M0 0h24v24H0V0z\" fill=\"none\"/>\n",
              "    <path d=\"M18.56 5.44l.94 2.06.94-2.06 2.06-.94-2.06-.94-.94-2.06-.94 2.06-2.06.94zm-11 1L8.5 8.5l.94-2.06 2.06-.94-2.06-.94L8.5 2.5l-.94 2.06-2.06.94zm10 10l.94 2.06.94-2.06 2.06-.94-2.06-.94-.94-2.06-.94 2.06-2.06.94z\"/><path d=\"M17.41 7.96l-1.37-1.37c-.4-.4-.92-.59-1.43-.59-.52 0-1.04.2-1.43.59L10.3 9.45l-7.72 7.72c-.78.78-.78 2.05 0 2.83L4 21.41c.39.39.9.59 1.41.59.51 0 1.02-.2 1.41-.59l7.78-7.78 2.81-2.81c.8-.78.8-2.07 0-2.86zM5.41 20L4 18.59l7.72-7.72 1.47 1.35L5.41 20z\"/>\n",
              "  </svg>\n",
              "      </button>\n",
              "      \n",
              "  <style>\n",
              "    .colab-df-container {\n",
              "      display:flex;\n",
              "      flex-wrap:wrap;\n",
              "      gap: 12px;\n",
              "    }\n",
              "\n",
              "    .colab-df-convert {\n",
              "      background-color: #E8F0FE;\n",
              "      border: none;\n",
              "      border-radius: 50%;\n",
              "      cursor: pointer;\n",
              "      display: none;\n",
              "      fill: #1967D2;\n",
              "      height: 32px;\n",
              "      padding: 0 0 0 0;\n",
              "      width: 32px;\n",
              "    }\n",
              "\n",
              "    .colab-df-convert:hover {\n",
              "      background-color: #E2EBFA;\n",
              "      box-shadow: 0px 1px 2px rgba(60, 64, 67, 0.3), 0px 1px 3px 1px rgba(60, 64, 67, 0.15);\n",
              "      fill: #174EA6;\n",
              "    }\n",
              "\n",
              "    [theme=dark] .colab-df-convert {\n",
              "      background-color: #3B4455;\n",
              "      fill: #D2E3FC;\n",
              "    }\n",
              "\n",
              "    [theme=dark] .colab-df-convert:hover {\n",
              "      background-color: #434B5C;\n",
              "      box-shadow: 0px 1px 3px 1px rgba(0, 0, 0, 0.15);\n",
              "      filter: drop-shadow(0px 1px 2px rgba(0, 0, 0, 0.3));\n",
              "      fill: #FFFFFF;\n",
              "    }\n",
              "  </style>\n",
              "\n",
              "      <script>\n",
              "        const buttonEl =\n",
              "          document.querySelector('#df-22bc09ed-e10f-4f7a-a860-239e532eb40d button.colab-df-convert');\n",
              "        buttonEl.style.display =\n",
              "          google.colab.kernel.accessAllowed ? 'block' : 'none';\n",
              "\n",
              "        async function convertToInteractive(key) {\n",
              "          const element = document.querySelector('#df-22bc09ed-e10f-4f7a-a860-239e532eb40d');\n",
              "          const dataTable =\n",
              "            await google.colab.kernel.invokeFunction('convertToInteractive',\n",
              "                                                     [key], {});\n",
              "          if (!dataTable) return;\n",
              "\n",
              "          const docLinkHtml = 'Like what you see? Visit the ' +\n",
              "            '<a target=\"_blank\" href=https://colab.research.google.com/notebooks/data_table.ipynb>data table notebook</a>'\n",
              "            + ' to learn more about interactive tables.';\n",
              "          element.innerHTML = '';\n",
              "          dataTable['output_type'] = 'display_data';\n",
              "          await google.colab.output.renderOutput(dataTable, element);\n",
              "          const docLink = document.createElement('div');\n",
              "          docLink.innerHTML = docLinkHtml;\n",
              "          element.appendChild(docLink);\n",
              "        }\n",
              "      </script>\n",
              "    </div>\n",
              "  </div>\n",
              "  "
            ]
          },
          "metadata": {},
          "execution_count": 59
        }
      ]
    },
    {
      "cell_type": "code",
      "source": [
        "df_nestle2 = df_nestle_new.copy()\n",
        "df_nestle_target1 = df_nestle_scaled['Close'].copy()"
      ],
      "metadata": {
        "id": "MVpv2cEuxrxq"
      },
      "id": "MVpv2cEuxrxq",
      "execution_count": 60,
      "outputs": []
    },
    {
      "cell_type": "code",
      "source": [
        "import statsmodels.api as sm\n",
        "df_nestle2 = sm.add_constant(df_nestle2)"
      ],
      "metadata": {
        "id": "6ABZ6NEuxsoo"
      },
      "id": "6ABZ6NEuxsoo",
      "execution_count": 62,
      "outputs": []
    },
    {
      "cell_type": "markdown",
      "source": [
        "# Split the dataframe into train and test data"
      ],
      "metadata": {
        "id": "PUzz7ftJy_MR"
      },
      "id": "PUzz7ftJy_MR"
    },
    {
      "cell_type": "code",
      "source": [
        "from sklearn.model_selection import train_test_split\n",
        "x_train,x_test,y_train,y_test = train_test_split(df_nestle2,df_nestle_target1,random_state = 1,test_size = 0.3)"
      ],
      "metadata": {
        "id": "ZS4L8aCpP73N"
      },
      "id": "ZS4L8aCpP73N",
      "execution_count": 82,
      "outputs": []
    },
    {
      "cell_type": "code",
      "source": [
        "# check shapes of training and testing data\n",
        "print(\"x_train shape : \",x_train.shape)\n",
        "print(\"x_test shape : \",x_test.shape)\n",
        "print(\"y_train shape : \",y_train.shape)\n",
        "print(\"y_test shape : \",y_test.shape)"
      ],
      "metadata": {
        "colab": {
          "base_uri": "https://localhost:8080/"
        },
        "id": "UxbiCMDhx_Lc",
        "outputId": "9107dea7-9c1a-4f9d-8f3a-5e51396bf7da"
      },
      "id": "UxbiCMDhx_Lc",
      "execution_count": 83,
      "outputs": [
        {
          "output_type": "stream",
          "name": "stdout",
          "text": [
            "x_train shape :  (3378, 5)\n",
            "x_test shape :  (1448, 5)\n",
            "y_train shape :  (3378,)\n",
            "y_test shape :  (1448,)\n"
          ]
        }
      ]
    },
    {
      "cell_type": "markdown",
      "source": [
        "# Use OLS method to find the summary"
      ],
      "metadata": {
        "id": "usoI1Ha9zHVL"
      },
      "id": "usoI1Ha9zHVL"
    },
    {
      "cell_type": "code",
      "source": [
        "from statsmodels.formula.api import ols\n",
        "base_df_nestle_model = sm.OLS(y_train,x_train).fit()\n",
        "base_df_nestle_model"
      ],
      "metadata": {
        "id": "tLi4lut-QB4H",
        "colab": {
          "base_uri": "https://localhost:8080/"
        },
        "outputId": "27667b64-7e99-469e-c1bf-3a7222e38abd"
      },
      "id": "tLi4lut-QB4H",
      "execution_count": 84,
      "outputs": [
        {
          "output_type": "execute_result",
          "data": {
            "text/plain": [
              "<statsmodels.regression.linear_model.RegressionResultsWrapper at 0x7f1856ad18d0>"
            ]
          },
          "metadata": {},
          "execution_count": 84
        }
      ]
    },
    {
      "cell_type": "code",
      "source": [
        "print(base_df_nestle_model.summary())"
      ],
      "metadata": {
        "colab": {
          "base_uri": "https://localhost:8080/"
        },
        "id": "p-ddAkD0yQTX",
        "outputId": "79a19bf4-4ba8-46fd-ed4c-0896af7f5409"
      },
      "id": "p-ddAkD0yQTX",
      "execution_count": 85,
      "outputs": [
        {
          "output_type": "stream",
          "name": "stdout",
          "text": [
            "                            OLS Regression Results                            \n",
            "==============================================================================\n",
            "Dep. Variable:                  Close   R-squared:                       0.978\n",
            "Model:                            OLS   Adj. R-squared:                  0.978\n",
            "Method:                 Least Squares   F-statistic:                 3.822e+04\n",
            "Date:                Wed, 05 Oct 2022   Prob (F-statistic):               0.00\n",
            "Time:                        11:12:37   Log-Likelihood:                 1683.0\n",
            "No. Observations:                3378   AIC:                            -3356.\n",
            "Df Residuals:                    3373   BIC:                            -3325.\n",
            "Df Model:                           4                                         \n",
            "Covariance Type:            nonrobust                                         \n",
            "==============================================================================\n",
            "                 coef    std err          t      P>|t|      [0.025      0.975]\n",
            "------------------------------------------------------------------------------\n",
            "const         -0.0011      0.003     -0.448      0.654      -0.006       0.004\n",
            "Open          -0.0564      0.017     -3.389      0.001      -0.089      -0.024\n",
            "High           0.7230      0.015     47.602      0.000       0.693       0.753\n",
            "Low            0.3202      0.020     16.078      0.000       0.281       0.359\n",
            "Volume         0.0059      0.003      2.223      0.026       0.001       0.011\n",
            "==============================================================================\n",
            "Omnibus:                     4760.164   Durbin-Watson:                   2.016\n",
            "Prob(Omnibus):                  0.000   Jarque-Bera (JB):         15944185.899\n",
            "Skew:                           7.204   Prob(JB):                         0.00\n",
            "Kurtosis:                     339.263   Cond. No.                         17.5\n",
            "==============================================================================\n",
            "\n",
            "Notes:\n",
            "[1] Standard Errors assume that the covariance matrix of the errors is correctly specified.\n"
          ]
        }
      ]
    },
    {
      "cell_type": "markdown",
      "source": [
        "# Base Model Evaluation of summary"
      ],
      "metadata": {
        "id": "haAdiSwCyar7"
      },
      "id": "haAdiSwCyar7"
    },
    {
      "cell_type": "markdown",
      "source": [
        "## (i) Condition number\n",
        "###Checks multicollinearity among columns\n",
        "###Condition number < 100 = No multi-collinearity\n",
        "###100 < Condition number > 1000 = Moderate multi-collinearity\n",
        "###Condition number > 1000 = Severe multi-collinearity"
      ],
      "metadata": {
        "id": "chUOK3lP0TMS"
      },
      "id": "chUOK3lP0TMS"
    },
    {
      "cell_type": "code",
      "source": [
        "a = base_df_nestle_model.condition_number\n",
        "print(f\"* Here condition number is {a},\\nwhich means there is no multi-collinearity among columns. \\n* This is favourable result as linear regression works on assuming no multi-collinearity.\\n* Condition number is betweeen 0 to 100 hence it is said to be no multi-collinearity.\")"
      ],
      "metadata": {
        "colab": {
          "base_uri": "https://localhost:8080/"
        },
        "id": "DUceqNBt0mgi",
        "outputId": "4a7b051f-bf39-4ed5-fb65-9723aaa51058"
      },
      "id": "DUceqNBt0mgi",
      "execution_count": 73,
      "outputs": [
        {
          "output_type": "stream",
          "name": "stdout",
          "text": [
            "* Here condition number is 16.441191181402626,\n",
            "which means there is no multi-collinearity among columns. \n",
            "* This is favourable result as linear regression works on assuming no multi-collinearity.\n",
            "* Condition number is betweeen 0 to 100 hence it is said to be no multi-collinearity.\n"
          ]
        }
      ]
    },
    {
      "cell_type": "markdown",
      "source": [
        "## (ii) R square\n",
        "### How much target variable is explaining independent variable\n",
        "### It is favourable if it lies between 0 to 1.\n",
        "### If it is exactly 0, our model is totally waste or if it is exactly 1 then also it is not considerable as no target explains it's independent variable totally say 100%."
      ],
      "metadata": {
        "id": "Y_-YpYCf0tCg"
      },
      "id": "Y_-YpYCf0tCg"
    },
    {
      "cell_type": "code",
      "source": [
        "a1 = base_df_nestle_model.rsquared\n",
        "print(f\"* Here R square is {round(a1,4)}, which reflects that our target variable is explaining independent variables by {round(a1,4)} value.\\n* This is also favourable result as this is financial data and in such data r square is favourable if it is more than 0.95.\\n* R square should lie between 0 to 1.\")"
      ],
      "metadata": {
        "colab": {
          "base_uri": "https://localhost:8080/"
        },
        "id": "KFnWdCeX0zNi",
        "outputId": "8dd60bd7-8e68-410b-9add-4f1c045954c1"
      },
      "id": "KFnWdCeX0zNi",
      "execution_count": 74,
      "outputs": [
        {
          "output_type": "stream",
          "name": "stdout",
          "text": [
            "* Here R square is 0.979, which reflects that our target variable is explaining independent variables by 0.979 value.\n",
            "* This is also favourable result as this is financial data and in such data r square is favourable if it is more than 0.95.\n",
            "* R square should lie between 0 to 1.\n"
          ]
        }
      ]
    },
    {
      "cell_type": "markdown",
      "source": [
        "## (iii) Adjusted R square\n",
        "### How much percentage target variable is explaining independent variable"
      ],
      "metadata": {
        "id": "s-jJucYp05qk"
      },
      "id": "s-jJucYp05qk"
    },
    {
      "cell_type": "code",
      "source": [
        "a2 = base_df_nestle_model.rsquared_adj\n",
        "print(f\"* Here Adjusted R square is {round(a2,4)}, which means that target variable ['Close'] is explaining independent variables by {round(a1,4)} percentage.\\n* This is good signal for machine learning accuracy.\")"
      ],
      "metadata": {
        "colab": {
          "base_uri": "https://localhost:8080/"
        },
        "id": "DmbWFupK0-RX",
        "outputId": "24a412d6-4fb2-461f-fb40-fc7c03355351"
      },
      "id": "DmbWFupK0-RX",
      "execution_count": 75,
      "outputs": [
        {
          "output_type": "stream",
          "name": "stdout",
          "text": [
            "* Here Adjusted R square is 0.9789, which means that target variable ['Close'] is explaining independent variables by 0.979 percentage.\n",
            "* This is good signal for machine learning accuracy.\n"
          ]
        }
      ]
    },
    {
      "cell_type": "markdown",
      "source": [
        "## (iv) Durbin-Watson\n",
        "### Checks auto-correlation among data\n",
        "### If it is nearer to 2 = No auto-correlation\n",
        "### if it is between 0 to 2 = Positive auto-correlation\n",
        "### if it is between 2 to 4  = Negative auto-correlation"
      ],
      "metadata": {
        "id": "ldwLhtqS1Dbu"
      },
      "id": "ldwLhtqS1Dbu"
    },
    {
      "cell_type": "code",
      "source": [
        "a3 = 2.016\n",
        "print(f\"* Here Durbin-Watson is calculated at {a3} which depicts that there is no auto correlation in data.\\n* This correlation is more accurate as it is calculated by model (OLS) itself.\\n* If Durbin-Watson is nearer to 2 it means that there is no auto-correlation among data.\")"
      ],
      "metadata": {
        "colab": {
          "base_uri": "https://localhost:8080/"
        },
        "id": "IUnzDk8G1Iut",
        "outputId": "48b73bc1-dd04-4f46-b55e-5c5de1d7729d"
      },
      "id": "IUnzDk8G1Iut",
      "execution_count": 86,
      "outputs": [
        {
          "output_type": "stream",
          "name": "stdout",
          "text": [
            "* Here Durbin-Watson is calculated at 2.016 which depicts that there is no auto correlation in data.\n",
            "* This correlation is more accurate as it is calculated by model (OLS) itself.\n",
            "* If Durbin-Watson is nearer to 2 it means that there is no auto-correlation among data.\n"
          ]
        }
      ]
    },
    {
      "cell_type": "markdown",
      "source": [
        "# Model Performance"
      ],
      "metadata": {
        "id": "K6ORt4Pv1Ndi"
      },
      "id": "K6ORt4Pv1Ndi"
    },
    {
      "cell_type": "code",
      "source": [
        "# Predict close value for x_train\n",
        "df_nestle_predict = base_df_nestle_model.predict(x_train)\n",
        "df_nestle_predict"
      ],
      "metadata": {
        "colab": {
          "base_uri": "https://localhost:8080/"
        },
        "id": "Ez-KZUfX1QUi",
        "outputId": "9eb609bf-2770-4827-9bba-fd4a6b6f941d"
      },
      "id": "Ez-KZUfX1QUi",
      "execution_count": 87,
      "outputs": [
        {
          "output_type": "execute_result",
          "data": {
            "text/plain": [
              "318    -0.980011\n",
              "3185    0.713287\n",
              "3324    0.473053\n",
              "427    -0.980011\n",
              "1549   -0.980011\n",
              "          ...   \n",
              "2895    0.176740\n",
              "2763    0.189613\n",
              "905    -0.980011\n",
              "3980    1.658854\n",
              "235    -0.980011\n",
              "Length: 3378, dtype: float64"
            ]
          },
          "metadata": {},
          "execution_count": 87
        }
      ]
    },
    {
      "cell_type": "markdown",
      "source": [
        "### (i) Mean Absolute Error (MAE)"
      ],
      "metadata": {
        "id": "hJzidMnn1eu0"
      },
      "id": "hJzidMnn1eu0"
    },
    {
      "cell_type": "code",
      "source": [
        "from sklearn.metrics import mean_absolute_error\n",
        "mae = mean_absolute_error(y_train,df_nestle_predict)\n",
        "print(f\"Mean absolute error is {mae},which means there is minimum error as it is nearer to 0.\")"
      ],
      "metadata": {
        "colab": {
          "base_uri": "https://localhost:8080/"
        },
        "id": "6hnK3HML1ixG",
        "outputId": "9e5dc82e-03d7-405e-9206-48c94a5614af"
      },
      "id": "6hnK3HML1ixG",
      "execution_count": 89,
      "outputs": [
        {
          "output_type": "stream",
          "name": "stdout",
          "text": [
            "Mean absolute error is 0.019271725622689997,which means there is minimum error as it is nearer to 0.\n"
          ]
        }
      ]
    },
    {
      "cell_type": "markdown",
      "source": [
        "### (ii) Mean Squared Error (MSE)"
      ],
      "metadata": {
        "id": "J5PD247T1mHY"
      },
      "id": "J5PD247T1mHY"
    },
    {
      "cell_type": "code",
      "source": [
        "from sklearn.metrics import mean_squared_error\n",
        "mse = mean_squared_error(y_train,df_nestle_predict)\n",
        "print(f\"Mean squared error is {mse}\")"
      ],
      "metadata": {
        "colab": {
          "base_uri": "https://localhost:8080/"
        },
        "id": "1yh1IyXt1rhK",
        "outputId": "e0126e61-68c0-4c15-a50b-38e99e043a27"
      },
      "id": "1yh1IyXt1rhK",
      "execution_count": 79,
      "outputs": [
        {
          "output_type": "stream",
          "name": "stdout",
          "text": [
            "Mean squared error is 0.02110397965831649\n"
          ]
        }
      ]
    },
    {
      "cell_type": "markdown",
      "source": [
        "### (iii) Root Mean Squared Error (RMSE)"
      ],
      "metadata": {
        "id": "Z7iuXvhZ1y41"
      },
      "id": "Z7iuXvhZ1y41"
    },
    {
      "cell_type": "code",
      "source": [
        "rmse = np.sqrt(mse)\n",
        "print(f\"Root mean squared error is {rmse}.\\nThis depicts that there is more error in this model as RMSE should be nearer to 1 for favourable accurate model.\")"
      ],
      "metadata": {
        "colab": {
          "base_uri": "https://localhost:8080/"
        },
        "id": "IlV4SdCY12HK",
        "outputId": "e6cfc84a-73b2-4ee4-f897-aaff30336972"
      },
      "id": "IlV4SdCY12HK",
      "execution_count": 80,
      "outputs": [
        {
          "output_type": "stream",
          "name": "stdout",
          "text": [
            "Root mean squared error is 0.14527208836633584.\n",
            "This depicts that there is more error in this model as RMSE should be nearer to 1 for favourable accurate model.\n"
          ]
        }
      ]
    },
    {
      "cell_type": "code",
      "source": [],
      "metadata": {
        "id": "Tiep6ki_14dv"
      },
      "id": "Tiep6ki_14dv",
      "execution_count": null,
      "outputs": []
    }
  ],
  "metadata": {
    "kernelspec": {
      "display_name": "Python 3 (ipykernel)",
      "language": "python",
      "name": "python3"
    },
    "language_info": {
      "codemirror_mode": {
        "name": "ipython",
        "version": 3
      },
      "file_extension": ".py",
      "mimetype": "text/x-python",
      "name": "python",
      "nbconvert_exporter": "python",
      "pygments_lexer": "ipython3",
      "version": "3.10.2"
    },
    "colab": {
      "provenance": [],
      "collapsed_sections": [],
      "include_colab_link": true
    }
  },
  "nbformat": 4,
  "nbformat_minor": 5
}