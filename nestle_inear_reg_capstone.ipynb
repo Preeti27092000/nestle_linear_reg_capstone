{
  "cells": [
    {
      "cell_type": "markdown",
      "metadata": {
        "id": "view-in-github",
        "colab_type": "text"
      },
      "source": [
        "<a href=\"https://colab.research.google.com/github/Preeti27092000/nestle_linear_reg_capstone/blob/main/nestle_inear_reg_capstone.ipynb\" target=\"_parent\"><img src=\"https://colab.research.google.com/assets/colab-badge.svg\" alt=\"Open In Colab\"/></a>"
      ]
    },
    {
      "cell_type": "markdown",
      "id": "b51fe18e",
      "metadata": {
        "id": "b51fe18e"
      },
      "source": [
        "# NESTLE INDIA STOCK PRICE PREDICTION ALGORITHM "
      ]
    },
    {
      "cell_type": "markdown",
      "id": "aaa1580d",
      "metadata": {
        "id": "aaa1580d"
      },
      "source": [
        "**Nestlé India Limited is the Indian subsidiary of Nestlé which is a Swiss multinational company.The company's products include food, beverages, chocolate, and confectioneries.**"
      ]
    },
    {
      "cell_type": "markdown",
      "id": "479d5d6c",
      "metadata": {
        "id": "479d5d6c"
      },
      "source": [
        "## Problem Statement"
      ]
    },
    {
      "cell_type": "markdown",
      "id": "5b65bdfb",
      "metadata": {
        "id": "5b65bdfb"
      },
      "source": [
        "**Here we are working to predict Nestle stock price on the basis of data we collected from the day 1 when it entered into Stock \n",
        "market. On the basis of different external factors and past behaviour of data we need to predict how it will perform in specific condition.**"
      ]
    },
    {
      "cell_type": "markdown",
      "id": "f39ad576",
      "metadata": {
        "id": "f39ad576"
      },
      "source": [
        "## Approach"
      ]
    },
    {
      "cell_type": "markdown",
      "id": "540e4667",
      "metadata": {
        "id": "540e4667"
      },
      "source": [
        "**As this problem predicts stock price it is numerical category problem where result can be any number, hence it is Continuous\n",
        "distribution problem where we can apply Linear Regression Algorithm.Here we will also try to consider the effect of Time Series analysis and economic factors.**"
      ]
    },
    {
      "cell_type": "markdown",
      "id": "fcbd3dda",
      "metadata": {
        "id": "fcbd3dda"
      },
      "source": [
        "## Steps are as follows : "
      ]
    },
    {
      "cell_type": "markdown",
      "id": "dadacb50",
      "metadata": {
        "id": "dadacb50"
      },
      "source": [
        "## 1. Import necessary libraries "
      ]
    },
    {
      "cell_type": "code",
      "execution_count": null,
      "id": "6a291689",
      "metadata": {
        "id": "6a291689"
      },
      "outputs": [],
      "source": [
        "# pandas = used to load and read data\n",
        "import pandas as pd\n",
        "# numpy = used to do calculation between dataframe columns\n",
        "import numpy as np\n",
        "# matplotlib.pyplot = used to visualise data using various graph methods available in it\n",
        "import matplotlib.pyplot as plt"
      ]
    },
    {
      "cell_type": "markdown",
      "id": "b0043a70",
      "metadata": {
        "id": "b0043a70"
      },
      "source": [
        "## 2. Load and read data"
      ]
    },
    {
      "cell_type": "code",
      "execution_count": null,
      "id": "f86c3c34",
      "metadata": {
        "id": "f86c3c34",
        "outputId": "35fe8e8e-bcdf-4142-fa84-16d5cb05cc94"
      },
      "outputs": [
        {
          "data": {
            "text/html": [
              "<div>\n",
              "<style scoped>\n",
              "    .dataframe tbody tr th:only-of-type {\n",
              "        vertical-align: middle;\n",
              "    }\n",
              "\n",
              "    .dataframe tbody tr th {\n",
              "        vertical-align: top;\n",
              "    }\n",
              "\n",
              "    .dataframe thead th {\n",
              "        text-align: right;\n",
              "    }\n",
              "</style>\n",
              "<table border=\"1\" class=\"dataframe\">\n",
              "  <thead>\n",
              "    <tr style=\"text-align: right;\">\n",
              "      <th></th>\n",
              "      <th>Date</th>\n",
              "      <th>Open</th>\n",
              "      <th>High</th>\n",
              "      <th>Low</th>\n",
              "      <th>Close</th>\n",
              "      <th>Adj Close</th>\n",
              "      <th>Volume</th>\n",
              "    </tr>\n",
              "  </thead>\n",
              "  <tbody>\n",
              "    <tr>\n",
              "      <th>0</th>\n",
              "      <td>2002-08-12</td>\n",
              "      <td>508.100006</td>\n",
              "      <td>512.549988</td>\n",
              "      <td>505.000000</td>\n",
              "      <td>505.149994</td>\n",
              "      <td>415.997742</td>\n",
              "      <td>7100.0</td>\n",
              "    </tr>\n",
              "    <tr>\n",
              "      <th>1</th>\n",
              "      <td>2002-08-13</td>\n",
              "      <td>503.500000</td>\n",
              "      <td>515.000000</td>\n",
              "      <td>503.500000</td>\n",
              "      <td>509.049988</td>\n",
              "      <td>419.209534</td>\n",
              "      <td>8800.0</td>\n",
              "    </tr>\n",
              "    <tr>\n",
              "      <th>2</th>\n",
              "      <td>2002-08-14</td>\n",
              "      <td>502.100006</td>\n",
              "      <td>515.000000</td>\n",
              "      <td>502.100006</td>\n",
              "      <td>514.400024</td>\n",
              "      <td>423.615234</td>\n",
              "      <td>18700.0</td>\n",
              "    </tr>\n",
              "    <tr>\n",
              "      <th>3</th>\n",
              "      <td>2002-08-15</td>\n",
              "      <td>514.400024</td>\n",
              "      <td>514.400024</td>\n",
              "      <td>514.400024</td>\n",
              "      <td>514.400024</td>\n",
              "      <td>423.615234</td>\n",
              "      <td>0.0</td>\n",
              "    </tr>\n",
              "    <tr>\n",
              "      <th>4</th>\n",
              "      <td>2002-08-16</td>\n",
              "      <td>516.000000</td>\n",
              "      <td>516.849976</td>\n",
              "      <td>510.000000</td>\n",
              "      <td>511.000000</td>\n",
              "      <td>420.815247</td>\n",
              "      <td>9400.0</td>\n",
              "    </tr>\n",
              "  </tbody>\n",
              "</table>\n",
              "</div>"
            ],
            "text/plain": [
              "         Date        Open        High         Low       Close   Adj Close  \\\n",
              "0  2002-08-12  508.100006  512.549988  505.000000  505.149994  415.997742   \n",
              "1  2002-08-13  503.500000  515.000000  503.500000  509.049988  419.209534   \n",
              "2  2002-08-14  502.100006  515.000000  502.100006  514.400024  423.615234   \n",
              "3  2002-08-15  514.400024  514.400024  514.400024  514.400024  423.615234   \n",
              "4  2002-08-16  516.000000  516.849976  510.000000  511.000000  420.815247   \n",
              "\n",
              "    Volume  \n",
              "0   7100.0  \n",
              "1   8800.0  \n",
              "2  18700.0  \n",
              "3      0.0  \n",
              "4   9400.0  "
            ]
          },
          "execution_count": 11,
          "metadata": {},
          "output_type": "execute_result"
        }
      ],
      "source": [
        "# read the csv file \n",
        "df_nestle = pd.read_csv('NESTLEIND_daily_full.csv')\n",
        "# check 1st five rows of each column of dataframe\n",
        "df_nestle.head()"
      ]
    },
    {
      "cell_type": "markdown",
      "id": "0736b634",
      "metadata": {
        "id": "0736b634"
      },
      "source": [
        "## 3. Data Profiling"
      ]
    },
    {
      "cell_type": "code",
      "execution_count": null,
      "id": "45b5a13e",
      "metadata": {
        "id": "45b5a13e",
        "outputId": "962bd1e6-63df-4377-ff0f-771cecc36342"
      },
      "outputs": [
        {
          "data": {
            "text/plain": [
              "(4826, 7)"
            ]
          },
          "execution_count": 8,
          "metadata": {},
          "output_type": "execute_result"
        }
      ],
      "source": [
        "# to check the shape of the dataframe\n",
        "# returns as (rows,columns)\n",
        "df_nestle.shape"
      ]
    },
    {
      "cell_type": "markdown",
      "id": "97f1750b",
      "metadata": {
        "id": "97f1750b"
      },
      "source": [
        "**--> There are 4826 observations (rows) and 7 features (columns) in dataframe.**"
      ]
    },
    {
      "cell_type": "code",
      "execution_count": null,
      "id": "bd79ded1",
      "metadata": {
        "id": "bd79ded1",
        "outputId": "e12f6a74-a767-4a64-a85b-92bf19fc9582"
      },
      "outputs": [
        {
          "data": {
            "text/plain": [
              "Index(['Date', 'Open', 'High', 'Low', 'Close', 'Adj Close', 'Volume'], dtype='object')"
            ]
          },
          "execution_count": 40,
          "metadata": {},
          "output_type": "execute_result"
        }
      ],
      "source": [
        "# to get the name of each column\n",
        "df_nestle.columns"
      ]
    },
    {
      "cell_type": "code",
      "execution_count": null,
      "id": "46013020",
      "metadata": {
        "id": "46013020",
        "outputId": "62c1f362-f829-446c-8101-01624c5056e0"
      },
      "outputs": [
        {
          "name": "stdout",
          "output_type": "stream",
          "text": [
            "<class 'pandas.core.frame.DataFrame'>\n",
            "RangeIndex: 4826 entries, 0 to 4825\n",
            "Data columns (total 7 columns):\n",
            " #   Column     Non-Null Count  Dtype  \n",
            "---  ------     --------------  -----  \n",
            " 0   Date       4826 non-null   object \n",
            " 1   Open       4819 non-null   float64\n",
            " 2   High       4819 non-null   float64\n",
            " 3   Low        4819 non-null   float64\n",
            " 4   Close      4819 non-null   float64\n",
            " 5   Adj Close  4819 non-null   float64\n",
            " 6   Volume     4819 non-null   float64\n",
            "dtypes: float64(6), object(1)\n",
            "memory usage: 264.0+ KB\n"
          ]
        }
      ],
      "source": [
        "# to get the information about the data\n",
        "# it will return column name and its datatypes as well number of rows where each cell contains some value(non-null number)\n",
        "df_nestle.info()"
      ]
    },
    {
      "cell_type": "markdown",
      "id": "d09f677d",
      "metadata": {
        "id": "d09f677d"
      },
      "source": [
        "**--> Here we can see there can be null values except 'Date' column**"
      ]
    },
    {
      "cell_type": "code",
      "execution_count": null,
      "id": "5ffc0ec1",
      "metadata": {
        "id": "5ffc0ec1",
        "outputId": "8420fb5e-302f-41ab-c655-efd2e022828e"
      },
      "outputs": [
        {
          "data": {
            "text/html": [
              "<div>\n",
              "<style scoped>\n",
              "    .dataframe tbody tr th:only-of-type {\n",
              "        vertical-align: middle;\n",
              "    }\n",
              "\n",
              "    .dataframe tbody tr th {\n",
              "        vertical-align: top;\n",
              "    }\n",
              "\n",
              "    .dataframe thead th {\n",
              "        text-align: right;\n",
              "    }\n",
              "</style>\n",
              "<table border=\"1\" class=\"dataframe\">\n",
              "  <thead>\n",
              "    <tr style=\"text-align: right;\">\n",
              "      <th></th>\n",
              "      <th>Open</th>\n",
              "      <th>High</th>\n",
              "      <th>Low</th>\n",
              "      <th>Close</th>\n",
              "      <th>Adj Close</th>\n",
              "      <th>Volume</th>\n",
              "    </tr>\n",
              "  </thead>\n",
              "  <tbody>\n",
              "    <tr>\n",
              "      <th>count</th>\n",
              "      <td>4819.000000</td>\n",
              "      <td>4819.000000</td>\n",
              "      <td>4819.000000</td>\n",
              "      <td>4819.000000</td>\n",
              "      <td>4819.000000</td>\n",
              "      <td>4.819000e+03</td>\n",
              "    </tr>\n",
              "    <tr>\n",
              "      <th>mean</th>\n",
              "      <td>5204.690766</td>\n",
              "      <td>5260.786466</td>\n",
              "      <td>5145.069648</td>\n",
              "      <td>5201.452563</td>\n",
              "      <td>4838.138436</td>\n",
              "      <td>3.469234e+04</td>\n",
              "    </tr>\n",
              "    <tr>\n",
              "      <th>std</th>\n",
              "      <td>5292.899033</td>\n",
              "      <td>5349.956141</td>\n",
              "      <td>5229.311467</td>\n",
              "      <td>5289.042545</td>\n",
              "      <td>5162.053461</td>\n",
              "      <td>6.186095e+04</td>\n",
              "    </tr>\n",
              "    <tr>\n",
              "      <th>min</th>\n",
              "      <td>502.100006</td>\n",
              "      <td>512.549988</td>\n",
              "      <td>498.049988</td>\n",
              "      <td>505.149994</td>\n",
              "      <td>415.997742</td>\n",
              "      <td>0.000000e+00</td>\n",
              "    </tr>\n",
              "    <tr>\n",
              "      <th>25%</th>\n",
              "      <td>527.049988</td>\n",
              "      <td>527.049988</td>\n",
              "      <td>527.049988</td>\n",
              "      <td>527.049988</td>\n",
              "      <td>441.999664</td>\n",
              "      <td>0.000000e+00</td>\n",
              "    </tr>\n",
              "    <tr>\n",
              "      <th>50%</th>\n",
              "      <td>4436.000000</td>\n",
              "      <td>4479.000000</td>\n",
              "      <td>4396.000000</td>\n",
              "      <td>4434.000000</td>\n",
              "      <td>3875.172607</td>\n",
              "      <td>1.450600e+04</td>\n",
              "    </tr>\n",
              "    <tr>\n",
              "      <th>75%</th>\n",
              "      <td>6801.350098</td>\n",
              "      <td>6860.125000</td>\n",
              "      <td>6725.125000</td>\n",
              "      <td>6795.324951</td>\n",
              "      <td>6184.599853</td>\n",
              "      <td>4.544950e+04</td>\n",
              "    </tr>\n",
              "    <tr>\n",
              "      <th>max</th>\n",
              "      <td>20450.000000</td>\n",
              "      <td>20609.150391</td>\n",
              "      <td>20230.000000</td>\n",
              "      <td>20457.199219</td>\n",
              "      <td>20164.644531</td>\n",
              "      <td>1.106746e+06</td>\n",
              "    </tr>\n",
              "  </tbody>\n",
              "</table>\n",
              "</div>"
            ],
            "text/plain": [
              "               Open          High           Low         Close     Adj Close  \\\n",
              "count   4819.000000   4819.000000   4819.000000   4819.000000   4819.000000   \n",
              "mean    5204.690766   5260.786466   5145.069648   5201.452563   4838.138436   \n",
              "std     5292.899033   5349.956141   5229.311467   5289.042545   5162.053461   \n",
              "min      502.100006    512.549988    498.049988    505.149994    415.997742   \n",
              "25%      527.049988    527.049988    527.049988    527.049988    441.999664   \n",
              "50%     4436.000000   4479.000000   4396.000000   4434.000000   3875.172607   \n",
              "75%     6801.350098   6860.125000   6725.125000   6795.324951   6184.599853   \n",
              "max    20450.000000  20609.150391  20230.000000  20457.199219  20164.644531   \n",
              "\n",
              "             Volume  \n",
              "count  4.819000e+03  \n",
              "mean   3.469234e+04  \n",
              "std    6.186095e+04  \n",
              "min    0.000000e+00  \n",
              "25%    0.000000e+00  \n",
              "50%    1.450600e+04  \n",
              "75%    4.544950e+04  \n",
              "max    1.106746e+06  "
            ]
          },
          "execution_count": 17,
          "metadata": {},
          "output_type": "execute_result"
        }
      ],
      "source": [
        "# to check the basic statistics of each column\n",
        "# count = Number of rows where element is present\n",
        "# mean  = average\n",
        "# std = Standard deviation used to know in what range and how far data is distributed\n",
        "# min = minimum value\n",
        "# 25% = 1st quartile which means 25% of the data is below the q1 value\n",
        "# 50% = 2nd quartile which means 50% of the data is below the q2 value (median)\n",
        "# 75% = 3rd quartile which means 75% of the data is below the q3 value\n",
        "# max = maximum value of the data \n",
        "df_nestle.describe()"
      ]
    },
    {
      "cell_type": "markdown",
      "id": "a0703419",
      "metadata": {
        "id": "a0703419"
      },
      "source": [
        "**--> Here we can see there are most columns present where mean and median are almost at same range. But if we find large difference between mean and median, then there are chanced to have outliers.**\n",
        "\n",
        "**--> Outliers are nothing but extremely high or low values which are out of range of column and it affects mean value** "
      ]
    },
    {
      "cell_type": "markdown",
      "id": "4bebd15a",
      "metadata": {
        "id": "4bebd15a"
      },
      "source": [
        "**[*] Value counts of categorical column**\n",
        "\n",
        "\n",
        "**--> No need to do this as only column 'Date' is categorical**"
      ]
    },
    {
      "cell_type": "markdown",
      "id": "925c409b",
      "metadata": {
        "id": "925c409b"
      },
      "source": [
        "**[*] Drop unnecessary column say Adj Close**"
      ]
    },
    {
      "cell_type": "code",
      "execution_count": null,
      "id": "80153ede",
      "metadata": {
        "id": "80153ede"
      },
      "outputs": [],
      "source": [
        "df_nestle.drop('Adj Close',axis = 1,inplace = True)"
      ]
    },
    {
      "cell_type": "markdown",
      "id": "3bb001fd",
      "metadata": {
        "id": "3bb001fd"
      },
      "source": [
        "**[*] Check null values**"
      ]
    },
    {
      "cell_type": "code",
      "execution_count": null,
      "id": "8cee5b13",
      "metadata": {
        "id": "8cee5b13",
        "outputId": "7e52657b-3d3e-4798-b834-66b9cd1a76c7"
      },
      "outputs": [
        {
          "data": {
            "text/plain": [
              "Date      0\n",
              "Open      7\n",
              "High      7\n",
              "Low       7\n",
              "Close     7\n",
              "Volume    7\n",
              "dtype: int64"
            ]
          },
          "execution_count": 43,
          "metadata": {},
          "output_type": "execute_result"
        }
      ],
      "source": [
        "# isnull() = checks is there any null value row-wise, returns True if there are null values\n",
        "# sum() = gives sum of rows where there is null value\n",
        "df_nestle.isnull().sum()"
      ]
    },
    {
      "cell_type": "markdown",
      "id": "b96be387",
      "metadata": {
        "id": "b96be387"
      },
      "source": [
        "**--> All columns have null values except 'Date' column.**\n",
        "\n",
        "**As this data and project is connected to finance, it is not appropriate to drop null value rows as it can be very important\n",
        "event to look upon**"
      ]
    },
    {
      "cell_type": "code",
      "execution_count": null,
      "id": "39a8b7b2",
      "metadata": {
        "id": "39a8b7b2",
        "outputId": "209aef3b-63df-4854-9f0d-db302fc62411"
      },
      "outputs": [
        {
          "data": {
            "text/html": [
              "<div>\n",
              "<style scoped>\n",
              "    .dataframe tbody tr th:only-of-type {\n",
              "        vertical-align: middle;\n",
              "    }\n",
              "\n",
              "    .dataframe tbody tr th {\n",
              "        vertical-align: top;\n",
              "    }\n",
              "\n",
              "    .dataframe thead th {\n",
              "        text-align: right;\n",
              "    }\n",
              "</style>\n",
              "<table border=\"1\" class=\"dataframe\">\n",
              "  <thead>\n",
              "    <tr style=\"text-align: right;\">\n",
              "      <th></th>\n",
              "      <th>Date</th>\n",
              "      <th>Open</th>\n",
              "      <th>High</th>\n",
              "      <th>Low</th>\n",
              "      <th>Close</th>\n",
              "      <th>Adj Close</th>\n",
              "      <th>Volume</th>\n",
              "    </tr>\n",
              "  </thead>\n",
              "  <tbody>\n",
              "    <tr>\n",
              "      <th>1883</th>\n",
              "      <td>2010-02-06</td>\n",
              "      <td>NaN</td>\n",
              "      <td>NaN</td>\n",
              "      <td>NaN</td>\n",
              "      <td>NaN</td>\n",
              "      <td>NaN</td>\n",
              "      <td>NaN</td>\n",
              "    </tr>\n",
              "    <tr>\n",
              "      <th>2361</th>\n",
              "      <td>2012-01-07</td>\n",
              "      <td>NaN</td>\n",
              "      <td>NaN</td>\n",
              "      <td>NaN</td>\n",
              "      <td>NaN</td>\n",
              "      <td>NaN</td>\n",
              "      <td>NaN</td>\n",
              "    </tr>\n",
              "    <tr>\n",
              "      <th>2400</th>\n",
              "      <td>2012-03-03</td>\n",
              "      <td>NaN</td>\n",
              "      <td>NaN</td>\n",
              "      <td>NaN</td>\n",
              "      <td>NaN</td>\n",
              "      <td>NaN</td>\n",
              "      <td>NaN</td>\n",
              "    </tr>\n",
              "    <tr>\n",
              "      <th>2530</th>\n",
              "      <td>2012-09-08</td>\n",
              "      <td>NaN</td>\n",
              "      <td>NaN</td>\n",
              "      <td>NaN</td>\n",
              "      <td>NaN</td>\n",
              "      <td>NaN</td>\n",
              "      <td>NaN</td>\n",
              "    </tr>\n",
              "    <tr>\n",
              "      <th>2572</th>\n",
              "      <td>2012-11-11</td>\n",
              "      <td>NaN</td>\n",
              "      <td>NaN</td>\n",
              "      <td>NaN</td>\n",
              "      <td>NaN</td>\n",
              "      <td>NaN</td>\n",
              "      <td>NaN</td>\n",
              "    </tr>\n",
              "    <tr>\n",
              "      <th>2909</th>\n",
              "      <td>2014-03-22</td>\n",
              "      <td>NaN</td>\n",
              "      <td>NaN</td>\n",
              "      <td>NaN</td>\n",
              "      <td>NaN</td>\n",
              "      <td>NaN</td>\n",
              "      <td>NaN</td>\n",
              "    </tr>\n",
              "    <tr>\n",
              "      <th>3138</th>\n",
              "      <td>2015-02-28</td>\n",
              "      <td>NaN</td>\n",
              "      <td>NaN</td>\n",
              "      <td>NaN</td>\n",
              "      <td>NaN</td>\n",
              "      <td>NaN</td>\n",
              "      <td>NaN</td>\n",
              "    </tr>\n",
              "  </tbody>\n",
              "</table>\n",
              "</div>"
            ],
            "text/plain": [
              "            Date  Open  High  Low  Close  Adj Close  Volume\n",
              "1883  2010-02-06   NaN   NaN  NaN    NaN        NaN     NaN\n",
              "2361  2012-01-07   NaN   NaN  NaN    NaN        NaN     NaN\n",
              "2400  2012-03-03   NaN   NaN  NaN    NaN        NaN     NaN\n",
              "2530  2012-09-08   NaN   NaN  NaN    NaN        NaN     NaN\n",
              "2572  2012-11-11   NaN   NaN  NaN    NaN        NaN     NaN\n",
              "2909  2014-03-22   NaN   NaN  NaN    NaN        NaN     NaN\n",
              "3138  2015-02-28   NaN   NaN  NaN    NaN        NaN     NaN"
            ]
          },
          "execution_count": 29,
          "metadata": {},
          "output_type": "execute_result"
        }
      ],
      "source": [
        "null_rows = df_nestle.loc[df_nestle.isna().any(axis = 1)]\n",
        "null_rows"
      ]
    },
    {
      "cell_type": "code",
      "execution_count": null,
      "id": "a75edb23",
      "metadata": {
        "id": "a75edb23",
        "outputId": "30ba449c-a253-4168-e570-3b6c3e5d2b2a"
      },
      "outputs": [
        {
          "data": {
            "text/plain": [
              "Date       2010-02-06\n",
              "Open           2576.0\n",
              "High           2627.0\n",
              "Low            2506.0\n",
              "Close     2597.300049\n",
              "Volume         4916.0\n",
              "Name: 1883, dtype: object"
            ]
          },
          "execution_count": 74,
          "metadata": {},
          "output_type": "execute_result"
        }
      ],
      "source": [
        "a1 = df_nestle.iloc[1882]\n",
        "a2 = df_nestle.iloc[1883]\n",
        "a3 = df_nestle.iloc[1884]\n",
        "b1 = (a1['Open'] + a3['Open'])/2\n",
        "b2 = (a1['High'] + a3['High'])/2\n",
        "b3 = (a1['Low'] + a3['Low'])/2\n",
        "b4 = (a1['Close'] + a3['Close'])/2\n",
        "b5= (a1['Volume'] + a3['Volume'])/2\n",
        "\n",
        "df_nestle.iloc[1883] = {'Date':'2010-02-06','Open':b1,'High':b2,'Low':b3,'Close':b4,'Volume':b5}\n",
        "df_nestle.iloc[1883]"
      ]
    },
    {
      "cell_type": "code",
      "execution_count": null,
      "id": "32e8ef38",
      "metadata": {
        "id": "32e8ef38",
        "outputId": "296a3cce-4714-419a-e277-868ad9b413e0"
      },
      "outputs": [
        {
          "data": {
            "text/plain": [
              "Date      2010-02-06\n",
              "Open         4123.25\n",
              "High          4148.5\n",
              "Low           4082.5\n",
              "Close       4117.375\n",
              "Volume       16805.5\n",
              "Name: 2361, dtype: object"
            ]
          },
          "execution_count": 75,
          "metadata": {},
          "output_type": "execute_result"
        }
      ],
      "source": [
        "a1 = df_nestle.iloc[2360]\n",
        "a2 = df_nestle.iloc[2361]\n",
        "a3 = df_nestle.iloc[2362]\n",
        "b1 = (a1['Open'] + a3['Open'])/2\n",
        "b2 = (a1['High'] + a3['High'])/2\n",
        "b3 = (a1['Low'] + a3['Low'])/2\n",
        "b4 = (a1['Close'] + a3['Close'])/2\n",
        "b5= (a1['Volume'] + a3['Volume'])/2\n",
        "\n",
        "df_nestle.iloc[2361] = {'Date':'2010-02-06','Open':b1,'High':b2,'Low':b3,'Close':b4,'Volume':b5}\n",
        "df_nestle.iloc[2361]"
      ]
    },
    {
      "cell_type": "code",
      "execution_count": null,
      "id": "05d3fe9f",
      "metadata": {
        "id": "05d3fe9f",
        "outputId": "302cd418-14be-4654-bc4f-17b10cfc3cfb"
      },
      "outputs": [
        {
          "data": {
            "text/plain": [
              "Date       2010-02-06\n",
              "Open      4449.175049\n",
              "High      4489.475098\n",
              "Low       4379.199951\n",
              "Close     4439.324951\n",
              "Volume        26614.0\n",
              "Name: 2400, dtype: object"
            ]
          },
          "execution_count": 76,
          "metadata": {},
          "output_type": "execute_result"
        }
      ],
      "source": [
        "a1 = df_nestle.iloc[2399]\n",
        "a2 = df_nestle.iloc[2400]\n",
        "a3 = df_nestle.iloc[2401]\n",
        "b1 = (a1['Open'] + a3['Open'])/2\n",
        "b2 = (a1['High'] + a3['High'])/2\n",
        "b3 = (a1['Low'] + a3['Low'])/2\n",
        "b4 = (a1['Close'] + a3['Close'])/2\n",
        "b5= (a1['Volume'] + a3['Volume'])/2\n",
        "\n",
        "df_nestle.iloc[2400] = {'Date':'2010-02-06','Open':b1,'High':b2,'Low':b3,'Close':b4,'Volume':b5}\n",
        "df_nestle.iloc[2400]"
      ]
    },
    {
      "cell_type": "code",
      "execution_count": null,
      "id": "f5f4c7f0",
      "metadata": {
        "id": "f5f4c7f0",
        "outputId": "37d4bf69-b4e4-49f8-ac32-c9a4b49d7630"
      },
      "outputs": [
        {
          "data": {
            "text/plain": [
              "Date       2010-02-06\n",
              "Open      4648.899902\n",
              "High      4658.399902\n",
              "Low            4577.5\n",
              "Close         4596.25\n",
              "Volume        66783.5\n",
              "Name: 2530, dtype: object"
            ]
          },
          "execution_count": 77,
          "metadata": {},
          "output_type": "execute_result"
        }
      ],
      "source": [
        "a1 = df_nestle.iloc[2529]\n",
        "a2 = df_nestle.iloc[2530]\n",
        "a3 = df_nestle.iloc[2531]\n",
        "b1 = (a1['Open'] + a3['Open'])/2\n",
        "b2 = (a1['High'] + a3['High'])/2\n",
        "b3 = (a1['Low'] + a3['Low'])/2\n",
        "b4 = (a1['Close'] + a3['Close'])/2\n",
        "b5= (a1['Volume'] + a3['Volume'])/2\n",
        "\n",
        "df_nestle.iloc[2530] = {'Date':'2010-02-06','Open':b1,'High':b2,'Low':b3,'Close':b4,'Volume':b5}\n",
        "df_nestle.iloc[2530]"
      ]
    },
    {
      "cell_type": "code",
      "execution_count": null,
      "id": "4be8d3fd",
      "metadata": {
        "id": "4be8d3fd",
        "outputId": "71d2f8a0-5391-4866-a7e1-7604f3b9e317"
      },
      "outputs": [
        {
          "data": {
            "text/plain": [
              "Date       2010-02-06\n",
              "Open      4884.975098\n",
              "High           4910.0\n",
              "Low       4824.975098\n",
              "Close     4833.099853\n",
              "Volume         6509.5\n",
              "Name: 2572, dtype: object"
            ]
          },
          "execution_count": 78,
          "metadata": {},
          "output_type": "execute_result"
        }
      ],
      "source": [
        "a1 = df_nestle.iloc[2571]\n",
        "a2 = df_nestle.iloc[2572]\n",
        "a3 = df_nestle.iloc[2573]\n",
        "b1 = (a1['Open'] + a3['Open'])/2\n",
        "b2 = (a1['High'] + a3['High'])/2\n",
        "b3 = (a1['Low'] + a3['Low'])/2\n",
        "b4 = (a1['Close'] + a3['Close'])/2\n",
        "b5= (a1['Volume'] + a3['Volume'])/2\n",
        "\n",
        "df_nestle.iloc[2572] = {'Date':'2010-02-06','Open':b1,'High':b2,'Low':b3,'Close':b4,'Volume':b5}\n",
        "df_nestle.iloc[2572]"
      ]
    },
    {
      "cell_type": "code",
      "execution_count": null,
      "id": "b5c41a60",
      "metadata": {
        "id": "b5c41a60",
        "outputId": "28cff11f-e677-42a2-d61a-b3a2bb74b2a6"
      },
      "outputs": [
        {
          "data": {
            "text/plain": [
              "Date       2010-02-06\n",
              "Open           4800.0\n",
              "High      4829.899902\n",
              "Low            4713.0\n",
              "Close     4726.349853\n",
              "Volume        28163.5\n",
              "Name: 2909, dtype: object"
            ]
          },
          "execution_count": 79,
          "metadata": {},
          "output_type": "execute_result"
        }
      ],
      "source": [
        "a1 = df_nestle.iloc[2908]\n",
        "a2 = df_nestle.iloc[2909]\n",
        "a3 = df_nestle.iloc[2910]\n",
        "b1 = (a1['Open'] + a3['Open'])/2\n",
        "b2 = (a1['High'] + a3['High'])/2\n",
        "b3 = (a1['Low'] + a3['Low'])/2\n",
        "b4 = (a1['Close'] + a3['Close'])/2\n",
        "b5= (a1['Volume'] + a3['Volume'])/2\n",
        "\n",
        "df_nestle.iloc[2909] = {'Date':'2010-02-06','Open':b1,'High':b2,'Low':b3,'Close':b4,'Volume':b5}\n",
        "df_nestle.iloc[2909]"
      ]
    },
    {
      "cell_type": "code",
      "execution_count": null,
      "id": "ac9d4c37",
      "metadata": {
        "id": "ac9d4c37",
        "outputId": "682e3660-c429-4164-a866-c50d5b92215f"
      },
      "outputs": [
        {
          "data": {
            "text/plain": [
              "Date       2010-02-06\n",
              "Open      7047.274902\n",
              "High      7054.399902\n",
              "Low       6974.725098\n",
              "Close     7005.474853\n",
              "Volume        45861.0\n",
              "Name: 3138, dtype: object"
            ]
          },
          "execution_count": 80,
          "metadata": {},
          "output_type": "execute_result"
        }
      ],
      "source": [
        "a1 = df_nestle.iloc[3137]\n",
        "a2 = df_nestle.iloc[3138]\n",
        "a3 = df_nestle.iloc[3139]\n",
        "b1 = (a1['Open'] + a3['Open'])/2\n",
        "b2 = (a1['High'] + a3['High'])/2\n",
        "b3 = (a1['Low'] + a3['Low'])/2\n",
        "b4 = (a1['Close'] + a3['Close'])/2\n",
        "b5= (a1['Volume'] + a3['Volume'])/2\n",
        "\n",
        "df_nestle.iloc[3138] = {'Date':'2010-02-06','Open':b1,'High':b2,'Low':b3,'Close':b4,'Volume':b5}\n",
        "df_nestle.iloc[3138]"
      ]
    },
    {
      "cell_type": "code",
      "execution_count": null,
      "id": "cfba5033",
      "metadata": {
        "id": "cfba5033",
        "outputId": "e59a29b2-f47a-4202-c06a-baba906539d8"
      },
      "outputs": [
        {
          "data": {
            "text/plain": [
              "Date      0\n",
              "Open      0\n",
              "High      0\n",
              "Low       0\n",
              "Close     0\n",
              "Volume    0\n",
              "dtype: int64"
            ]
          },
          "execution_count": 84,
          "metadata": {},
          "output_type": "execute_result"
        }
      ],
      "source": [
        "df_nestle.isnull().sum()"
      ]
    },
    {
      "cell_type": "markdown",
      "id": "9f4e5d8c",
      "metadata": {
        "id": "9f4e5d8c"
      },
      "source": [
        "**Here we can see all null values are being replaced by the mean of previous row and successive row**"
      ]
    },
    {
      "cell_type": "markdown",
      "id": "91239045",
      "metadata": {
        "id": "91239045"
      },
      "source": [
        "## Detecting Outliers"
      ]
    },
    {
      "cell_type": "code",
      "execution_count": null,
      "id": "637d7c04",
      "metadata": {
        "id": "637d7c04",
        "outputId": "332ea5ac-e15d-4de3-a1a8-680dcdda5dc6"
      },
      "outputs": [
        {
          "data": {
            "text/plain": [
              "<AxesSubplot:>"
            ]
          },
          "execution_count": 88,
          "metadata": {},
          "output_type": "execute_result"
        },
        {
          "data": {
            "image/png": "[encoded data removed]",
            "text/plain": [
              "<Figure size 576x576 with 1 Axes>"
            ]
          },
          "metadata": {
            "needs_background": "light"
          },
          "output_type": "display_data"
        }
      ],
      "source": [
        "# by using rcParams and its method 'figure.figsize' we can adjust the length and breadh of the figure\n",
        "plt.rcParams['figure.figsize'] = [8,8]\n",
        "\n",
        "# using boxplot to check whether data columns has any outlier value\n",
        "# boxplot indicates maximum value,3rd quartile,median,1st quartile and minimum value with linea and whiskers\n",
        "# whereas circle shows outliers\n",
        "\n",
        "df_nestle_temp = df_nestle.copy()\n",
        "df_nestle_temp.drop('Volume',axis = 1,inplace = True)\n",
        "df_nestle_temp.boxplot()"
      ]
    },
    {
      "cell_type": "code",
      "execution_count": null,
      "id": "eb01f906",
      "metadata": {
        "id": "eb01f906"
      },
      "outputs": [],
      "source": [
        "q1 = np.percentile(df_nestle_temp['Open'],25)\n",
        "q3 = np.percentile(df_nestle_temp['Open'],75)\n",
        "iqr = q3 - q1\n",
        "low = q1 - 1.5*iqr\n",
        "high = q3 + 1.5*iqr"
      ]
    },
    {
      "cell_type": "code",
      "execution_count": null,
      "id": "379a2f2b",
      "metadata": {
        "id": "379a2f2b"
      },
      "outputs": [],
      "source": []
    },
    {
      "cell_type": "code",
      "execution_count": null,
      "id": "35bea560",
      "metadata": {
        "id": "35bea560"
      },
      "outputs": [],
      "source": []
    }
  ],
  "metadata": {
    "kernelspec": {
      "display_name": "Python 3 (ipykernel)",
      "language": "python",
      "name": "python3"
    },
    "language_info": {
      "codemirror_mode": {
        "name": "ipython",
        "version": 3
      },
      "file_extension": ".py",
      "mimetype": "text/x-python",
      "name": "python",
      "nbconvert_exporter": "python",
      "pygments_lexer": "ipython3",
      "version": "3.10.2"
    },
    "colab": {
      "provenance": [],
      "include_colab_link": true
    }
  },
  "nbformat": 4,
  "nbformat_minor": 5
}